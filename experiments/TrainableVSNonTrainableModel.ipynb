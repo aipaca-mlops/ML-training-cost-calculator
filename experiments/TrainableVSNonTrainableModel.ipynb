{
 "cells": [
  {
   "cell_type": "code",
   "execution_count": 1,
   "id": "b155a642",
   "metadata": {
    "execution": {
     "iopub.execute_input": "2021-07-05T20:15:59.952344Z",
     "iopub.status.busy": "2021-07-05T20:15:59.951922Z",
     "iopub.status.idle": "2021-07-05T20:16:02.185064Z",
     "shell.execute_reply": "2021-07-05T20:16:02.184118Z",
     "shell.execute_reply.started": "2021-07-05T20:15:59.952251Z"
    },
    "id": "85e0af52"
   },
   "outputs": [],
   "source": [
    "import pandas as pd\n",
    "import numpy as np\n",
    "import datetime as dt\n",
    "import os, json\n",
    "from tqdm import tqdm\n",
    "import os.path\n",
    "from pathlib import Path\n",
    "import glob\n",
    "import cv2\n",
    "import matplotlib.pyplot as plt\n",
    "import seaborn as sns\n",
    "from sklearn.preprocessing import LabelEncoder\n",
    "from tensorflow.keras.preprocessing.image import ImageDataGenerator, img_to_array, load_img\n",
    "from tensorflow.keras.callbacks import EarlyStopping\n",
    "from tensorflow.keras.models import Sequential\n",
    "from tensorflow.keras.layers import Conv2D, MaxPooling2D, Dropout, Flatten, Dense, BatchNormalization, GlobalAveragePooling2D, SpatialDropout2D\n",
    "from tensorflow.keras import layers\n",
    "from tensorflow.keras.applications.inception_v3 import InceptionV3\n",
    "from tensorflow.keras.applications.xception import Xception\n",
    "from tensorflow.keras.applications.vgg16 import VGG16\n",
    "from tensorflow.keras.applications.mobilenet import MobileNet\n",
    "from tensorflow.keras.optimizers import RMSprop\n",
    "from tensorflow.keras.models import Model\n",
    "from tensorflow.keras.utils import plot_model\n",
    "from sklearn.metrics import confusion_matrix, classification_report, recall_score, precision_score, f1_score, roc_auc_score, roc_curve\n",
    "from tensorflow.keras.preprocessing import image\n",
    "from PIL import Image\n",
    "from model_trainingtime_prediction.model_level_utils_cnn import convert_cnn2d_data, TimeHistory"
   ]
  },
  {
   "cell_type": "code",
   "execution_count": 2,
   "id": "ebf279b1",
   "metadata": {
    "colab": {
     "base_uri": "https://localhost:8080/"
    },
    "id": "3Vh0aA3VAWby",
    "outputId": "402fa04c-3790-40a4-8759-e39b102a35dc"
   },
   "outputs": [
    {
     "data": {
      "text/plain": [
       "{'timestamp': '2021/10/06 12:25:44.462',\n",
       " 'driver_version': '460.73.01',\n",
       " 'count': '1',\n",
       " 'name': 'Tesla P100-PCIE-16GB',\n",
       " 'pcie.link.width.max': '16',\n",
       " 'vbios_version': '86.00.52.00.02',\n",
       " 'memory.total [MiB]': '16280 MiB',\n",
       " 'temperature.gpu': '37'}"
      ]
     },
     "execution_count": 2,
     "metadata": {},
     "output_type": "execute_result"
    }
   ],
   "source": [
    "from model_trainingtime_prediction.env_detect import gpu_features, general_features\n",
    "\n",
    "gpu_features().get_features()"
   ]
  },
  {
   "cell_type": "markdown",
   "id": "6fed4c33",
   "metadata": {
    "id": "ZKAUaBVY5e5M"
   },
   "source": [
    "# CNN"
   ]
  },
  {
   "cell_type": "markdown",
   "id": "3c0232f4",
   "metadata": {
    "id": "0225d5e4"
   },
   "source": [
    "## Data"
   ]
  },
  {
   "cell_type": "code",
   "execution_count": null,
   "id": "ed94117b",
   "metadata": {
    "execution": {
     "iopub.execute_input": "2021-07-05T20:16:09.539906Z",
     "iopub.status.busy": "2021-07-05T20:16:09.539383Z",
     "iopub.status.idle": "2021-07-05T20:16:11.066955Z",
     "shell.execute_reply": "2021-07-05T20:16:11.065983Z",
     "shell.execute_reply.started": "2021-07-05T20:16:09.539864Z"
    },
    "id": "1f92ee88"
   },
   "outputs": [],
   "source": [
    "target_size = (128, 128, 3)\n",
    "batch_size = 256\n",
    "\n",
    "\n",
    "X_sample = np.ones((100, *target_size))\n",
    "Y_sample = np.ones(100)"
   ]
  },
  {
   "cell_type": "markdown",
   "id": "4d2673c5",
   "metadata": {
    "id": "102eecb2"
   },
   "source": [
    "## 6. Construction of the first model (ConvNet)\n",
    "\n",
    "CNNs are a specific type of artificial neural network that is very effective for image classification because they are able to take into account the spatial coherence of the image, that is, that pixels close to each other are often related.\n",
    "\n",
    "The construction of a CNN begins with specifying the model type. In our case, we will use a ``Sequential`` model.\n",
    "\n",
    "<p><img src = \"https://i.ibb.co/0jWhFsW/ConvNet.png\" alt></p>"
   ]
  },
  {
   "cell_type": "code",
   "execution_count": null,
   "id": "464a4acd",
   "metadata": {
    "id": "4f1e3760"
   },
   "outputs": [],
   "source": [
    "def Alex_model(compile_model=False):\n",
    "    from tensorflow.keras.models import Sequential\n",
    "    from tensorflow.keras.layers import Conv2D, MaxPooling2D, Dropout, Flatten, Dense, BatchNormalization, GlobalAveragePooling2D, SpatialDropout2D\n",
    "    #Instantiation\n",
    "    AlexNet = Sequential()\n",
    "\n",
    "    #1st Convolutional Layer\n",
    "    AlexNet.add(Conv2D(filters=96, input_shape=target_size, kernel_size=(11,11), strides=(4,4), padding='same', activation='relu'))\n",
    "    AlexNet.add(MaxPooling2D(pool_size=(2,2), strides=(2,2), padding='same'))\n",
    "\n",
    "    #2nd Convolutional Layer\n",
    "    AlexNet.add(Conv2D(filters=256, kernel_size=(5, 5), strides=(1,1), padding='same', activation='relu'))\n",
    "    AlexNet.add(MaxPooling2D(pool_size=(2,2), strides=(2,2), padding='same'))\n",
    "\n",
    "    #3rd Convolutional Layer\n",
    "    AlexNet.add(Conv2D(filters=384, kernel_size=(3,3), strides=(1,1), padding='same', activation='relu'))\n",
    "\n",
    "    #4th Convolutional Layer\n",
    "    AlexNet.add(Conv2D(filters=384, kernel_size=(3,3), strides=(1,1), padding='same', activation='relu'))\n",
    "\n",
    "    #5th Convolutional Layer\n",
    "    AlexNet.add(Conv2D(filters=256, kernel_size=(3,3), strides=(1,1), padding='same', activation='relu'))\n",
    "    AlexNet.add(MaxPooling2D(pool_size=(2,2), strides=(2,2), padding='same'))\n",
    "\n",
    "    #Passing it to a Fully Connected layer\n",
    "    AlexNet.add(Flatten())\n",
    "    # 1st Fully Connected Layer\n",
    "    AlexNet.add(Dense(4096, input_shape=(32,32,3,), activation='relu'))\n",
    "    # Add Dropout to prevent overfitting\n",
    "    AlexNet.add(Dropout(0.4))\n",
    "\n",
    "    #2nd Fully Connected Layer\n",
    "    AlexNet.add(Dense(4096, activation='relu'))\n",
    "    #Add Dropout\n",
    "    AlexNet.add(Dropout(0.4))\n",
    "\n",
    "    #3rd Fully Connected Layer\n",
    "    AlexNet.add(Dense(1000, activation='relu'))\n",
    "    #Add Dropout\n",
    "    AlexNet.add(Dropout(0.4))\n",
    "\n",
    "    #Output Layer\n",
    "    AlexNet.add(Dense(1, activation='softmax'))\n",
    "    \n",
    "    if compile_model:\n",
    "        AlexNet.compile(optimizer='adam', loss = 'binary_crossentropy', metrics = ['accuracy'])\n",
    "\n",
    "    return AlexNet\n",
    "\n",
    "    "
   ]
  },
  {
   "cell_type": "code",
   "execution_count": null,
   "id": "bed6dc85",
   "metadata": {
    "id": "af33e8c1"
   },
   "outputs": [],
   "source": [
    "def CNN():\n",
    "    CNN = Sequential()\n",
    "    CNN.add(Conv2D(32, (3, 3), input_shape = target_size, activation = 'relu'))\n",
    "    CNN.add(MaxPooling2D(pool_size = (2, 2)))\n",
    "    CNN.add(Conv2D(32, (3, 3), activation = 'relu'))\n",
    "    CNN.add(MaxPooling2D(pool_size = (2, 2)))\n",
    "    CNN.add(Conv2D(64, (3, 3), activation = 'relu'))\n",
    "    CNN.add(SpatialDropout2D(0.2))\n",
    "    CNN.add(MaxPooling2D(pool_size = (2, 2)))\n",
    "    CNN.add(Flatten())\n",
    "    CNN.add(Dense(units = 128, activation = 'relu'))\n",
    "    CNN.add(Dropout(0.2))\n",
    "    CNN.add(Dense(units = 1, activation = 'sigmoid'))\n",
    "    return CNN"
   ]
  },
  {
   "cell_type": "markdown",
   "id": "64ae1e05",
   "metadata": {
    "id": "1dc1c2f1"
   },
   "source": [
    "# All layers are trainable"
   ]
  },
  {
   "cell_type": "code",
   "execution_count": null,
   "id": "34e9d257",
   "metadata": {
    "id": "1f349c40"
   },
   "outputs": [],
   "source": [
    "model = Alex_model()"
   ]
  },
  {
   "cell_type": "code",
   "execution_count": null,
   "id": "e73a6fad",
   "metadata": {
    "colab": {
     "base_uri": "https://localhost:8080/"
    },
    "execution": {
     "iopub.execute_input": "2021-07-05T20:16:12.565917Z",
     "iopub.status.busy": "2021-07-05T20:16:12.565567Z",
     "iopub.status.idle": "2021-07-05T21:01:11.050397Z",
     "shell.execute_reply": "2021-07-05T21:01:11.049412Z",
     "shell.execute_reply.started": "2021-07-05T20:16:12.565884Z"
    },
    "id": "31bfd143",
    "outputId": "9bfab767-fe3f-4d02-f4ee-d3fc12f1cb3d"
   },
   "outputs": [],
   "source": [
    "# Callbacks\n",
    "\n",
    "time_callback_trainable = TimeHistory()\n",
    "\n",
    "# Compile\n",
    "model.compile(optimizer='adam', loss = 'binary_crossentropy', metrics = ['accuracy'])\n",
    "\n",
    "# Train\n",
    "model.fit(X_sample,Y_sample, batch_size = batch_size, epochs = 5, callbacks = [time_callback_trainable], verbose=False)\n"
   ]
  },
  {
   "cell_type": "markdown",
   "id": "78dfb7e4",
   "metadata": {
    "id": "79760000"
   },
   "source": [
    "# Non-trainable"
   ]
  },
  {
   "cell_type": "code",
   "execution_count": null,
   "id": "6306224c",
   "metadata": {
    "id": "c66cc75e"
   },
   "outputs": [],
   "source": [
    "model = Alex_model()\n",
    "for layer in model.layers:\n",
    "    layer.trainable = False"
   ]
  },
  {
   "cell_type": "code",
   "execution_count": null,
   "id": "fc58902d",
   "metadata": {
    "colab": {
     "base_uri": "https://localhost:8080/"
    },
    "id": "c59e4924",
    "outputId": "968f5de8-2c49-47e3-e6ba-b7314242b38b"
   },
   "outputs": [],
   "source": [
    "# Callbacks\n",
    "\n",
    "time_callback_non_trainable= TimeHistory()\n",
    "\n",
    "# Compile\n",
    "model.compile(optimizer='adam', loss = 'binary_crossentropy', metrics = ['accuracy'])\n",
    "\n",
    "# Train\n",
    "model.fit(X_sample,Y_sample, batch_size = batch_size, epochs = 5, callbacks = [time_callback_non_trainable], verbose=False)\n"
   ]
  },
  {
   "cell_type": "code",
   "execution_count": null,
   "id": "1db0e122",
   "metadata": {
    "colab": {
     "base_uri": "https://localhost:8080/"
    },
    "id": "bf50f256",
    "outputId": "d009be2f-34ba-46fc-a7fe-a24e7e91d592"
   },
   "outputs": [],
   "source": [
    "np.mean(time_callback_trainable.batch_times[1:])"
   ]
  },
  {
   "cell_type": "code",
   "execution_count": null,
   "id": "56a77ab9",
   "metadata": {
    "colab": {
     "base_uri": "https://localhost:8080/"
    },
    "id": "a763a370",
    "outputId": "47efa6fc-7a08-4925-f2b8-e1baff386290"
   },
   "outputs": [],
   "source": [
    "np.mean(time_callback_non_trainable.batch_times[1:])"
   ]
  },
  {
   "cell_type": "markdown",
   "id": "ff069321",
   "metadata": {
    "id": "a072f370"
   },
   "source": [
    "# Partially non-trainable"
   ]
  },
  {
   "cell_type": "code",
   "execution_count": null,
   "id": "cff64411",
   "metadata": {
    "colab": {
     "base_uri": "https://localhost:8080/"
    },
    "id": "18dd2a1d",
    "outputId": "d01ede03-caf5-4171-b7a4-98b607ec5600"
   },
   "outputs": [],
   "source": [
    "x = []\n",
    "y = []\n",
    "top_n = len(model.layers)\n",
    "for i in tqdm(range(top_n)):\n",
    "    x.append(i)\n",
    "    model = Alex_model()\n",
    "    for layer in model.layers[:i]:\n",
    "        layer.trainable = False\n",
    "    # Callbacks\n",
    "\n",
    "    time_callback_non_trainable= TimeHistory()\n",
    "\n",
    "    # Compile\n",
    "    model.compile(optimizer='adam', loss = 'binary_crossentropy', metrics = ['accuracy'])\n",
    "\n",
    "    # Train\n",
    "    model.fit(X_sample,Y_sample, batch_size = batch_size, epochs = 5, callbacks = [time_callback_non_trainable], verbose=False)\n",
    "    y.append(np.mean(time_callback_non_trainable.batch_times[1:]))\n",
    "    \n"
   ]
  },
  {
   "cell_type": "code",
   "execution_count": null,
   "id": "44459c0e",
   "metadata": {
    "id": "a6e0d08b"
   },
   "outputs": [],
   "source": [
    "layey_names = [' '.join(i.name.split('_')[:-1]) for i in model.layers]\n",
    "layey_names = ['all'] + layey_names\n",
    "layey_names = layey_names[:top_n]"
   ]
  },
  {
   "cell_type": "code",
   "execution_count": null,
   "id": "73299ac3",
   "metadata": {
    "colab": {
     "base_uri": "https://localhost:8080/",
     "height": 330
    },
    "id": "e9b1c336",
    "outputId": "cb55923f-d61d-400d-83f5-2b3734bda562"
   },
   "outputs": [],
   "source": [
    "plt.scatter(x, y)\n",
    "plt.xticks(x, layey_names, rotation=90)\n",
    "plt.show()"
   ]
  },
  {
   "cell_type": "markdown",
   "id": "a222158e",
   "metadata": {
    "id": "X0WUvjjS5hPa"
   },
   "source": [
    "# Dense"
   ]
  },
  {
   "cell_type": "code",
   "execution_count": null,
   "id": "ce81087c",
   "metadata": {
    "id": "vOEtdCJb5iFT"
   },
   "outputs": [],
   "source": [
    "def build_dense_model(layer_sizes, activations):\n",
    "    model_dense = Sequential()\n",
    "    for index, size in enumerate(layer_sizes):\n",
    "        model_dense.add(Dense(size, activation=activations[index]))\n",
    "    return model_dense"
   ]
  },
  {
   "cell_type": "code",
   "execution_count": null,
   "id": "ab1ff372",
   "metadata": {
    "id": "P22Ur0QG9hUT"
   },
   "outputs": [],
   "source": [
    "x_dense = np.ones((1000, 1000))\n",
    "y_dense = np.ones((1000, 1000))"
   ]
  },
  {
   "cell_type": "code",
   "execution_count": null,
   "id": "81d35291",
   "metadata": {
    "id": "tOF_FEPf9Kk-"
   },
   "outputs": [],
   "source": [
    "layer_sizes = [1000]*100\n",
    "activations = ['relu']*100\n",
    "optimizer = 'adam'\n",
    "loss = 'mae'\n",
    "dense = build_dense_model(layer_sizes, activations)\n",
    "dense.compile(loss=loss, optimizer=optimizer, metrics=['accuracy'])\n"
   ]
  },
  {
   "cell_type": "code",
   "execution_count": null,
   "id": "7a69731c",
   "metadata": {
    "colab": {
     "base_uri": "https://localhost:8080/"
    },
    "id": "Ozw-jzKv-Bpw",
    "outputId": "7c9e152c-27f2-4601-f880-72b86ee9c259"
   },
   "outputs": [],
   "source": [
    "time_callback_dense_trainable= TimeHistory()\n",
    "dense.fit(x_dense,y_dense, batch_size = batch_size, epochs = 1, callbacks = [time_callback_dense_trainable], verbose=False)"
   ]
  },
  {
   "cell_type": "code",
   "execution_count": null,
   "id": "a4ed25bc",
   "metadata": {
    "id": "8q-_wk7b-Put"
   },
   "outputs": [],
   "source": [
    "dense = build_dense_model(layer_sizes, activations)\n",
    "\n",
    "for layer in dense.layers:\n",
    "    layer.trainable = False\n",
    "dense.compile(loss=loss, optimizer=optimizer, metrics=['accuracy'])"
   ]
  },
  {
   "cell_type": "code",
   "execution_count": null,
   "id": "55e1d76c",
   "metadata": {
    "colab": {
     "base_uri": "https://localhost:8080/"
    },
    "id": "-a8-cRUG_NfW",
    "outputId": "89ac03e9-e43b-488c-8327-3a3aae62baa4"
   },
   "outputs": [],
   "source": [
    "time_callback_dense_non_trainable= TimeHistory()\n",
    "dense.fit(x_dense,y_dense, batch_size = batch_size, epochs = 1, callbacks = [time_callback_dense_non_trainable], verbose=False)"
   ]
  },
  {
   "cell_type": "code",
   "execution_count": null,
   "id": "ab045413",
   "metadata": {
    "colab": {
     "base_uri": "https://localhost:8080/"
    },
    "id": "hFxD0frN_TeO",
    "outputId": "8631f707-b5f3-43e6-a4ab-3396de1bb39a"
   },
   "outputs": [],
   "source": [
    "np.mean(time_callback_dense_trainable.batch_times[1:])"
   ]
  },
  {
   "cell_type": "code",
   "execution_count": null,
   "id": "9ec75e16",
   "metadata": {
    "colab": {
     "base_uri": "https://localhost:8080/"
    },
    "id": "rrYB4S0b_XNE",
    "outputId": "f207a36b-90df-4a81-b79c-5eb3a0c8da9f"
   },
   "outputs": [],
   "source": [
    "np.mean(time_callback_dense_non_trainable.batch_times[1:])"
   ]
  },
  {
   "cell_type": "markdown",
   "id": "7297618e",
   "metadata": {
    "id": "_E0C9NmXIFZK"
   },
   "source": [
    "# partially"
   ]
  },
  {
   "cell_type": "code",
   "execution_count": null,
   "id": "2388db78",
   "metadata": {
    "colab": {
     "base_uri": "https://localhost:8080/"
    },
    "id": "Df1PTb5pBCf8",
    "outputId": "637d0796-dc49-4410-a9e2-f70481ffc92b"
   },
   "outputs": [],
   "source": [
    "x = []\n",
    "y = []\n",
    "top_n = len(dense.layers)\n",
    "for i in tqdm(range(top_n)):\n",
    "    x.append(i)\n",
    "    dense = build_dense_model(layer_sizes, activations)\n",
    "    for layer in dense.layers[:i]:\n",
    "        layer.trainable = False\n",
    "    # Callbacks\n",
    "\n",
    "    time_callback_non_trainable= TimeHistory()\n",
    "\n",
    "    # Compile\n",
    "    dense.compile(loss=loss, optimizer=optimizer, metrics=['accuracy'])\n",
    "\n",
    "    # Train\n",
    "    dense.fit(x_dense, y_dense, batch_size = batch_size, epochs = 1, callbacks = [time_callback_non_trainable], verbose=False)\n",
    "    y.append(np.mean(time_callback_non_trainable.batch_times[1:]))\n",
    "    \n",
    "layey_names = [' '.join(i.name.split('_')[:-1]) for i in dense.layers]\n",
    "layey_names = ['all'] + layey_names\n",
    "layey_names = layey_names[:top_n]"
   ]
  },
  {
   "cell_type": "code",
   "execution_count": null,
   "id": "72a917e9",
   "metadata": {
    "colab": {
     "base_uri": "https://localhost:8080/",
     "height": 503
    },
    "id": "ER9yDaHNIkk9",
    "outputId": "125f8180-fc51-403c-e776-d9dee0dff8b6"
   },
   "outputs": [],
   "source": [
    "plt.figure(figsize=(20, 8))\n",
    "plt.scatter(x, y)\n",
    "plt.xticks(x, layey_names, rotation=90)\n",
    "plt.show()"
   ]
  },
  {
   "cell_type": "code",
   "execution_count": null,
   "id": "8240e5dc",
   "metadata": {
    "id": "d1gWJYH4T-sw"
   },
   "outputs": [],
   "source": []
  },
  {
   "cell_type": "markdown",
   "id": "515f07ab",
   "metadata": {
    "id": "S6A6vFI6-CHX"
   },
   "source": [
    "# Find relationship between trainable and non-trainale\n"
   ]
  },
  {
   "cell_type": "code",
   "execution_count": null,
   "id": "a6c79cee",
   "metadata": {
    "id": "1BAmuEWN-CfO"
   },
   "outputs": [],
   "source": [
    "from model_trainingtime_prediction.model_level_utils import gen_nn, model_train_data, convert_dense_data"
   ]
  },
  {
   "cell_type": "code",
   "execution_count": null,
   "id": "930e7028",
   "metadata": {
    "colab": {
     "base_uri": "https://localhost:8080/"
    },
    "id": "mXxXPemB-I3_",
    "outputId": "d7662b8d-b5ec-48c4-8bc0-1739c18bf878"
   },
   "outputs": [],
   "source": [
    "gnn = gen_nn(\n",
    "    hidden_layers_num_lower=50,\n",
    "    hidden_layers_num_upper=51, # only up to 51, influence train feature1\n",
    "    hidden_layer_size_lower=1,\n",
    "    hidden_layer_size_upper=1001, # only up to 1001, max we want to take\n",
    "    activation='random',\n",
    "    optimizer='random', # random\n",
    "    loss='random'\n",
    ")\n",
    "model_configs = gnn.generate_model_configs(num_model_data=1)\n"
   ]
  },
  {
   "cell_type": "code",
   "execution_count": null,
   "id": "2dc6d404",
   "metadata": {
    "id": "H--QexQjDMeM"
   },
   "outputs": [],
   "source": [
    "def build_dense_model(layer_sizes, activations):\n",
    "    model_dense = Sequential()\n",
    "    for index, size in enumerate(layer_sizes):\n",
    "        model_dense.add(Dense(size, activation=activations[index]))\n",
    "    return model_dense"
   ]
  },
  {
   "cell_type": "code",
   "execution_count": null,
   "id": "d85b9641",
   "metadata": {
    "id": "-kSxczFwAlOs"
   },
   "outputs": [],
   "source": [
    "batch_size = 128\n",
    "epochs = 10\n"
   ]
  },
  {
   "cell_type": "code",
   "execution_count": null,
   "id": "c0610d45",
   "metadata": {
    "colab": {
     "base_uri": "https://localhost:8080/"
    },
    "id": "2ruLtiH-BQil",
    "outputId": "1473950a-9ac9-479d-cae6-979adbc951af"
   },
   "outputs": [],
   "source": [
    "all_training_times = []\n",
    "trainable_list = []\n",
    "model = build_dense_model(\n",
    "                layer_sizes=model_configs[0]['layer_sizes'],\n",
    "                activations=model_configs[0]['activations']\n",
    "            )\n",
    "input_shape = model.get_config()['layers'][0]['config']['units']\n",
    "out_shape = model.get_config()['layers'][-1]['config']['units']\n",
    "x = np.ones((batch_size, input_shape), dtype=np.float32)\n",
    "y = np.ones((batch_size, out_shape), dtype=np.float32)\n",
    "\n",
    "model.compile(loss=model_configs[0]['loss'], optimizer=model_configs[0]['optimizer'], metrics=['accuracy'])\n",
    "\n",
    "time_callback = TimeHistory()\n",
    "model.fit(x,y,epochs=epochs,batch_size=batch_size,callbacks=[time_callback],verbose=False)\n",
    "\n",
    "all_training_times.append(np.mean(time_callback.batch_times[1:]))\n",
    "\n",
    "for i in tqdm(range(len(model_configs[0]['layer_sizes']))):\n",
    "    model = build_dense_model(\n",
    "                layer_sizes=model_configs[0]['layer_sizes'],\n",
    "                activations=model_configs[0]['activations']\n",
    "            )\n",
    "    input_shape = model.get_config()['layers'][0]['config']['units']\n",
    "    out_shape = model.get_config()['layers'][-1]['config']['units']\n",
    "    x = np.ones((batch_size, input_shape), dtype=np.float32)\n",
    "    y = np.ones((batch_size, out_shape), dtype=np.float32)\n",
    "\n",
    "    layer = model.layers[i]\n",
    "    layer.trainable = False\n",
    "    model_trainable_list = []\n",
    "    for l in model.layers:\n",
    "        model_trainable_list.append(l.trainable)\n",
    "    trainable_list.append(model_trainable_list)\n",
    "    model.compile(loss=model_configs[0]['loss'], optimizer=model_configs[0]['optimizer'], metrics=['accuracy'])\n",
    "\n",
    "    time_callback = TimeHistory()\n",
    "    model.fit(x,y,epochs=epochs,batch_size=batch_size,callbacks=[time_callback],verbose=False)\n",
    "    all_training_times.append(np.mean(time_callback.batch_times[1:]))\n"
   ]
  },
  {
   "cell_type": "code",
   "execution_count": null,
   "id": "3cf27790",
   "metadata": {
    "colab": {
     "base_uri": "https://localhost:8080/"
    },
    "id": "uHj_JZoCN1DQ",
    "outputId": "d9f329e3-ef57-4457-e455-e96fa59a54e1"
   },
   "outputs": [],
   "source": [
    "len(convert_dense_data.get_flops_dense(x.shape[0], model, sum_all=False))"
   ]
  },
  {
   "cell_type": "code",
   "execution_count": null,
   "id": "be35a6a9",
   "metadata": {
    "colab": {
     "base_uri": "https://localhost:8080/",
     "height": 282
    },
    "id": "THpI0CPXEzAR",
    "outputId": "cff099f6-669d-44d2-95dc-5c8d73e97fe8"
   },
   "outputs": [],
   "source": [
    "plt.scatter(range(len(all_training_times)), all_training_times)"
   ]
  },
  {
   "cell_type": "code",
   "execution_count": null,
   "id": "526aea75",
   "metadata": {
    "colab": {
     "base_uri": "https://localhost:8080/",
     "height": 282
    },
    "id": "Q6oOvkvTF9Xb",
    "outputId": "01b78172-1cfd-4960-a4cf-b41cb3dcca66"
   },
   "outputs": [],
   "source": [
    "plt.scatter(model_configs[0]['layer_sizes'], all_training_times[1:]) "
   ]
  },
  {
   "cell_type": "code",
   "execution_count": null,
   "id": "8ca4954a",
   "metadata": {
    "colab": {
     "base_uri": "https://localhost:8080/",
     "height": 295
    },
    "id": "6Cbbf2rON8Mu",
    "outputId": "bfcf7cab-9dcc-41d8-8f89-3d51c7dd9625"
   },
   "outputs": [],
   "source": [
    "plt.scatter(convert_dense_data.get_flops_dense(x.shape[0], model, sum_all=False), all_training_times[1:])"
   ]
  },
  {
   "cell_type": "code",
   "execution_count": null,
   "id": "84bb26f5",
   "metadata": {
    "colab": {
     "base_uri": "https://localhost:8080/",
     "height": 282
    },
    "id": "rH7D9xP5Q6JD",
    "outputId": "b1219a6b-634d-44c4-bad3-65fe437cd510"
   },
   "outputs": [],
   "source": [
    "plt.scatter(range(len(model_configs[0]['layer_sizes'])), model_configs[0]['layer_sizes'])"
   ]
  },
  {
   "cell_type": "code",
   "execution_count": null,
   "id": "3b52d452",
   "metadata": {
    "colab": {
     "base_uri": "https://localhost:8080/",
     "height": 282
    },
    "id": "jolMqJIIOP2-",
    "outputId": "96e7c670-51aa-4cc1-f5eb-219f2b66e03c"
   },
   "outputs": [],
   "source": [
    "plt.scatter(range(len(all_training_times)), all_training_times)"
   ]
  },
  {
   "cell_type": "code",
   "execution_count": null,
   "id": "fd062264",
   "metadata": {
    "id": "lxllP-NZQ2d6"
   },
   "outputs": [],
   "source": []
  },
  {
   "cell_type": "markdown",
   "id": "7e5595f9",
   "metadata": {
    "id": "6CpRMhPoV3Cb"
   },
   "source": [
    "# Find relationship between trainable and non-trainale CNN"
   ]
  },
  {
   "cell_type": "code",
   "execution_count": null,
   "id": "1050d656",
   "metadata": {
    "id": "9k5bWtTHV9Yd"
   },
   "outputs": [],
   "source": [
    "from model_trainingtime_prediction.model_level_utils_cnn import gen_cnn2d, convert_cnn2d_data"
   ]
  },
  {
   "cell_type": "code",
   "execution_count": null,
   "id": "4ed7825e",
   "metadata": {
    "colab": {
     "base_uri": "https://localhost:8080/"
    },
    "id": "j87go7KBWNej",
    "outputId": "5e6573a7-a59a-4ba6-d2cc-2efb1265abee"
   },
   "outputs": [],
   "source": [
    "gen = gen_cnn2d(input_shape_lower=100,\n",
    "        input_shape_upper=129,\n",
    "        conv_layer_num_lower=50,\n",
    "        conv_layer_num_upper=51,\n",
    "        filter_lower=1,\n",
    "        filter_upper=101,\n",
    "        dense_layer_num_lower=1,\n",
    "        dense_layer_num_upper=6,\n",
    "        dense_size_lower=1,\n",
    "        dense_size_upper=1001,\n",
    "        max_pooling_prob=1,\n",
    "        input_channels=None,\n",
    "        paddings=None,\n",
    "        activations=None,\n",
    "        optimizers=None,\n",
    "        losses=None)\n",
    "model_configs = gen.generate_model_configs(num_model_data=1, progress=True)\n"
   ]
  },
  {
   "cell_type": "code",
   "execution_count": null,
   "id": "5a5280e5",
   "metadata": {
    "id": "PirMrU8XXCJ8"
   },
   "outputs": [],
   "source": [
    "def build_cnn2d_model(kwargs_list, layer_orders):\n",
    "      cnn2d = Sequential()\n",
    "      for i, lo in enumerate(layer_orders):\n",
    "          kwargs = kwargs_list[i]\n",
    "          if lo == \"Dense\":\n",
    "              cnn2d.add(Dense(**kwargs))\n",
    "          elif lo == \"Conv2D\":\n",
    "              cnn2d.add(Conv2D(**kwargs))\n",
    "          elif lo == \"MaxPooling2D\":\n",
    "              cnn2d.add(MaxPooling2D(**kwargs))\n",
    "          elif lo == \"Dropout\":\n",
    "              cnn2d.add(Dropout(**kwargs))\n",
    "          elif lo == \"Flatten\":\n",
    "              cnn2d.add(Flatten())\n",
    "      kwargs = kwargs_list[-1]\n",
    "      return cnn2d"
   ]
  },
  {
   "cell_type": "code",
   "execution_count": null,
   "id": "eb47af4b",
   "metadata": {
    "id": "X3XXjZIMXNMg"
   },
   "outputs": [],
   "source": [
    "kwargs_list = model_configs[0][0]\n",
    "layer_orders = model_configs[0][1]\n",
    "input_shape = model_configs[0][2]\n"
   ]
  },
  {
   "cell_type": "code",
   "execution_count": null,
   "id": "96d6f78c",
   "metadata": {
    "id": "4ZXs9p6TWiHU"
   },
   "outputs": [],
   "source": [
    "batch_size = 128\n",
    "epochs = 10\n"
   ]
  },
  {
   "cell_type": "code",
   "execution_count": null,
   "id": "239c29b6",
   "metadata": {
    "colab": {
     "base_uri": "https://localhost:8080/"
    },
    "id": "fTIirftkXjmi",
    "outputId": "cbe6cd2c-7122-47b8-951b-e528fecd2f4d"
   },
   "outputs": [],
   "source": [
    "all_training_times = []\n",
    "trainable_list = []\n",
    "model = build_cnn2d_model(kwargs_list, layer_orders)\n",
    "\n",
    "out_shape = model.get_config()['layers'][-1]['config']['units']\n",
    "x = np.ones((batch_size, *input_shape), dtype=np.float32)\n",
    "y = np.ones((batch_size, out_shape), dtype=np.float32)\n",
    "model.compile(loss=model_configs[0][0][-1]['Compile']['loss'], optimizer=model_configs[0][0][-1]['Compile']['optimizer'], metrics=['accuracy'])\n",
    "\n",
    "time_callback = TimeHistory()\n",
    "model.fit(x,y,epochs=epochs,batch_size=batch_size,callbacks=[time_callback],verbose=False)\n",
    "\n",
    "all_training_times.append(np.mean(time_callback.batch_times[1:]))\n",
    "\n",
    "for i in tqdm(range(len(model_configs[0][1]))):\n",
    "    model = build_cnn2d_model(kwargs_list, layer_orders)\n",
    "\n",
    "    out_shape = model.get_config()['layers'][-1]['config']['units']\n",
    "    x = np.ones((batch_size, *input_shape), dtype=np.float32)\n",
    "    y = np.ones((batch_size, out_shape), dtype=np.float32)\n",
    "\n",
    "    layer = model.layers[i]\n",
    "    layer.trainable = False\n",
    "    model_trainable_list = []\n",
    "    for l in model.layers:\n",
    "        model_trainable_list.append(l.trainable)\n",
    "    trainable_list.append(model_trainable_list)\n",
    "    model.compile(loss=model_configs[0][0][-1]['Compile']['loss'], optimizer=model_configs[0][0][-1]['Compile']['optimizer'], metrics=['accuracy'])\n",
    "\n",
    "    time_callback = TimeHistory()\n",
    "    model.fit(x,y,epochs=epochs,batch_size=batch_size,callbacks=[time_callback],verbose=False)\n",
    "    batch_size = 128\n",
    "epochs = 10\n"
   ]
  },
  {
   "cell_type": "code",
   "execution_count": null,
   "id": "1fcf3a0d",
   "metadata": {
    "colab": {
     "base_uri": "https://localhost:8080/",
     "height": 282
    },
    "id": "Yv08AgPPXjo7",
    "outputId": "bc572f33-e36b-4ca9-91be-dd7497b45d10"
   },
   "outputs": [],
   "source": [
    "plt.scatter(range(len(all_training_times[2:])), all_training_times[2:])"
   ]
  },
  {
   "cell_type": "code",
   "execution_count": null,
   "id": "10db8ed6",
   "metadata": {
    "id": "znNf8m8f99u0"
   },
   "outputs": [],
   "source": [
    "CNN_flops = convert_cnn2d_data.get_flops_conv2d_keras(input_shape, model, sum_all=False, add_pooling=True)"
   ]
  },
  {
   "cell_type": "code",
   "execution_count": null,
   "id": "5228655a",
   "metadata": {
    "colab": {
     "base_uri": "https://localhost:8080/",
     "height": 295
    },
    "id": "Sbe2WYRe-RY5",
    "outputId": "05b20125-3299-4207-a87c-021a773e78d7"
   },
   "outputs": [],
   "source": [
    "plt.scatter(CNN_flops[2:], all_training_times[4:])"
   ]
  },
  {
   "cell_type": "markdown",
   "id": "2a114606",
   "metadata": {
    "id": "-RjJHc59-19T"
   },
   "source": [
    "# Model level trainable vs non-trainable"
   ]
  },
  {
   "cell_type": "code",
   "execution_count": null,
   "id": "439ee29b",
   "metadata": {
    "id": "1BAmuEWN-CfO"
   },
   "outputs": [],
   "source": [
    "from model_trainingtime_prediction.model_level_utils import gen_nn, model_train_data, convert_dense_data"
   ]
  },
  {
   "cell_type": "code",
   "execution_count": null,
   "id": "cc46aab0",
   "metadata": {
    "colab": {
     "base_uri": "https://localhost:8080/"
    },
    "id": "mXxXPemB-I3_",
    "outputId": "d7662b8d-b5ec-48c4-8bc0-1739c18bf878"
   },
   "outputs": [],
   "source": [
    "data_points = 100\n",
    "\n",
    "gnn = gen_nn(\n",
    "    hidden_layers_num_lower=1,\n",
    "    hidden_layers_num_upper=51, # only up to 51, influence train feature1\n",
    "    hidden_layer_size_lower=1,\n",
    "    hidden_layer_size_upper=1001, # only up to 1001, max we want to take\n",
    "    activation='random',\n",
    "    optimizer='random', # random\n",
    "    loss='random'\n",
    ")\n",
    "model_configs = gnn.generate_model_configs(num_model_data=data_points)\n"
   ]
  },
  {
   "cell_type": "code",
   "execution_count": null,
   "id": "51d00ab4",
   "metadata": {
    "id": "H--QexQjDMeM"
   },
   "outputs": [],
   "source": [
    "def build_dense_model(layer_sizes, activations):\n",
    "    model_dense = Sequential()\n",
    "    for index, size in enumerate(layer_sizes):\n",
    "        model_dense.add(Dense(size, activation=activations[index]))\n",
    "    return model_dense"
   ]
  },
  {
   "cell_type": "code",
   "execution_count": null,
   "id": "cbd05b30",
   "metadata": {
    "id": "-kSxczFwAlOs"
   },
   "outputs": [],
   "source": [
    "batch_size = 128\n",
    "epochs = 10\n"
   ]
  },
  {
   "cell_type": "code",
   "execution_count": null,
   "id": "5497358e",
   "metadata": {},
   "outputs": [],
   "source": [
    "def get_trainable_list(keras_model):\n",
    "    l = []\n",
    "    for layer in keras_model.layers:\n",
    "        l.append(layer.trainable)\n",
    "    return l"
   ]
  },
  {
   "cell_type": "code",
   "execution_count": null,
   "id": "8d4ae738",
   "metadata": {
    "colab": {
     "base_uri": "https://localhost:8080/"
    },
    "id": "2ruLtiH-BQil",
    "outputId": "1473950a-9ac9-479d-cae6-979adbc951af"
   },
   "outputs": [],
   "source": [
    "optimizer = 'sgd'\n",
    "loss = 'categorical_crossentropy'\n",
    "\n",
    "\n",
    "training_times_trainable = []\n",
    "training_times_non_trainable = []\n",
    "\n",
    "trainable_list_trainable = []\n",
    "trainable_list_non_trainable = []\n",
    "\n",
    "units_list_trainable = []\n",
    "units_list_non_trainable = []\n",
    "\n",
    "for model_config in tqdm(model_configs):\n",
    "    model_trainable = build_dense_model(\n",
    "                layer_sizes=model_config['layer_sizes'],\n",
    "                activations=model_config['activations']\n",
    "            )\n",
    "    \n",
    "    model_non_trainable = build_dense_model(\n",
    "                layer_sizes=model_config['layer_sizes'],\n",
    "                activations=model_config['activations']\n",
    "            )\n",
    "    \n",
    "    model_non_trainable.trainable = False\n",
    "    \n",
    "    input_shape = model_trainable.get_config()['layers'][0]['config']['units']\n",
    "    out_shape = model_trainable.get_config()['layers'][-1]['config']['units']\n",
    "    x = np.ones((batch_size, input_shape), dtype=np.float32)\n",
    "    y = np.ones((batch_size, out_shape), dtype=np.float32)\n",
    "\n",
    " \n",
    "    trainable_list_trainable.append(get_trainable_list(model_trainable))\n",
    "    trainable_list_non_trainable.append(get_trainable_list(model_non_trainable))\n",
    "    \n",
    "    model_trainable.compile(loss=loss, optimizer=optimizer, metrics=['accuracy'])\n",
    "    model_non_trainable.compile(loss=loss, optimizer=optimizer, metrics=['accuracy'])\n",
    "\n",
    "    time_callback_trainable = TimeHistory()\n",
    "    model_trainable.fit(x,y,epochs=epochs,batch_size=batch_size,callbacks=[time_callback_trainable],verbose=False)\n",
    "    \n",
    "    time_callback_non_trainable = TimeHistory()\n",
    "    model_non_trainable.fit(x,y,epochs=epochs,batch_size=batch_size,callbacks=[time_callback_non_trainable],verbose=False)\n",
    "    \n",
    "    training_times_trainable.append(np.mean(time_callback_trainable.batch_times[1:]))\n",
    "    training_times_non_trainable.append(np.mean(time_callback_non_trainable.batch_times[1:]))\n",
    "    \n",
    "    \n",
    "    units_list_trainable.append(convert_dense_data.get_units_sum_dense_keras(model_trainable))\n",
    "    units_list_non_trainable.append(convert_dense_data.get_units_sum_dense_keras(model_non_trainable))\n",
    "    \n",
    "    \n",
    "    \n"
   ]
  },
  {
   "cell_type": "code",
   "execution_count": null,
   "id": "3f1374df",
   "metadata": {},
   "outputs": [],
   "source": [
    "t_dff = np.array(training_times_trainable) -np.array(training_times_non_trainable)\n",
    "u_diff = np.array(units_list_trainable) -np.array(units_list_non_trainable)"
   ]
  },
  {
   "cell_type": "code",
   "execution_count": null,
   "id": "a58e6c6d",
   "metadata": {},
   "outputs": [],
   "source": [
    "plt.scatter(units_list_trainable, t_dff)"
   ]
  },
  {
   "cell_type": "code",
   "execution_count": null,
   "id": "41fa68d9",
   "metadata": {},
   "outputs": [],
   "source": [
    "plt.scatter(units_list_trainable, training_times_trainable)"
   ]
  },
  {
   "cell_type": "code",
   "execution_count": null,
   "id": "739aea56",
   "metadata": {},
   "outputs": [],
   "source": [
    "plt.scatter(units_list_trainable, training_times_non_trainable)"
   ]
  },
  {
   "cell_type": "markdown",
   "id": "2c713871",
   "metadata": {
    "id": "-RjJHc59-19T"
   },
   "source": [
    "# Model level trainable vs non-trainable CNN"
   ]
  },
  {
   "cell_type": "code",
   "execution_count": null,
   "id": "78f17877",
   "metadata": {
    "id": "1BAmuEWN-CfO"
   },
   "outputs": [],
   "source": [
    "from model_trainingtime_prediction.model_level_utils_cnn import gen_cnn2d, convert_cnn2d_data"
   ]
  },
  {
   "cell_type": "code",
   "execution_count": null,
   "id": "7f43b073",
   "metadata": {
    "colab": {
     "base_uri": "https://localhost:8080/"
    },
    "id": "mXxXPemB-I3_",
    "outputId": "d7662b8d-b5ec-48c4-8bc0-1739c18bf878"
   },
   "outputs": [],
   "source": [
    "data_points = 100\n",
    "\n",
    "gen = gen_cnn2d(input_shape_lower=20,\n",
    "        input_shape_upper=101,\n",
    "        conv_layer_num_lower=1,\n",
    "        conv_layer_num_upper=51,\n",
    "        filter_lower=1,\n",
    "        filter_upper=101,\n",
    "        dense_layer_num_lower=1,\n",
    "        dense_layer_num_upper=6,\n",
    "        dense_size_lower=1,\n",
    "        dense_size_upper=1001,\n",
    "        max_pooling_prob=.5,\n",
    "        input_channels=None,\n",
    "        paddings=None,\n",
    "        activations=None,\n",
    "        optimizers=None,\n",
    "        losses=None)\n",
    "model_configs = gen.generate_model_configs(num_model_data=data_points, progress=True)\n"
   ]
  },
  {
   "cell_type": "code",
   "execution_count": null,
   "id": "fce6e54a",
   "metadata": {
    "id": "H--QexQjDMeM"
   },
   "outputs": [],
   "source": [
    "def build_cnn2d_model(kwargs_list, layer_orders):\n",
    "    cnn2d = Sequential()\n",
    "    for i, lo in enumerate(layer_orders):\n",
    "        kwargs = kwargs_list[i]\n",
    "        if lo == \"Dense\":\n",
    "            cnn2d.add(Dense(**kwargs))\n",
    "        elif lo == \"Conv2D\":\n",
    "            cnn2d.add(Conv2D(**kwargs))\n",
    "        elif lo == \"MaxPooling2D\":\n",
    "            cnn2d.add(MaxPooling2D(**kwargs))\n",
    "        elif lo == \"Dropout\":\n",
    "            cnn2d.add(Dropout(**kwargs))\n",
    "        elif lo == \"Flatten\":\n",
    "            cnn2d.add(Flatten())\n",
    "    kwargs = kwargs_list[-1]\n",
    "    return cnn2d"
   ]
  },
  {
   "cell_type": "code",
   "execution_count": null,
   "id": "a6e9f8ba",
   "metadata": {
    "id": "-kSxczFwAlOs"
   },
   "outputs": [],
   "source": [
    "batch_size = 32\n",
    "epochs = 5\n"
   ]
  },
  {
   "cell_type": "code",
   "execution_count": null,
   "id": "2eefbc94",
   "metadata": {},
   "outputs": [],
   "source": [
    "def get_trainable_list(keras_model):\n",
    "    l = []\n",
    "    for layer in keras_model.layers:\n",
    "        l.append(layer.trainable)\n",
    "    return l"
   ]
  },
  {
   "cell_type": "code",
   "execution_count": null,
   "id": "76ca3ea2",
   "metadata": {
    "colab": {
     "base_uri": "https://localhost:8080/"
    },
    "id": "2ruLtiH-BQil",
    "outputId": "1473950a-9ac9-479d-cae6-979adbc951af"
   },
   "outputs": [],
   "source": [
    "optimizer = 'sgd'\n",
    "loss = 'categorical_crossentropy'\n",
    "\n",
    "\n",
    "training_times_trainable = []\n",
    "training_times_non_trainable = []\n",
    "\n",
    "trainable_list_trainable = []\n",
    "trainable_list_non_trainable = []\n",
    "\n",
    "units_list_trainable = []\n",
    "units_list_non_trainable = []\n",
    "\n",
    "for model_config in tqdm(model_configs):\n",
    "    kwargs_list = model_config[0]\n",
    "    layer_orders = model_config[1]\n",
    "    input_shape = model_config[2]\n",
    "    \n",
    "    model_trainable = build_cnn2d_model(kwargs_list, layer_orders)\n",
    "    model_non_trainable = build_cnn2d_model(kwargs_list, layer_orders)\n",
    "    \n",
    "    model_non_trainable.trainable = False\n",
    "    \n",
    "    out_shape = model_trainable.get_config()['layers'][-1]['config']['units']\n",
    "    x = np.ones((batch_size, *input_shape), dtype=np.float32)\n",
    "    y = np.ones((batch_size, out_shape), dtype=np.float32)\n",
    "\n",
    " \n",
    "    trainable_list_trainable.append(get_trainable_list(model_trainable))\n",
    "    trainable_list_non_trainable.append(get_trainable_list(model_non_trainable))\n",
    "    \n",
    "    model_trainable.compile(loss=loss, optimizer=optimizer, metrics=['accuracy'])\n",
    "    model_non_trainable.compile(loss=loss, optimizer=optimizer, metrics=['accuracy'])\n",
    "\n",
    "    time_callback_trainable = TimeHistory()\n",
    "    model_trainable.fit(x,y,epochs=epochs,batch_size=batch_size,callbacks=[time_callback_trainable],verbose=False)\n",
    "    \n",
    "    time_callback_non_trainable = TimeHistory()\n",
    "    model_non_trainable.fit(x,y,epochs=epochs,batch_size=batch_size,callbacks=[time_callback_non_trainable],verbose=False)\n",
    "    \n",
    "    training_times_trainable.append(np.mean(time_callback_trainable.batch_times[1:]))\n",
    "    training_times_non_trainable.append(np.mean(time_callback_non_trainable.batch_times[1:]))\n",
    "    \n",
    "    \n",
    "    units_list_trainable.append(convert_cnn2d_data.get_flops_conv2d_keras(input_shape, model_trainable, sum_all=True, add_pooling=True))\n",
    "    units_list_non_trainable.append(convert_cnn2d_data.get_flops_conv2d_keras(input_shape, model_non_trainable, sum_all=True, add_pooling=True))\n",
    "    \n",
    "    \n",
    "    \n"
   ]
  },
  {
   "cell_type": "code",
   "execution_count": null,
   "id": "8f542992",
   "metadata": {},
   "outputs": [],
   "source": [
    "t_dff = np.array(training_times_trainable) -np.array(training_times_non_trainable)\n",
    "u_diff = np.array(units_list_trainable) -np.array(units_list_non_trainable)"
   ]
  },
  {
   "cell_type": "code",
   "execution_count": null,
   "id": "15045bfb",
   "metadata": {},
   "outputs": [],
   "source": [
    "plt.scatter(units_list_trainable, t_dff)"
   ]
  },
  {
   "cell_type": "code",
   "execution_count": null,
   "id": "935455e3",
   "metadata": {},
   "outputs": [],
   "source": [
    "plt.scatter(units_list_trainable, training_times_trainable)"
   ]
  },
  {
   "cell_type": "code",
   "execution_count": null,
   "id": "cc14570d",
   "metadata": {},
   "outputs": [],
   "source": [
    "plt.scatter(units_list_trainable, training_times_non_trainable)"
   ]
  },
  {
   "cell_type": "markdown",
   "id": "f0ed3a4d",
   "metadata": {},
   "source": [
    "# Try find some quick factor for estimation dense"
   ]
  },
  {
   "cell_type": "code",
   "execution_count": 1,
   "id": "c2c8891f",
   "metadata": {},
   "outputs": [],
   "source": [
    "import os, json\n",
    "\n",
    "all_training_data_file = []\n",
    "\n",
    "for dirpath, dirnames, filenames in os.walk(\"TrainDataCurrent\"):\n",
    "    for filename in [f for f in filenames if f.endswith(\".json\")]:\n",
    "        all_training_data_file.append(os.path.join(dirpath, filename))\n",
    "\n",
    "model_data = []\n",
    "for name in all_training_data_file:\n",
    "    with open(name, 'r') as fp:\n",
    "        model_data.extend(json.load(fp))"
   ]
  },
  {
   "cell_type": "code",
   "execution_count": 2,
   "id": "358a3458",
   "metadata": {},
   "outputs": [],
   "source": [
    "from model_trainingtime_prediction.model_level_utils import gen_nn, model_train_data, convert_dense_data, TimeHistory"
   ]
  },
  {
   "cell_type": "code",
   "execution_count": 3,
   "id": "b3ed32d7",
   "metadata": {},
   "outputs": [
    {
     "name": "stderr",
     "output_type": "stream",
     "text": [
      "100%|██████████| 58000/58000 [00:00<00:00, 331121.90it/s]\n",
      "100%|██████████| 58000/58000 [00:22<00:00, 2602.17it/s]\n"
     ]
    }
   ],
   "source": [
    "\n",
    "cdd = convert_dense_data()\n",
    "\n",
    "# Convert raw data into data points\n",
    "scaler_dense_data, times_data_dense, scaler = cdd.convert_model_config(\n",
    "    model_data, data_type='Units', min_max_scaler=True\n",
    ")"
   ]
  },
  {
   "cell_type": "code",
   "execution_count": 4,
   "id": "aae11a4b",
   "metadata": {},
   "outputs": [
    {
     "name": "stdout",
     "output_type": "stream",
     "text": [
      "Epoch 1/3\n",
      "3263/3263 [==============================] - 9s 3ms/step - loss: 0.7351 - val_loss: 0.2829\n",
      "Epoch 2/3\n",
      "3263/3263 [==============================] - 8s 2ms/step - loss: 0.3144 - val_loss: 0.4724\n",
      "Epoch 3/3\n",
      "3263/3263 [==============================] - 8s 2ms/step - loss: 0.2898 - val_loss: 0.2793\n"
     ]
    },
    {
     "data": {
      "image/png": "[encoded data removed]",
      "text/plain": [
       "<Figure size 432x288 with 1 Axes>"
      ]
     },
     "metadata": {
      "needs_background": "light"
     },
     "output_type": "display_data"
    }
   ],
   "source": [
    "from sklearn.model_selection import train_test_split\n",
    "from tensorflow import keras\n",
    "from tensorflow.keras.layers import Dense\n",
    "from sklearn.metrics import mean_squared_error\n",
    "import numpy as np\n",
    "import matplotlib.pyplot as plt\n",
    "\n",
    "\n",
    "def cal_score(pred, real, absolute=False):\n",
    "    pred = np.array(pred).copy()\n",
    "    real = np.array(real).copy()\n",
    "    if absolute: \n",
    "        return abs((pred-real)/real)\n",
    "    else:\n",
    "        return (pred-real)/real\n",
    "    \n",
    "\n",
    "x_train, x_test, y_train, y_test = train_test_split(scaler_dense_data, np.array(times_data_dense), test_size=0.1, random_state=0)\n",
    "batch_model = keras.Sequential()\n",
    "batch_model.add(Dense(200, kernel_initializer='normal', activation='relu'))\n",
    "batch_model.add(Dense(200, kernel_initializer='normal', activation='relu'))\n",
    "batch_model.add(Dense(200, kernel_initializer='normal', activation='relu'))\n",
    "batch_model.add(Dense(200, kernel_initializer='normal', activation='relu'))\n",
    "batch_model.add(Dense(200, kernel_initializer='normal', activation='relu'))\n",
    "batch_model.add(Dense(1, kernel_initializer='normal'))\n",
    "batch_model.compile(loss='mean_squared_error', optimizer='adam')\n",
    "\n",
    "history_batch = batch_model.fit(x_train, y_train, batch_size=16, epochs=3, validation_data=(x_test, y_test), verbose=True)\n",
    "batch_y_pred = batch_model.predict(x_test)\n",
    "batch_y_pred = batch_y_pred.reshape(batch_y_pred.shape[0],)\n",
    "plt.scatter(y_test, batch_y_pred)\n",
    "plt.scatter(y_test, y_test, c='r')\n",
    "plt.title(f'{np.mean(cal_score(y_test, batch_y_pred, True))}')\n",
    "plt.savefig('flops_acc.png')\n",
    "plt.show()\n"
   ]
  },
  {
   "cell_type": "code",
   "execution_count": 31,
   "id": "5dba2827",
   "metadata": {
    "colab": {
     "base_uri": "https://localhost:8080/"
    },
    "id": "mXxXPemB-I3_",
    "outputId": "d7662b8d-b5ec-48c4-8bc0-1739c18bf878"
   },
   "outputs": [
    {
     "name": "stderr",
     "output_type": "stream",
     "text": [
      "100%|██████████| 200/200 [00:05<00:00, 35.51it/s]\n"
     ]
    }
   ],
   "source": [
    "gnn = gen_nn(\n",
    "    hidden_layers_num_lower=5,\n",
    "    hidden_layers_num_upper=51, # only up to 51, influence train feature1\n",
    "    hidden_layer_size_lower=1,\n",
    "    hidden_layer_size_upper=1001, # only up to 1001, max we want to take\n",
    "    activation='random',\n",
    "    optimizer='random', # random\n",
    "    loss='random'\n",
    ")\n",
    "model_configs = gnn.generate_model_configs(num_model_data=200)\n"
   ]
  },
  {
   "cell_type": "code",
   "execution_count": 32,
   "id": "4a50158f",
   "metadata": {
    "id": "H--QexQjDMeM"
   },
   "outputs": [],
   "source": [
    "def build_dense_model(layer_sizes, activations):\n",
    "    from tensorflow.keras.models import Sequential\n",
    "    from tensorflow.keras.layers import Dense\n",
    "    model_dense = Sequential()\n",
    "    for index, size in enumerate(layer_sizes):\n",
    "        model_dense.add(Dense(size, activation=activations[index]))\n",
    "    return model_dense"
   ]
  },
  {
   "cell_type": "code",
   "execution_count": 33,
   "id": "6da73a7b",
   "metadata": {},
   "outputs": [
    {
     "data": {
      "text/plain": [
       "OneHotEncoder(handle_unknown='ignore')"
      ]
     },
     "execution_count": 33,
     "metadata": {},
     "output_type": "execute_result"
    }
   ],
   "source": [
    "from sklearn.preprocessing import OneHotEncoder\n",
    "\n",
    "optimizers =  [\"sgd\", \"rmsprop\", \"adam\", \"adadelta\", \"adagrad\", \"adamax\", \"nadam\", \"ftrl\"]\n",
    "\n",
    "unique_all_optimizers = sorted(list(set(optimizers)))\n",
    "enc = OneHotEncoder(handle_unknown='ignore')\n",
    "x_opts = [[i] for i in unique_all_optimizers]\n",
    "enc.fit(x_opts)\n"
   ]
  },
  {
   "cell_type": "markdown",
   "id": "a96ed352",
   "metadata": {},
   "source": [
    "## get predictions"
   ]
  },
  {
   "cell_type": "code",
   "execution_count": 34,
   "id": "0a63a4a5",
   "metadata": {},
   "outputs": [
    {
     "name": "stderr",
     "output_type": "stream",
     "text": [
      "100%|██████████| 200/200 [07:05<00:00,  2.13s/it]\n"
     ]
    }
   ],
   "source": [
    "from tqdm import tqdm\n",
    "import random\n",
    "batch_sizes = random.choices([2**i for i in range(1, 9)], k=200)\n",
    "epochs = 10\n",
    "  \n",
    "    \n",
    "real_times = []\n",
    "predicted_times = []\n",
    "    \n",
    "    \n",
    "    \n",
    "def get_units_sum_dense_keras(dense_model_obj):\n",
    "    return sum([\n",
    "        layer['config']['units'] for layer in dense_model_obj.get_config()['layers']\n",
    "        if layer['class_name'] == 'Dense'\n",
    "    ])\n",
    "\n",
    "def convert_model_keras(\n",
    "    input_shape, dense_model_obj, optimizer, batch_size, data_type='Unit', scaler=None\n",
    "):\n",
    "    unit_sum = get_units_sum_dense_keras(dense_model_obj)\n",
    "\n",
    "    if data_type.lower().startswith('f'):\n",
    "        layer_data = flops\n",
    "    elif data_type.lower().startswith('u'):\n",
    "        layer_data = unit_sum\n",
    "    else:\n",
    "        layer_data = unit_sum\n",
    "\n",
    "    optimizer_onehot = list(enc.transform([[optimizer]]).toarray()[0])\n",
    "    layer_data = [layer_data] + [batch_size] + optimizer_onehot\n",
    "\n",
    "    if scaler is not None:\n",
    "        scaled_data = scaler.transform(np.array([layer_data]))\n",
    "        return scaled_data\n",
    "    else:\n",
    "        return layer_data\n",
    "\n",
    "\n",
    "for idx, model_config in enumerate(tqdm(model_configs)):\n",
    "    batch_size = batch_sizes[idx]\n",
    "\n",
    "    layer_sizes = model_config['layer_sizes']\n",
    "    activations = model_config['activations']\n",
    "    optimizer = model_config['optimizer']\n",
    "    loss = model_config['loss']\n",
    "\n",
    "    dense = build_dense_model(layer_sizes, activations)\n",
    "    dense.compile(loss=loss, optimizer=optimizer, metrics=['accuracy'])\n",
    "\n",
    "    # Train\n",
    "    input_shape = dense.get_config()['layers'][0]['config']['units']\n",
    "    out_shape = dense.get_config()['layers'][-1]['config']['units']\n",
    "    x = np.ones((batch_size, input_shape), dtype=np.float32)\n",
    "    y = np.ones((batch_size, out_shape), dtype=np.float32)\n",
    "\n",
    "    dense.compile(loss=loss, optimizer=optimizer, metrics=['accuracy'])\n",
    "\n",
    "    time_callback = TimeHistory()\n",
    "\n",
    "    dense.fit(x,y,epochs=epochs,batch_size=batch_size,callbacks=[time_callback],verbose=False)\n",
    "\n",
    "    real_times.append(np.mean(time_callback.batch_times[1:])*1000)\n",
    "\n",
    "    dense_train_data = convert_model_keras(input_shape, dense, optimizer, batch_size, data_type='Unit', scaler=scaler)\n",
    "    dense_batch_y_pred = batch_model.predict(dense_train_data)[0][0]\n",
    "    predicted_times.append(dense_batch_y_pred)"
   ]
  },
  {
   "cell_type": "code",
   "execution_count": 35,
   "id": "46051fd3",
   "metadata": {},
   "outputs": [
    {
     "data": {
      "text/plain": [
       "0.0835402464726938"
      ]
     },
     "execution_count": 35,
     "metadata": {},
     "output_type": "execute_result"
    }
   ],
   "source": [
    "true_errors = cal_score(predicted_times, real_times, absolute=False)\n",
    "np.mean(cal_score(predicted_times, real_times, absolute=True))"
   ]
  },
  {
   "cell_type": "code",
   "execution_count": 36,
   "id": "4884b16e",
   "metadata": {},
   "outputs": [
    {
     "data": {
      "text/plain": [
       "<matplotlib.collections.PathCollection at 0x7fcf80078bd0>"
      ]
     },
     "execution_count": 36,
     "metadata": {},
     "output_type": "execute_result"
    },
    {
     "data": {
      "image/png": "[encoded data removed]",
      "text/plain": [
       "<Figure size 432x288 with 1 Axes>"
      ]
     },
     "metadata": {
      "needs_background": "light"
     },
     "output_type": "display_data"
    }
   ],
   "source": [
    "plt.scatter(real_times, predicted_times)"
   ]
  },
  {
   "cell_type": "code",
   "execution_count": 37,
   "id": "681a56c5",
   "metadata": {},
   "outputs": [],
   "source": [
    "\n",
    "def objective_function(factor):\n",
    "    factor = factor[0]\n",
    "    def get_units_sum_dense_keras_factor(dense_model_obj):\n",
    "        units = []\n",
    "        for layer in dense_model_obj.get_config()['layers']:\n",
    "            if layer['class_name'] == 'Dense':\n",
    "                if layer['config']['trainable']:\n",
    "                    units.append(layer['config']['units'])\n",
    "                else:\n",
    "                    units.append(np.ceil(factor * layer['config']['units']))\n",
    "            else:\n",
    "                pass\n",
    "        return sum(units)\n",
    "    \n",
    "    def convert_model_keras_factor(\n",
    "        input_shape, dense_model_obj, optimizer, batch_size, data_type='Unit', scaler=None\n",
    "    ):\n",
    "        unit_sum = get_units_sum_dense_keras_factor(dense_model_obj)\n",
    "\n",
    "        if data_type.lower().startswith('f'):\n",
    "            layer_data = flops\n",
    "        elif data_type.lower().startswith('u'):\n",
    "            layer_data = unit_sum\n",
    "        else:\n",
    "            layer_data = unit_sum\n",
    "\n",
    "        optimizer_onehot = list(enc.transform([[optimizer]]).toarray()[0])\n",
    "        layer_data = [layer_data] + [batch_size] + optimizer_onehot\n",
    "\n",
    "        if scaler is not None:\n",
    "            scaled_data = scaler.transform(np.array([layer_data]))\n",
    "            return scaled_data\n",
    "        else:\n",
    "            return layer_data\n",
    "        \n",
    "    real_times = []\n",
    "    predicted_times = []\n",
    "    \n",
    "    for idx, model_config in enumerate(tqdm(model_configs)):\n",
    "        batch_size = batch_sizes[idx]\n",
    "\n",
    "        layer_sizes = model_config['layer_sizes']\n",
    "        activations = model_config['activations']\n",
    "        optimizer = model_config['optimizer']\n",
    "        loss = model_config['loss']\n",
    "        num_layers = len(layer_sizes)\n",
    "        \n",
    "        top_n = random.sample(list(range(num_layers)), 1)[0]\n",
    "\n",
    "        dense = build_dense_model(layer_sizes, activations)\n",
    "        \n",
    "        for layer in dense.layers[:top_n]:\n",
    "            layer.trainable = False\n",
    "        dense.compile(loss=loss, optimizer=optimizer, metrics=['accuracy'])\n",
    "\n",
    "        # Train\n",
    "        input_shape = dense.get_config()['layers'][0]['config']['units']\n",
    "        out_shape = dense.get_config()['layers'][-1]['config']['units']\n",
    "        x = np.ones((batch_size, input_shape), dtype=np.float32)\n",
    "        y = np.ones((batch_size, out_shape), dtype=np.float32)\n",
    "\n",
    "        dense.compile(loss=loss, optimizer=optimizer, metrics=['accuracy'])\n",
    "\n",
    "        time_callback = TimeHistory()\n",
    "        \n",
    "        dense.fit(x,y,epochs=epochs,batch_size=batch_size,callbacks=[time_callback],verbose=False)\n",
    "\n",
    "        real_times.append(np.mean(time_callback.batch_times[1:])*1000)\n",
    "\n",
    "        dense_train_data = convert_model_keras_factor(input_shape, dense, optimizer, batch_size, data_type='Unit', scaler=scaler)\n",
    "        dense_batch_y_pred = batch_model.predict(dense_train_data)[0][0]\n",
    "        predicted_times.append(dense_batch_y_pred)\n",
    "    error = cal_score(predicted_times, real_times, absolute=False)\n",
    "    obj_tar = np.linalg.norm(error-true_errors)\n",
    "    print(factor, np.mean(error), np.mean(true_errors), obj_tar)\n",
    "    return obj_tar\n",
    "\n"
   ]
  },
  {
   "cell_type": "code",
   "execution_count": 38,
   "id": "dc94fb5d",
   "metadata": {},
   "outputs": [
    {
     "name": "stderr",
     "output_type": "stream",
     "text": [
      "100%|██████████| 200/200 [05:26<00:00,  1.63s/it]\n",
      "  0%|          | 0/200 [00:00<?, ?it/s]"
     ]
    },
    {
     "name": "stdout",
     "output_type": "stream",
     "text": [
      "0.2 -0.040418168914354825 -0.04818541124634284 1.77706641525439\n"
     ]
    },
    {
     "name": "stderr",
     "output_type": "stream",
     "text": [
      "100%|██████████| 200/200 [05:12<00:00,  1.56s/it]\n",
      "  0%|          | 0/200 [00:00<?, ?it/s]"
     ]
    },
    {
     "name": "stdout",
     "output_type": "stream",
     "text": [
      "0.3819660112501051 0.06525349130602667 -0.04818541124634284 3.6266909466684782\n"
     ]
    },
    {
     "name": "stderr",
     "output_type": "stream",
     "text": [
      "100%|██████████| 200/200 [05:15<00:00,  1.58s/it]\n",
      "  0%|          | 0/200 [00:00<?, ?it/s]"
     ]
    },
    {
     "name": "stdout",
     "output_type": "stream",
     "text": [
      "0.6180339887498948 0.20513403199890543 -0.04818541124634284 5.795882377423517\n"
     ]
    },
    {
     "name": "stderr",
     "output_type": "stream",
     "text": [
      "100%|██████████| 200/200 [05:09<00:00,  1.55s/it]\n",
      "  0%|          | 0/200 [00:00<?, ?it/s]"
     ]
    },
    {
     "name": "stdout",
     "output_type": "stream",
     "text": [
      "0.2360679774997897 -0.032000713351905755 -0.04818541124634284 2.0447634916505875\n"
     ]
    },
    {
     "name": "stderr",
     "output_type": "stream",
     "text": [
      "100%|██████████| 200/200 [05:22<00:00,  1.61s/it]\n",
      "  0%|          | 0/200 [00:00<?, ?it/s]"
     ]
    },
    {
     "name": "stdout",
     "output_type": "stream",
     "text": [
      "0.14589803375031546 -0.07443557925623845 -0.04818541124634284 1.8789092799784501\n"
     ]
    },
    {
     "name": "stderr",
     "output_type": "stream",
     "text": [
      "100%|██████████| 200/200 [05:18<00:00,  1.59s/it]\n",
      "  0%|          | 0/200 [00:00<?, ?it/s]"
     ]
    },
    {
     "name": "stdout",
     "output_type": "stream",
     "text": [
      "0.1668690695622651 -0.07187589224995286 -0.04818541124634284 2.0418501001325806\n"
     ]
    },
    {
     "name": "stderr",
     "output_type": "stream",
     "text": [
      "100%|██████████| 200/200 [05:14<00:00,  1.57s/it]\n",
      "  0%|          | 0/200 [00:00<?, ?it/s]"
     ]
    },
    {
     "name": "stdout",
     "output_type": "stream",
     "text": [
      "0.09016994374947426 -0.10900558832975041 -0.04818541124634284 2.1093270346016264\n"
     ]
    },
    {
     "name": "stderr",
     "output_type": "stream",
     "text": [
      "100%|██████████| 200/200 [05:15<00:00,  1.58s/it]\n",
      "  0%|          | 0/200 [00:00<?, ?it/s]"
     ]
    },
    {
     "name": "stdout",
     "output_type": "stream",
     "text": [
      "0.12461179749810729 -0.08876471640715461 -0.04818541124634284 1.8914448396947616\n"
     ]
    },
    {
     "name": "stderr",
     "output_type": "stream",
     "text": [
      "100%|██████████| 200/200 [05:15<00:00,  1.58s/it]\n",
      "  0%|          | 0/200 [00:00<?, ?it/s]"
     ]
    },
    {
     "name": "stdout",
     "output_type": "stream",
     "text": [
      "0.13674351276169228 -0.0723376044907023 -0.04818541124634284 1.9843477421879419\n"
     ]
    },
    {
     "name": "stderr",
     "output_type": "stream",
     "text": [
      "100%|██████████| 200/200 [05:26<00:00,  1.63s/it]\n",
      "  0%|          | 0/200 [00:00<?, ?it/s]"
     ]
    },
    {
     "name": "stdout",
     "output_type": "stream",
     "text": [
      "0.15390825665118898 -0.05827181449325595 -0.04818541124634284 1.8731329435800605\n"
     ]
    },
    {
     "name": "stderr",
     "output_type": "stream",
     "text": [
      "100%|██████████| 200/200 [05:23<00:00,  1.62s/it]\n",
      "  0%|          | 0/200 [00:00<?, ?it/s]"
     ]
    },
    {
     "name": "stdout",
     "output_type": "stream",
     "text": [
      "0.1588588466613916 -0.05676200189179121 -0.04818541124634284 2.0036882838594288\n"
     ]
    },
    {
     "name": "stderr",
     "output_type": "stream",
     "text": [
      "100%|██████████| 200/200 [05:11<00:00,  1.56s/it]\n",
      "  0%|          | 0/200 [00:00<?, ?it/s]"
     ]
    },
    {
     "name": "stdout",
     "output_type": "stream",
     "text": [
      "0.15084862376051808 -0.07193998199335437 -0.04818541124634284 2.1153284120118827\n"
     ]
    },
    {
     "name": "stderr",
     "output_type": "stream",
     "text": [
      "100%|██████████| 200/200 [05:05<00:00,  1.53s/it]\n",
      "  0%|          | 0/200 [00:00<?, ?it/s]"
     ]
    },
    {
     "name": "stdout",
     "output_type": "stream",
     "text": [
      "0.1557992137707207 -0.07241082906251116 -0.04818541124634284 1.896869742746125\n"
     ]
    },
    {
     "name": "stderr",
     "output_type": "stream",
     "text": [
      "100%|██████████| 200/200 [05:22<00:00,  1.61s/it]\n",
      "  0%|          | 0/200 [00:00<?, ?it/s]"
     ]
    },
    {
     "name": "stdout",
     "output_type": "stream",
     "text": [
      "0.1527395808800498 -0.06246178593742721 -0.04818541124634284 1.9276934919484745\n"
     ]
    },
    {
     "name": "stderr",
     "output_type": "stream",
     "text": [
      "100%|██████████| 200/200 [05:24<00:00,  1.62s/it]\n",
      "  0%|          | 0/200 [00:00<?, ?it/s]"
     ]
    },
    {
     "name": "stdout",
     "output_type": "stream",
     "text": [
      "0.15463053799958149 -0.07796044863571934 -0.04818541124634284 1.9509869204395565\n"
     ]
    },
    {
     "name": "stderr",
     "output_type": "stream",
     "text": [
      "100%|██████████| 200/200 [05:17<00:00,  1.59s/it]\n",
      "  0%|          | 0/200 [00:00<?, ?it/s]"
     ]
    },
    {
     "name": "stdout",
     "output_type": "stream",
     "text": [
      "0.1534618622284423 -0.06731499766406293 -0.04818541124634284 1.771201377449807\n"
     ]
    },
    {
     "name": "stderr",
     "output_type": "stream",
     "text": [
      "100%|██████████| 200/200 [05:13<00:00,  1.57s/it]\n",
      "  0%|          | 0/200 [00:00<?, ?it/s]"
     ]
    },
    {
     "name": "stdout",
     "output_type": "stream",
     "text": [
      "0.15318597530279648 -0.061950597723952824 -0.04818541124634284 2.0283054727598895\n"
     ]
    },
    {
     "name": "stderr",
     "output_type": "stream",
     "text": [
      "100%|██████████| 200/200 [05:22<00:00,  1.61s/it]\n",
      "  0%|          | 0/200 [00:00<?, ?it/s]"
     ]
    },
    {
     "name": "stdout",
     "output_type": "stream",
     "text": [
      "0.15363236972554314 -0.06661113236855581 -0.04818541124634284 1.9208810276185329\n"
     ]
    },
    {
     "name": "stderr",
     "output_type": "stream",
     "text": [
      "100%|██████████| 200/200 [05:15<00:00,  1.58s/it]\n",
      "  0%|          | 0/200 [00:00<?, ?it/s]"
     ]
    },
    {
     "name": "stdout",
     "output_type": "stream",
     "text": [
      "0.1533564827998973 -0.06115022303841757 -0.04818541124634284 1.9451259284107558\n"
     ]
    },
    {
     "name": "stderr",
     "output_type": "stream",
     "text": [
      "100%|██████████| 200/200 [05:15<00:00,  1.58s/it]\n",
      "  0%|          | 0/200 [00:00<?, ?it/s]"
     ]
    },
    {
     "name": "stdout",
     "output_type": "stream",
     "text": [
      "0.15352699029699815 -0.0751602297143635 -0.04818541124634284 1.8633718557127947\n"
     ]
    },
    {
     "name": "stderr",
     "output_type": "stream",
     "text": [
      "100%|██████████| 200/200 [05:12<00:00,  1.56s/it]\n",
      "  0%|          | 0/200 [00:00<?, ?it/s]"
     ]
    },
    {
     "name": "stdout",
     "output_type": "stream",
     "text": [
      "0.15342161086845316 -0.07382269769097777 -0.04818541124634284 2.0031041791567423\n"
     ]
    },
    {
     "name": "stderr",
     "output_type": "stream",
     "text": [
      "100%|██████████| 200/200 [05:15<00:00,  1.58s/it]\n",
      "  0%|          | 0/200 [00:00<?, ?it/s]"
     ]
    },
    {
     "name": "stdout",
     "output_type": "stream",
     "text": [
      "0.153486738937009 -0.06616948083257004 -0.04818541124634284 1.9183784230003813\n"
     ]
    },
    {
     "name": "stderr",
     "output_type": "stream",
     "text": [
      "100%|██████████| 200/200 [05:05<00:00,  1.53s/it]\n",
      "  0%|          | 0/200 [00:00<?, ?it/s]"
     ]
    },
    {
     "name": "stdout",
     "output_type": "stream",
     "text": [
      "0.15344648757701984 -0.07030242094523126 -0.04818541124634284 1.8899371123165258\n"
     ]
    },
    {
     "name": "stderr",
     "output_type": "stream",
     "text": [
      "100%|██████████| 200/200 [05:23<00:00,  1.62s/it]\n",
      "  0%|          | 0/200 [00:00<?, ?it/s]"
     ]
    },
    {
     "name": "stdout",
     "output_type": "stream",
     "text": [
      "0.15347136428558655 -0.071129979578064 -0.04818541124634284 1.9694036601585305\n"
     ]
    },
    {
     "name": "stderr",
     "output_type": "stream",
     "text": [
      "100%|██████████| 200/200 [05:29<00:00,  1.65s/it]\n",
      "  0%|          | 0/200 [00:00<?, ?it/s]"
     ]
    },
    {
     "name": "stdout",
     "output_type": "stream",
     "text": [
      "0.15345598963416412 -0.08595566482061144 -0.04818541124634284 1.923112449439259\n"
     ]
    },
    {
     "name": "stderr",
     "output_type": "stream",
     "text": [
      "100%|██████████| 200/200 [05:18<00:00,  1.59s/it]\n",
      "  0%|          | 0/200 [00:00<?, ?it/s]"
     ]
    },
    {
     "name": "stdout",
     "output_type": "stream",
     "text": [
      "0.15346549169130835 -0.07569273536761821 -0.04818541124634284 1.8753866613611423\n"
     ]
    },
    {
     "name": "stderr",
     "output_type": "stream",
     "text": [
      "100%|██████████| 200/200 [05:09<00:00,  1.55s/it]\n",
      "  0%|          | 0/200 [00:00<?, ?it/s]"
     ]
    },
    {
     "name": "stdout",
     "output_type": "stream",
     "text": [
      "0.10692372445688458 -0.08679828053154927 -0.04818541124634284 2.049938558608757\n"
     ]
    },
    {
     "name": "stderr",
     "output_type": "stream",
     "text": [
      "100%|██████████| 200/200 [05:15<00:00,  1.58s/it]\n",
      "  0%|          | 0/200 [00:00<?, ?it/s]"
     ]
    },
    {
     "name": "stdout",
     "output_type": "stream",
     "text": [
      "0.3819660112501051 0.07158460616677814 -0.04818541124634284 3.305095225788546\n"
     ]
    },
    {
     "name": "stderr",
     "output_type": "stream",
     "text": [
      "100%|██████████| 200/200 [05:09<00:00,  1.55s/it]\n",
      "  0%|          | 0/200 [00:00<?, ?it/s]"
     ]
    },
    {
     "name": "stdout",
     "output_type": "stream",
     "text": [
      "0.6180339887498948 0.2203864948010922 -0.04818541124634284 6.277424237647885\n"
     ]
    },
    {
     "name": "stderr",
     "output_type": "stream",
     "text": [
      "100%|██████████| 200/200 [05:07<00:00,  1.54s/it]\n",
      "  0%|          | 0/200 [00:00<?, ?it/s]"
     ]
    },
    {
     "name": "stdout",
     "output_type": "stream",
     "text": [
      "0.2360679774997897 -0.02097155404870886 -0.04818541124634284 2.245419206485788\n"
     ]
    },
    {
     "name": "stderr",
     "output_type": "stream",
     "text": [
      " 70%|██████▉   | 139/200 [03:29<01:32,  1.51s/it]\n"
     ]
    },
    {
     "ename": "KeyboardInterrupt",
     "evalue": "",
     "output_type": "error",
     "traceback": [
      "\u001b[0;31m---------------------------------------------------------------------------\u001b[0m",
      "\u001b[0;31mKeyboardInterrupt\u001b[0m                         Traceback (most recent call last)",
      "\u001b[0;32m<ipython-input-38-0a91fa3292a7>\u001b[0m in \u001b[0;36m<module>\u001b[0;34m\u001b[0m\n\u001b[1;32m      4\u001b[0m \u001b[0;32mfrom\u001b[0m \u001b[0mscipy\u001b[0m\u001b[0;34m.\u001b[0m\u001b[0moptimize\u001b[0m \u001b[0;32mimport\u001b[0m \u001b[0mminimize\u001b[0m\u001b[0;34m\u001b[0m\u001b[0;34m\u001b[0m\u001b[0m\n\u001b[1;32m      5\u001b[0m \u001b[0;34m\u001b[0m\u001b[0m\n\u001b[0;32m----> 6\u001b[0;31m \u001b[0mres\u001b[0m \u001b[0;34m=\u001b[0m \u001b[0mminimize\u001b[0m\u001b[0;34m(\u001b[0m\u001b[0mobjective_function\u001b[0m\u001b[0;34m,\u001b[0m \u001b[0minitial_value\u001b[0m\u001b[0;34m,\u001b[0m \u001b[0mmethod\u001b[0m\u001b[0;34m=\u001b[0m\u001b[0;34m'Powell'\u001b[0m\u001b[0;34m,\u001b[0m \u001b[0mtol\u001b[0m\u001b[0;34m=\u001b[0m\u001b[0;36m1e-5\u001b[0m\u001b[0;34m,\u001b[0m \u001b[0moptions\u001b[0m\u001b[0;34m=\u001b[0m\u001b[0;34m{\u001b[0m\u001b[0;34m'maxiter'\u001b[0m\u001b[0;34m:\u001b[0m \u001b[0;36m10000\u001b[0m\u001b[0;34m}\u001b[0m\u001b[0;34m,\u001b[0m \u001b[0mbounds\u001b[0m\u001b[0;34m=\u001b[0m\u001b[0mbounds\u001b[0m\u001b[0;34m)\u001b[0m\u001b[0;34m\u001b[0m\u001b[0;34m\u001b[0m\u001b[0m\n\u001b[0m",
      "\u001b[0;32m/opt/conda/lib/python3.7/site-packages/scipy/optimize/_minimize.py\u001b[0m in \u001b[0;36mminimize\u001b[0;34m(fun, x0, args, method, jac, hess, hessp, bounds, constraints, tol, callback, options)\u001b[0m\n\u001b[1;32m    608\u001b[0m         \u001b[0;32mreturn\u001b[0m \u001b[0m_minimize_neldermead\u001b[0m\u001b[0;34m(\u001b[0m\u001b[0mfun\u001b[0m\u001b[0;34m,\u001b[0m \u001b[0mx0\u001b[0m\u001b[0;34m,\u001b[0m \u001b[0margs\u001b[0m\u001b[0;34m,\u001b[0m \u001b[0mcallback\u001b[0m\u001b[0;34m,\u001b[0m \u001b[0;34m**\u001b[0m\u001b[0moptions\u001b[0m\u001b[0;34m)\u001b[0m\u001b[0;34m\u001b[0m\u001b[0;34m\u001b[0m\u001b[0m\n\u001b[1;32m    609\u001b[0m     \u001b[0;32melif\u001b[0m \u001b[0mmeth\u001b[0m \u001b[0;34m==\u001b[0m \u001b[0;34m'powell'\u001b[0m\u001b[0;34m:\u001b[0m\u001b[0;34m\u001b[0m\u001b[0;34m\u001b[0m\u001b[0m\n\u001b[0;32m--> 610\u001b[0;31m         \u001b[0;32mreturn\u001b[0m \u001b[0m_minimize_powell\u001b[0m\u001b[0;34m(\u001b[0m\u001b[0mfun\u001b[0m\u001b[0;34m,\u001b[0m \u001b[0mx0\u001b[0m\u001b[0;34m,\u001b[0m \u001b[0margs\u001b[0m\u001b[0;34m,\u001b[0m \u001b[0mcallback\u001b[0m\u001b[0;34m,\u001b[0m \u001b[0mbounds\u001b[0m\u001b[0;34m,\u001b[0m \u001b[0;34m**\u001b[0m\u001b[0moptions\u001b[0m\u001b[0;34m)\u001b[0m\u001b[0;34m\u001b[0m\u001b[0;34m\u001b[0m\u001b[0m\n\u001b[0m\u001b[1;32m    611\u001b[0m     \u001b[0;32melif\u001b[0m \u001b[0mmeth\u001b[0m \u001b[0;34m==\u001b[0m \u001b[0;34m'cg'\u001b[0m\u001b[0;34m:\u001b[0m\u001b[0;34m\u001b[0m\u001b[0;34m\u001b[0m\u001b[0m\n\u001b[1;32m    612\u001b[0m         \u001b[0;32mreturn\u001b[0m \u001b[0m_minimize_cg\u001b[0m\u001b[0;34m(\u001b[0m\u001b[0mfun\u001b[0m\u001b[0;34m,\u001b[0m \u001b[0mx0\u001b[0m\u001b[0;34m,\u001b[0m \u001b[0margs\u001b[0m\u001b[0;34m,\u001b[0m \u001b[0mjac\u001b[0m\u001b[0;34m,\u001b[0m \u001b[0mcallback\u001b[0m\u001b[0;34m,\u001b[0m \u001b[0;34m**\u001b[0m\u001b[0moptions\u001b[0m\u001b[0;34m)\u001b[0m\u001b[0;34m\u001b[0m\u001b[0;34m\u001b[0m\u001b[0m\n",
      "\u001b[0;32m/opt/conda/lib/python3.7/site-packages/scipy/optimize/optimize.py\u001b[0m in \u001b[0;36m_minimize_powell\u001b[0;34m(func, x0, args, callback, bounds, xtol, ftol, maxiter, maxfev, disp, direc, return_all, **unknown_options)\u001b[0m\n\u001b[1;32m   2967\u001b[0m                                                  \u001b[0mlower_bound\u001b[0m\u001b[0;34m=\u001b[0m\u001b[0mlower_bound\u001b[0m\u001b[0;34m,\u001b[0m\u001b[0;34m\u001b[0m\u001b[0;34m\u001b[0m\u001b[0m\n\u001b[1;32m   2968\u001b[0m                                                  \u001b[0mupper_bound\u001b[0m\u001b[0;34m=\u001b[0m\u001b[0mupper_bound\u001b[0m\u001b[0;34m,\u001b[0m\u001b[0;34m\u001b[0m\u001b[0;34m\u001b[0m\u001b[0m\n\u001b[0;32m-> 2969\u001b[0;31m                                                  fval=fval)\n\u001b[0m\u001b[1;32m   2970\u001b[0m             \u001b[0;32mif\u001b[0m \u001b[0;34m(\u001b[0m\u001b[0mfx2\u001b[0m \u001b[0;34m-\u001b[0m \u001b[0mfval\u001b[0m\u001b[0;34m)\u001b[0m \u001b[0;34m>\u001b[0m \u001b[0mdelta\u001b[0m\u001b[0;34m:\u001b[0m\u001b[0;34m\u001b[0m\u001b[0;34m\u001b[0m\u001b[0m\n\u001b[1;32m   2971\u001b[0m                 \u001b[0mdelta\u001b[0m \u001b[0;34m=\u001b[0m \u001b[0mfx2\u001b[0m \u001b[0;34m-\u001b[0m \u001b[0mfval\u001b[0m\u001b[0;34m\u001b[0m\u001b[0;34m\u001b[0m\u001b[0m\n",
      "\u001b[0;32m/opt/conda/lib/python3.7/site-packages/scipy/optimize/optimize.py\u001b[0m in \u001b[0;36m_linesearch_powell\u001b[0;34m(func, p, xi, tol, lower_bound, upper_bound, fval)\u001b[0m\n\u001b[1;32m   2704\u001b[0m         \u001b[0;32melif\u001b[0m \u001b[0;32mnot\u001b[0m \u001b[0mnp\u001b[0m\u001b[0;34m.\u001b[0m\u001b[0misneginf\u001b[0m\u001b[0;34m(\u001b[0m\u001b[0mbound\u001b[0m\u001b[0;34m[\u001b[0m\u001b[0;36m0\u001b[0m\u001b[0;34m]\u001b[0m\u001b[0;34m)\u001b[0m \u001b[0;32mand\u001b[0m \u001b[0;32mnot\u001b[0m \u001b[0mnp\u001b[0m\u001b[0;34m.\u001b[0m\u001b[0misposinf\u001b[0m\u001b[0;34m(\u001b[0m\u001b[0mbound\u001b[0m\u001b[0;34m[\u001b[0m\u001b[0;36m1\u001b[0m\u001b[0;34m]\u001b[0m\u001b[0;34m)\u001b[0m\u001b[0;34m:\u001b[0m\u001b[0;34m\u001b[0m\u001b[0;34m\u001b[0m\u001b[0m\n\u001b[1;32m   2705\u001b[0m             \u001b[0;31m# we can use a bounded scalar minimization\u001b[0m\u001b[0;34m\u001b[0m\u001b[0;34m\u001b[0m\u001b[0;34m\u001b[0m\u001b[0m\n\u001b[0;32m-> 2706\u001b[0;31m             \u001b[0mres\u001b[0m \u001b[0;34m=\u001b[0m \u001b[0m_minimize_scalar_bounded\u001b[0m\u001b[0;34m(\u001b[0m\u001b[0mmyfunc\u001b[0m\u001b[0;34m,\u001b[0m \u001b[0mbound\u001b[0m\u001b[0;34m,\u001b[0m \u001b[0mxatol\u001b[0m\u001b[0;34m=\u001b[0m\u001b[0mtol\u001b[0m \u001b[0;34m/\u001b[0m \u001b[0;36m100\u001b[0m\u001b[0;34m)\u001b[0m\u001b[0;34m\u001b[0m\u001b[0;34m\u001b[0m\u001b[0m\n\u001b[0m\u001b[1;32m   2707\u001b[0m             \u001b[0mxi\u001b[0m \u001b[0;34m=\u001b[0m \u001b[0mres\u001b[0m\u001b[0;34m.\u001b[0m\u001b[0mx\u001b[0m \u001b[0;34m*\u001b[0m \u001b[0mxi\u001b[0m\u001b[0;34m\u001b[0m\u001b[0;34m\u001b[0m\u001b[0m\n\u001b[1;32m   2708\u001b[0m             \u001b[0;32mreturn\u001b[0m \u001b[0msqueeze\u001b[0m\u001b[0;34m(\u001b[0m\u001b[0mres\u001b[0m\u001b[0;34m.\u001b[0m\u001b[0mfun\u001b[0m\u001b[0;34m)\u001b[0m\u001b[0;34m,\u001b[0m \u001b[0mp\u001b[0m \u001b[0;34m+\u001b[0m \u001b[0mxi\u001b[0m\u001b[0;34m,\u001b[0m \u001b[0mxi\u001b[0m\u001b[0;34m\u001b[0m\u001b[0;34m\u001b[0m\u001b[0m\n",
      "\u001b[0;32m/opt/conda/lib/python3.7/site-packages/scipy/optimize/optimize.py\u001b[0m in \u001b[0;36m_minimize_scalar_bounded\u001b[0;34m(func, bounds, args, xatol, maxiter, disp, **unknown_options)\u001b[0m\n\u001b[1;32m   2009\u001b[0m         \u001b[0msi\u001b[0m \u001b[0;34m=\u001b[0m \u001b[0mnp\u001b[0m\u001b[0;34m.\u001b[0m\u001b[0msign\u001b[0m\u001b[0;34m(\u001b[0m\u001b[0mrat\u001b[0m\u001b[0;34m)\u001b[0m \u001b[0;34m+\u001b[0m \u001b[0;34m(\u001b[0m\u001b[0mrat\u001b[0m \u001b[0;34m==\u001b[0m \u001b[0;36m0\u001b[0m\u001b[0;34m)\u001b[0m\u001b[0;34m\u001b[0m\u001b[0;34m\u001b[0m\u001b[0m\n\u001b[1;32m   2010\u001b[0m         \u001b[0mx\u001b[0m \u001b[0;34m=\u001b[0m \u001b[0mxf\u001b[0m \u001b[0;34m+\u001b[0m \u001b[0msi\u001b[0m \u001b[0;34m*\u001b[0m \u001b[0mnp\u001b[0m\u001b[0;34m.\u001b[0m\u001b[0mmaximum\u001b[0m\u001b[0;34m(\u001b[0m\u001b[0mnp\u001b[0m\u001b[0;34m.\u001b[0m\u001b[0mabs\u001b[0m\u001b[0;34m(\u001b[0m\u001b[0mrat\u001b[0m\u001b[0;34m)\u001b[0m\u001b[0;34m,\u001b[0m \u001b[0mtol1\u001b[0m\u001b[0;34m)\u001b[0m\u001b[0;34m\u001b[0m\u001b[0;34m\u001b[0m\u001b[0m\n\u001b[0;32m-> 2011\u001b[0;31m         \u001b[0mfu\u001b[0m \u001b[0;34m=\u001b[0m \u001b[0mfunc\u001b[0m\u001b[0;34m(\u001b[0m\u001b[0mx\u001b[0m\u001b[0;34m,\u001b[0m \u001b[0;34m*\u001b[0m\u001b[0margs\u001b[0m\u001b[0;34m)\u001b[0m\u001b[0;34m\u001b[0m\u001b[0;34m\u001b[0m\u001b[0m\n\u001b[0m\u001b[1;32m   2012\u001b[0m         \u001b[0mnum\u001b[0m \u001b[0;34m+=\u001b[0m \u001b[0;36m1\u001b[0m\u001b[0;34m\u001b[0m\u001b[0;34m\u001b[0m\u001b[0m\n\u001b[1;32m   2013\u001b[0m         \u001b[0mfmin_data\u001b[0m \u001b[0;34m=\u001b[0m \u001b[0;34m(\u001b[0m\u001b[0mnum\u001b[0m\u001b[0;34m,\u001b[0m \u001b[0mx\u001b[0m\u001b[0;34m,\u001b[0m \u001b[0mfu\u001b[0m\u001b[0;34m)\u001b[0m\u001b[0;34m\u001b[0m\u001b[0;34m\u001b[0m\u001b[0m\n",
      "\u001b[0;32m/opt/conda/lib/python3.7/site-packages/scipy/optimize/optimize.py\u001b[0m in \u001b[0;36mmyfunc\u001b[0;34m(alpha)\u001b[0m\n\u001b[1;32m   2687\u001b[0m     \"\"\"\n\u001b[1;32m   2688\u001b[0m     \u001b[0;32mdef\u001b[0m \u001b[0mmyfunc\u001b[0m\u001b[0;34m(\u001b[0m\u001b[0malpha\u001b[0m\u001b[0;34m)\u001b[0m\u001b[0;34m:\u001b[0m\u001b[0;34m\u001b[0m\u001b[0;34m\u001b[0m\u001b[0m\n\u001b[0;32m-> 2689\u001b[0;31m         \u001b[0;32mreturn\u001b[0m \u001b[0mfunc\u001b[0m\u001b[0;34m(\u001b[0m\u001b[0mp\u001b[0m \u001b[0;34m+\u001b[0m \u001b[0malpha\u001b[0m\u001b[0;34m*\u001b[0m\u001b[0mxi\u001b[0m\u001b[0;34m)\u001b[0m\u001b[0;34m\u001b[0m\u001b[0;34m\u001b[0m\u001b[0m\n\u001b[0m\u001b[1;32m   2690\u001b[0m \u001b[0;34m\u001b[0m\u001b[0m\n\u001b[1;32m   2691\u001b[0m     \u001b[0;31m# if xi is zero, then don't optimize\u001b[0m\u001b[0;34m\u001b[0m\u001b[0;34m\u001b[0m\u001b[0;34m\u001b[0m\u001b[0m\n",
      "\u001b[0;32m/opt/conda/lib/python3.7/site-packages/scipy/optimize/optimize.py\u001b[0m in \u001b[0;36mfunction_wrapper\u001b[0;34m(*wrapper_args)\u001b[0m\n\u001b[1;32m    459\u001b[0m     \u001b[0;32mdef\u001b[0m \u001b[0mfunction_wrapper\u001b[0m\u001b[0;34m(\u001b[0m\u001b[0;34m*\u001b[0m\u001b[0mwrapper_args\u001b[0m\u001b[0;34m)\u001b[0m\u001b[0;34m:\u001b[0m\u001b[0;34m\u001b[0m\u001b[0;34m\u001b[0m\u001b[0m\n\u001b[1;32m    460\u001b[0m         \u001b[0mncalls\u001b[0m\u001b[0;34m[\u001b[0m\u001b[0;36m0\u001b[0m\u001b[0;34m]\u001b[0m \u001b[0;34m+=\u001b[0m \u001b[0;36m1\u001b[0m\u001b[0;34m\u001b[0m\u001b[0;34m\u001b[0m\u001b[0m\n\u001b[0;32m--> 461\u001b[0;31m         \u001b[0;32mreturn\u001b[0m \u001b[0mfunction\u001b[0m\u001b[0;34m(\u001b[0m\u001b[0;34m*\u001b[0m\u001b[0;34m(\u001b[0m\u001b[0mwrapper_args\u001b[0m \u001b[0;34m+\u001b[0m \u001b[0margs\u001b[0m\u001b[0;34m)\u001b[0m\u001b[0;34m)\u001b[0m\u001b[0;34m\u001b[0m\u001b[0;34m\u001b[0m\u001b[0m\n\u001b[0m\u001b[1;32m    462\u001b[0m \u001b[0;34m\u001b[0m\u001b[0m\n\u001b[1;32m    463\u001b[0m     \u001b[0;32mreturn\u001b[0m \u001b[0mncalls\u001b[0m\u001b[0;34m,\u001b[0m \u001b[0mfunction_wrapper\u001b[0m\u001b[0;34m\u001b[0m\u001b[0;34m\u001b[0m\u001b[0m\n",
      "\u001b[0;32m<ipython-input-37-24d7f6e9fce3>\u001b[0m in \u001b[0;36mobjective_function\u001b[0;34m(factor)\u001b[0m\n\u001b[1;32m     64\u001b[0m         \u001b[0mtime_callback\u001b[0m \u001b[0;34m=\u001b[0m \u001b[0mTimeHistory\u001b[0m\u001b[0;34m(\u001b[0m\u001b[0;34m)\u001b[0m\u001b[0;34m\u001b[0m\u001b[0;34m\u001b[0m\u001b[0m\n\u001b[1;32m     65\u001b[0m \u001b[0;34m\u001b[0m\u001b[0m\n\u001b[0;32m---> 66\u001b[0;31m         \u001b[0mdense\u001b[0m\u001b[0;34m.\u001b[0m\u001b[0mfit\u001b[0m\u001b[0;34m(\u001b[0m\u001b[0mx\u001b[0m\u001b[0;34m,\u001b[0m\u001b[0my\u001b[0m\u001b[0;34m,\u001b[0m\u001b[0mepochs\u001b[0m\u001b[0;34m=\u001b[0m\u001b[0mepochs\u001b[0m\u001b[0;34m,\u001b[0m\u001b[0mbatch_size\u001b[0m\u001b[0;34m=\u001b[0m\u001b[0mbatch_size\u001b[0m\u001b[0;34m,\u001b[0m\u001b[0mcallbacks\u001b[0m\u001b[0;34m=\u001b[0m\u001b[0;34m[\u001b[0m\u001b[0mtime_callback\u001b[0m\u001b[0;34m]\u001b[0m\u001b[0;34m,\u001b[0m\u001b[0mverbose\u001b[0m\u001b[0;34m=\u001b[0m\u001b[0;32mFalse\u001b[0m\u001b[0;34m)\u001b[0m\u001b[0;34m\u001b[0m\u001b[0;34m\u001b[0m\u001b[0m\n\u001b[0m\u001b[1;32m     67\u001b[0m \u001b[0;34m\u001b[0m\u001b[0m\n\u001b[1;32m     68\u001b[0m         \u001b[0mreal_times\u001b[0m\u001b[0;34m.\u001b[0m\u001b[0mappend\u001b[0m\u001b[0;34m(\u001b[0m\u001b[0mnp\u001b[0m\u001b[0;34m.\u001b[0m\u001b[0mmean\u001b[0m\u001b[0;34m(\u001b[0m\u001b[0mtime_callback\u001b[0m\u001b[0;34m.\u001b[0m\u001b[0mbatch_times\u001b[0m\u001b[0;34m[\u001b[0m\u001b[0;36m1\u001b[0m\u001b[0;34m:\u001b[0m\u001b[0;34m]\u001b[0m\u001b[0;34m)\u001b[0m\u001b[0;34m*\u001b[0m\u001b[0;36m1000\u001b[0m\u001b[0;34m)\u001b[0m\u001b[0;34m\u001b[0m\u001b[0;34m\u001b[0m\u001b[0m\n",
      "\u001b[0;32m/opt/conda/lib/python3.7/site-packages/tensorflow/python/keras/engine/training.py\u001b[0m in \u001b[0;36mfit\u001b[0;34m(self, x, y, batch_size, epochs, verbose, callbacks, validation_split, validation_data, shuffle, class_weight, sample_weight, initial_epoch, steps_per_epoch, validation_steps, validation_batch_size, validation_freq, max_queue_size, workers, use_multiprocessing)\u001b[0m\n\u001b[1;32m   1181\u001b[0m                 _r=1):\n\u001b[1;32m   1182\u001b[0m               \u001b[0mcallbacks\u001b[0m\u001b[0;34m.\u001b[0m\u001b[0mon_train_batch_begin\u001b[0m\u001b[0;34m(\u001b[0m\u001b[0mstep\u001b[0m\u001b[0;34m)\u001b[0m\u001b[0;34m\u001b[0m\u001b[0;34m\u001b[0m\u001b[0m\n\u001b[0;32m-> 1183\u001b[0;31m               \u001b[0mtmp_logs\u001b[0m \u001b[0;34m=\u001b[0m \u001b[0mself\u001b[0m\u001b[0;34m.\u001b[0m\u001b[0mtrain_function\u001b[0m\u001b[0;34m(\u001b[0m\u001b[0miterator\u001b[0m\u001b[0;34m)\u001b[0m\u001b[0;34m\u001b[0m\u001b[0;34m\u001b[0m\u001b[0m\n\u001b[0m\u001b[1;32m   1184\u001b[0m               \u001b[0;32mif\u001b[0m \u001b[0mdata_handler\u001b[0m\u001b[0;34m.\u001b[0m\u001b[0mshould_sync\u001b[0m\u001b[0;34m:\u001b[0m\u001b[0;34m\u001b[0m\u001b[0;34m\u001b[0m\u001b[0m\n\u001b[1;32m   1185\u001b[0m                 \u001b[0mcontext\u001b[0m\u001b[0;34m.\u001b[0m\u001b[0masync_wait\u001b[0m\u001b[0;34m(\u001b[0m\u001b[0;34m)\u001b[0m\u001b[0;34m\u001b[0m\u001b[0;34m\u001b[0m\u001b[0m\n",
      "\u001b[0;32m/opt/conda/lib/python3.7/site-packages/tensorflow/python/eager/def_function.py\u001b[0m in \u001b[0;36m__call__\u001b[0;34m(self, *args, **kwds)\u001b[0m\n\u001b[1;32m    887\u001b[0m \u001b[0;34m\u001b[0m\u001b[0m\n\u001b[1;32m    888\u001b[0m       \u001b[0;32mwith\u001b[0m \u001b[0mOptionalXlaContext\u001b[0m\u001b[0;34m(\u001b[0m\u001b[0mself\u001b[0m\u001b[0;34m.\u001b[0m\u001b[0m_jit_compile\u001b[0m\u001b[0;34m)\u001b[0m\u001b[0;34m:\u001b[0m\u001b[0;34m\u001b[0m\u001b[0;34m\u001b[0m\u001b[0m\n\u001b[0;32m--> 889\u001b[0;31m         \u001b[0mresult\u001b[0m \u001b[0;34m=\u001b[0m \u001b[0mself\u001b[0m\u001b[0;34m.\u001b[0m\u001b[0m_call\u001b[0m\u001b[0;34m(\u001b[0m\u001b[0;34m*\u001b[0m\u001b[0margs\u001b[0m\u001b[0;34m,\u001b[0m \u001b[0;34m**\u001b[0m\u001b[0mkwds\u001b[0m\u001b[0;34m)\u001b[0m\u001b[0;34m\u001b[0m\u001b[0;34m\u001b[0m\u001b[0m\n\u001b[0m\u001b[1;32m    890\u001b[0m \u001b[0;34m\u001b[0m\u001b[0m\n\u001b[1;32m    891\u001b[0m       \u001b[0mnew_tracing_count\u001b[0m \u001b[0;34m=\u001b[0m \u001b[0mself\u001b[0m\u001b[0;34m.\u001b[0m\u001b[0mexperimental_get_tracing_count\u001b[0m\u001b[0;34m(\u001b[0m\u001b[0;34m)\u001b[0m\u001b[0;34m\u001b[0m\u001b[0;34m\u001b[0m\u001b[0m\n",
      "\u001b[0;32m/opt/conda/lib/python3.7/site-packages/tensorflow/python/eager/def_function.py\u001b[0m in \u001b[0;36m_call\u001b[0;34m(self, *args, **kwds)\u001b[0m\n\u001b[1;32m    948\u001b[0m         \u001b[0;31m# Lifting succeeded, so variables are initialized and we can run the\u001b[0m\u001b[0;34m\u001b[0m\u001b[0;34m\u001b[0m\u001b[0;34m\u001b[0m\u001b[0m\n\u001b[1;32m    949\u001b[0m         \u001b[0;31m# stateless function.\u001b[0m\u001b[0;34m\u001b[0m\u001b[0;34m\u001b[0m\u001b[0;34m\u001b[0m\u001b[0m\n\u001b[0;32m--> 950\u001b[0;31m         \u001b[0;32mreturn\u001b[0m \u001b[0mself\u001b[0m\u001b[0;34m.\u001b[0m\u001b[0m_stateless_fn\u001b[0m\u001b[0;34m(\u001b[0m\u001b[0;34m*\u001b[0m\u001b[0margs\u001b[0m\u001b[0;34m,\u001b[0m \u001b[0;34m**\u001b[0m\u001b[0mkwds\u001b[0m\u001b[0;34m)\u001b[0m\u001b[0;34m\u001b[0m\u001b[0;34m\u001b[0m\u001b[0m\n\u001b[0m\u001b[1;32m    951\u001b[0m     \u001b[0;32melse\u001b[0m\u001b[0;34m:\u001b[0m\u001b[0;34m\u001b[0m\u001b[0;34m\u001b[0m\u001b[0m\n\u001b[1;32m    952\u001b[0m       \u001b[0m_\u001b[0m\u001b[0;34m,\u001b[0m \u001b[0m_\u001b[0m\u001b[0;34m,\u001b[0m \u001b[0m_\u001b[0m\u001b[0;34m,\u001b[0m \u001b[0mfiltered_flat_args\u001b[0m \u001b[0;34m=\u001b[0m\u001b[0;31m \u001b[0m\u001b[0;31m\\\u001b[0m\u001b[0;34m\u001b[0m\u001b[0;34m\u001b[0m\u001b[0m\n",
      "\u001b[0;32m/opt/conda/lib/python3.7/site-packages/tensorflow/python/eager/function.py\u001b[0m in \u001b[0;36m__call__\u001b[0;34m(self, *args, **kwargs)\u001b[0m\n\u001b[1;32m   3020\u001b[0m     \u001b[0;32mwith\u001b[0m \u001b[0mself\u001b[0m\u001b[0;34m.\u001b[0m\u001b[0m_lock\u001b[0m\u001b[0;34m:\u001b[0m\u001b[0;34m\u001b[0m\u001b[0;34m\u001b[0m\u001b[0m\n\u001b[1;32m   3021\u001b[0m       (graph_function,\n\u001b[0;32m-> 3022\u001b[0;31m        filtered_flat_args) = self._maybe_define_function(args, kwargs)\n\u001b[0m\u001b[1;32m   3023\u001b[0m     return graph_function._call_flat(\n\u001b[1;32m   3024\u001b[0m         filtered_flat_args, captured_inputs=graph_function.captured_inputs)  # pylint: disable=protected-access\n",
      "\u001b[0;32m/opt/conda/lib/python3.7/site-packages/tensorflow/python/eager/function.py\u001b[0m in \u001b[0;36m_maybe_define_function\u001b[0;34m(self, args, kwargs)\u001b[0m\n\u001b[1;32m   3442\u001b[0m \u001b[0;34m\u001b[0m\u001b[0m\n\u001b[1;32m   3443\u001b[0m           \u001b[0mself\u001b[0m\u001b[0;34m.\u001b[0m\u001b[0m_function_cache\u001b[0m\u001b[0;34m.\u001b[0m\u001b[0mmissed\u001b[0m\u001b[0;34m.\u001b[0m\u001b[0madd\u001b[0m\u001b[0;34m(\u001b[0m\u001b[0mcall_context_key\u001b[0m\u001b[0;34m)\u001b[0m\u001b[0;34m\u001b[0m\u001b[0;34m\u001b[0m\u001b[0m\n\u001b[0;32m-> 3444\u001b[0;31m           \u001b[0mgraph_function\u001b[0m \u001b[0;34m=\u001b[0m \u001b[0mself\u001b[0m\u001b[0;34m.\u001b[0m\u001b[0m_create_graph_function\u001b[0m\u001b[0;34m(\u001b[0m\u001b[0margs\u001b[0m\u001b[0;34m,\u001b[0m \u001b[0mkwargs\u001b[0m\u001b[0;34m)\u001b[0m\u001b[0;34m\u001b[0m\u001b[0;34m\u001b[0m\u001b[0m\n\u001b[0m\u001b[1;32m   3445\u001b[0m           \u001b[0mself\u001b[0m\u001b[0;34m.\u001b[0m\u001b[0m_function_cache\u001b[0m\u001b[0;34m.\u001b[0m\u001b[0mprimary\u001b[0m\u001b[0;34m[\u001b[0m\u001b[0mcache_key\u001b[0m\u001b[0;34m]\u001b[0m \u001b[0;34m=\u001b[0m \u001b[0mgraph_function\u001b[0m\u001b[0;34m\u001b[0m\u001b[0;34m\u001b[0m\u001b[0m\n\u001b[1;32m   3446\u001b[0m \u001b[0;34m\u001b[0m\u001b[0m\n",
      "\u001b[0;32m/opt/conda/lib/python3.7/site-packages/tensorflow/python/eager/function.py\u001b[0m in \u001b[0;36m_create_graph_function\u001b[0;34m(self, args, kwargs, override_flat_arg_shapes)\u001b[0m\n\u001b[1;32m   3287\u001b[0m             \u001b[0marg_names\u001b[0m\u001b[0;34m=\u001b[0m\u001b[0marg_names\u001b[0m\u001b[0;34m,\u001b[0m\u001b[0;34m\u001b[0m\u001b[0;34m\u001b[0m\u001b[0m\n\u001b[1;32m   3288\u001b[0m             \u001b[0moverride_flat_arg_shapes\u001b[0m\u001b[0;34m=\u001b[0m\u001b[0moverride_flat_arg_shapes\u001b[0m\u001b[0;34m,\u001b[0m\u001b[0;34m\u001b[0m\u001b[0;34m\u001b[0m\u001b[0m\n\u001b[0;32m-> 3289\u001b[0;31m             capture_by_value=self._capture_by_value),\n\u001b[0m\u001b[1;32m   3290\u001b[0m         \u001b[0mself\u001b[0m\u001b[0;34m.\u001b[0m\u001b[0m_function_attributes\u001b[0m\u001b[0;34m,\u001b[0m\u001b[0;34m\u001b[0m\u001b[0;34m\u001b[0m\u001b[0m\n\u001b[1;32m   3291\u001b[0m         \u001b[0mfunction_spec\u001b[0m\u001b[0;34m=\u001b[0m\u001b[0mself\u001b[0m\u001b[0;34m.\u001b[0m\u001b[0mfunction_spec\u001b[0m\u001b[0;34m,\u001b[0m\u001b[0;34m\u001b[0m\u001b[0;34m\u001b[0m\u001b[0m\n",
      "\u001b[0;32m/opt/conda/lib/python3.7/site-packages/tensorflow/python/framework/func_graph.py\u001b[0m in \u001b[0;36mfunc_graph_from_py_func\u001b[0;34m(name, python_func, args, kwargs, signature, func_graph, autograph, autograph_options, add_control_dependencies, arg_names, op_return_value, collections, capture_by_value, override_flat_arg_shapes)\u001b[0m\n\u001b[1;32m    997\u001b[0m         \u001b[0m_\u001b[0m\u001b[0;34m,\u001b[0m \u001b[0moriginal_func\u001b[0m \u001b[0;34m=\u001b[0m \u001b[0mtf_decorator\u001b[0m\u001b[0;34m.\u001b[0m\u001b[0munwrap\u001b[0m\u001b[0;34m(\u001b[0m\u001b[0mpython_func\u001b[0m\u001b[0;34m)\u001b[0m\u001b[0;34m\u001b[0m\u001b[0;34m\u001b[0m\u001b[0m\n\u001b[1;32m    998\u001b[0m \u001b[0;34m\u001b[0m\u001b[0m\n\u001b[0;32m--> 999\u001b[0;31m       \u001b[0mfunc_outputs\u001b[0m \u001b[0;34m=\u001b[0m \u001b[0mpython_func\u001b[0m\u001b[0;34m(\u001b[0m\u001b[0;34m*\u001b[0m\u001b[0mfunc_args\u001b[0m\u001b[0;34m,\u001b[0m \u001b[0;34m**\u001b[0m\u001b[0mfunc_kwargs\u001b[0m\u001b[0;34m)\u001b[0m\u001b[0;34m\u001b[0m\u001b[0;34m\u001b[0m\u001b[0m\n\u001b[0m\u001b[1;32m   1000\u001b[0m \u001b[0;34m\u001b[0m\u001b[0m\n\u001b[1;32m   1001\u001b[0m       \u001b[0;31m# invariant: `func_outputs` contains only Tensors, CompositeTensors,\u001b[0m\u001b[0;34m\u001b[0m\u001b[0;34m\u001b[0m\u001b[0;34m\u001b[0m\u001b[0m\n",
      "\u001b[0;32m/opt/conda/lib/python3.7/site-packages/tensorflow/python/eager/def_function.py\u001b[0m in \u001b[0;36mwrapped_fn\u001b[0;34m(*args, **kwds)\u001b[0m\n\u001b[1;32m    670\u001b[0m         \u001b[0;31m# the function a weak reference to itself to avoid a reference cycle.\u001b[0m\u001b[0;34m\u001b[0m\u001b[0;34m\u001b[0m\u001b[0;34m\u001b[0m\u001b[0m\n\u001b[1;32m    671\u001b[0m         \u001b[0;32mwith\u001b[0m \u001b[0mOptionalXlaContext\u001b[0m\u001b[0;34m(\u001b[0m\u001b[0mcompile_with_xla\u001b[0m\u001b[0;34m)\u001b[0m\u001b[0;34m:\u001b[0m\u001b[0;34m\u001b[0m\u001b[0;34m\u001b[0m\u001b[0m\n\u001b[0;32m--> 672\u001b[0;31m           \u001b[0mout\u001b[0m \u001b[0;34m=\u001b[0m \u001b[0mweak_wrapped_fn\u001b[0m\u001b[0;34m(\u001b[0m\u001b[0;34m)\u001b[0m\u001b[0;34m.\u001b[0m\u001b[0m__wrapped__\u001b[0m\u001b[0;34m(\u001b[0m\u001b[0;34m*\u001b[0m\u001b[0margs\u001b[0m\u001b[0;34m,\u001b[0m \u001b[0;34m**\u001b[0m\u001b[0mkwds\u001b[0m\u001b[0;34m)\u001b[0m\u001b[0;34m\u001b[0m\u001b[0;34m\u001b[0m\u001b[0m\n\u001b[0m\u001b[1;32m    673\u001b[0m         \u001b[0;32mreturn\u001b[0m \u001b[0mout\u001b[0m\u001b[0;34m\u001b[0m\u001b[0;34m\u001b[0m\u001b[0m\n\u001b[1;32m    674\u001b[0m \u001b[0;34m\u001b[0m\u001b[0m\n",
      "\u001b[0;32m/opt/conda/lib/python3.7/site-packages/tensorflow/python/framework/func_graph.py\u001b[0m in \u001b[0;36mwrapper\u001b[0;34m(*args, **kwargs)\u001b[0m\n\u001b[1;32m    980\u001b[0m                     \u001b[0mrecursive\u001b[0m\u001b[0;34m=\u001b[0m\u001b[0;32mTrue\u001b[0m\u001b[0;34m,\u001b[0m\u001b[0;34m\u001b[0m\u001b[0;34m\u001b[0m\u001b[0m\n\u001b[1;32m    981\u001b[0m                     \u001b[0moptional_features\u001b[0m\u001b[0;34m=\u001b[0m\u001b[0mautograph_options\u001b[0m\u001b[0;34m,\u001b[0m\u001b[0;34m\u001b[0m\u001b[0;34m\u001b[0m\u001b[0m\n\u001b[0;32m--> 982\u001b[0;31m                     \u001b[0muser_requested\u001b[0m\u001b[0;34m=\u001b[0m\u001b[0;32mTrue\u001b[0m\u001b[0;34m,\u001b[0m\u001b[0;34m\u001b[0m\u001b[0;34m\u001b[0m\u001b[0m\n\u001b[0m\u001b[1;32m    983\u001b[0m                 ))\n\u001b[1;32m    984\u001b[0m           \u001b[0;32mexcept\u001b[0m \u001b[0mException\u001b[0m \u001b[0;32mas\u001b[0m \u001b[0me\u001b[0m\u001b[0;34m:\u001b[0m  \u001b[0;31m# pylint:disable=broad-except\u001b[0m\u001b[0;34m\u001b[0m\u001b[0;34m\u001b[0m\u001b[0m\n",
      "\u001b[0;32m/opt/conda/lib/python3.7/site-packages/tensorflow/python/autograph/impl/api.py\u001b[0m in \u001b[0;36mconverted_call\u001b[0;34m(f, args, kwargs, caller_fn_scope, options)\u001b[0m\n\u001b[1;32m    442\u001b[0m     \u001b[0;32mtry\u001b[0m\u001b[0;34m:\u001b[0m\u001b[0;34m\u001b[0m\u001b[0;34m\u001b[0m\u001b[0m\n\u001b[1;32m    443\u001b[0m       \u001b[0;32mif\u001b[0m \u001b[0mkwargs\u001b[0m \u001b[0;32mis\u001b[0m \u001b[0;32mnot\u001b[0m \u001b[0;32mNone\u001b[0m\u001b[0;34m:\u001b[0m\u001b[0;34m\u001b[0m\u001b[0;34m\u001b[0m\u001b[0m\n\u001b[0;32m--> 444\u001b[0;31m         \u001b[0mresult\u001b[0m \u001b[0;34m=\u001b[0m \u001b[0mconverted_f\u001b[0m\u001b[0;34m(\u001b[0m\u001b[0;34m*\u001b[0m\u001b[0meffective_args\u001b[0m\u001b[0;34m,\u001b[0m \u001b[0;34m**\u001b[0m\u001b[0mkwargs\u001b[0m\u001b[0;34m)\u001b[0m\u001b[0;34m\u001b[0m\u001b[0;34m\u001b[0m\u001b[0m\n\u001b[0m\u001b[1;32m    445\u001b[0m       \u001b[0;32melse\u001b[0m\u001b[0;34m:\u001b[0m\u001b[0;34m\u001b[0m\u001b[0;34m\u001b[0m\u001b[0m\n\u001b[1;32m    446\u001b[0m         \u001b[0mresult\u001b[0m \u001b[0;34m=\u001b[0m \u001b[0mconverted_f\u001b[0m\u001b[0;34m(\u001b[0m\u001b[0;34m*\u001b[0m\u001b[0meffective_args\u001b[0m\u001b[0;34m)\u001b[0m\u001b[0;34m\u001b[0m\u001b[0;34m\u001b[0m\u001b[0m\n",
      "\u001b[0;32m/opt/conda/lib/python3.7/site-packages/tensorflow/python/keras/engine/training.py\u001b[0m in \u001b[0;36mtf__train_function\u001b[0;34m(iterator)\u001b[0m\n\u001b[1;32m     13\u001b[0m                 \u001b[0;32mtry\u001b[0m\u001b[0;34m:\u001b[0m\u001b[0;34m\u001b[0m\u001b[0;34m\u001b[0m\u001b[0m\n\u001b[1;32m     14\u001b[0m                     \u001b[0mdo_return\u001b[0m \u001b[0;34m=\u001b[0m \u001b[0;32mTrue\u001b[0m\u001b[0;34m\u001b[0m\u001b[0;34m\u001b[0m\u001b[0m\n\u001b[0;32m---> 15\u001b[0;31m                     \u001b[0mretval_\u001b[0m \u001b[0;34m=\u001b[0m \u001b[0mag__\u001b[0m\u001b[0;34m.\u001b[0m\u001b[0mconverted_call\u001b[0m\u001b[0;34m(\u001b[0m\u001b[0mag__\u001b[0m\u001b[0;34m.\u001b[0m\u001b[0mld\u001b[0m\u001b[0;34m(\u001b[0m\u001b[0mstep_function\u001b[0m\u001b[0;34m)\u001b[0m\u001b[0;34m,\u001b[0m \u001b[0;34m(\u001b[0m\u001b[0mag__\u001b[0m\u001b[0;34m.\u001b[0m\u001b[0mld\u001b[0m\u001b[0;34m(\u001b[0m\u001b[0mself\u001b[0m\u001b[0;34m)\u001b[0m\u001b[0;34m,\u001b[0m \u001b[0mag__\u001b[0m\u001b[0;34m.\u001b[0m\u001b[0mld\u001b[0m\u001b[0;34m(\u001b[0m\u001b[0miterator\u001b[0m\u001b[0;34m)\u001b[0m\u001b[0;34m)\u001b[0m\u001b[0;34m,\u001b[0m \u001b[0;32mNone\u001b[0m\u001b[0;34m,\u001b[0m \u001b[0mfscope\u001b[0m\u001b[0;34m)\u001b[0m\u001b[0;34m\u001b[0m\u001b[0;34m\u001b[0m\u001b[0m\n\u001b[0m\u001b[1;32m     16\u001b[0m                 \u001b[0;32mexcept\u001b[0m\u001b[0;34m:\u001b[0m\u001b[0;34m\u001b[0m\u001b[0;34m\u001b[0m\u001b[0m\n\u001b[1;32m     17\u001b[0m                     \u001b[0mdo_return\u001b[0m \u001b[0;34m=\u001b[0m \u001b[0;32mFalse\u001b[0m\u001b[0;34m\u001b[0m\u001b[0;34m\u001b[0m\u001b[0m\n",
      "\u001b[0;32m/opt/conda/lib/python3.7/site-packages/tensorflow/python/autograph/impl/api.py\u001b[0m in \u001b[0;36mconverted_call\u001b[0;34m(f, args, kwargs, caller_fn_scope, options)\u001b[0m\n\u001b[1;32m    334\u001b[0m   \u001b[0;32mif\u001b[0m \u001b[0mconversion\u001b[0m\u001b[0;34m.\u001b[0m\u001b[0mis_in_allowlist_cache\u001b[0m\u001b[0;34m(\u001b[0m\u001b[0mf\u001b[0m\u001b[0;34m,\u001b[0m \u001b[0moptions\u001b[0m\u001b[0;34m)\u001b[0m\u001b[0;34m:\u001b[0m\u001b[0;34m\u001b[0m\u001b[0;34m\u001b[0m\u001b[0m\n\u001b[1;32m    335\u001b[0m     \u001b[0mlogging\u001b[0m\u001b[0;34m.\u001b[0m\u001b[0mlog\u001b[0m\u001b[0;34m(\u001b[0m\u001b[0;36m2\u001b[0m\u001b[0;34m,\u001b[0m \u001b[0;34m'Allowlisted %s: from cache'\u001b[0m\u001b[0;34m,\u001b[0m \u001b[0mf\u001b[0m\u001b[0;34m)\u001b[0m\u001b[0;34m\u001b[0m\u001b[0;34m\u001b[0m\u001b[0m\n\u001b[0;32m--> 336\u001b[0;31m     \u001b[0;32mreturn\u001b[0m \u001b[0m_call_unconverted\u001b[0m\u001b[0;34m(\u001b[0m\u001b[0mf\u001b[0m\u001b[0;34m,\u001b[0m \u001b[0margs\u001b[0m\u001b[0;34m,\u001b[0m \u001b[0mkwargs\u001b[0m\u001b[0;34m,\u001b[0m \u001b[0moptions\u001b[0m\u001b[0;34m,\u001b[0m \u001b[0;32mFalse\u001b[0m\u001b[0;34m)\u001b[0m\u001b[0;34m\u001b[0m\u001b[0;34m\u001b[0m\u001b[0m\n\u001b[0m\u001b[1;32m    337\u001b[0m \u001b[0;34m\u001b[0m\u001b[0m\n\u001b[1;32m    338\u001b[0m   \u001b[0;32mif\u001b[0m \u001b[0mag_ctx\u001b[0m\u001b[0;34m.\u001b[0m\u001b[0mcontrol_status_ctx\u001b[0m\u001b[0;34m(\u001b[0m\u001b[0;34m)\u001b[0m\u001b[0;34m.\u001b[0m\u001b[0mstatus\u001b[0m \u001b[0;34m==\u001b[0m \u001b[0mag_ctx\u001b[0m\u001b[0;34m.\u001b[0m\u001b[0mStatus\u001b[0m\u001b[0;34m.\u001b[0m\u001b[0mDISABLED\u001b[0m\u001b[0;34m:\u001b[0m\u001b[0;34m\u001b[0m\u001b[0;34m\u001b[0m\u001b[0m\n",
      "\u001b[0;32m/opt/conda/lib/python3.7/site-packages/tensorflow/python/autograph/impl/api.py\u001b[0m in \u001b[0;36m_call_unconverted\u001b[0;34m(f, args, kwargs, options, update_cache)\u001b[0m\n\u001b[1;32m    462\u001b[0m   \u001b[0;32mif\u001b[0m \u001b[0mkwargs\u001b[0m \u001b[0;32mis\u001b[0m \u001b[0;32mnot\u001b[0m \u001b[0;32mNone\u001b[0m\u001b[0;34m:\u001b[0m\u001b[0;34m\u001b[0m\u001b[0;34m\u001b[0m\u001b[0m\n\u001b[1;32m    463\u001b[0m     \u001b[0;32mreturn\u001b[0m \u001b[0mf\u001b[0m\u001b[0;34m(\u001b[0m\u001b[0;34m*\u001b[0m\u001b[0margs\u001b[0m\u001b[0;34m,\u001b[0m \u001b[0;34m**\u001b[0m\u001b[0mkwargs\u001b[0m\u001b[0;34m)\u001b[0m\u001b[0;34m\u001b[0m\u001b[0;34m\u001b[0m\u001b[0m\n\u001b[0;32m--> 464\u001b[0;31m   \u001b[0;32mreturn\u001b[0m \u001b[0mf\u001b[0m\u001b[0;34m(\u001b[0m\u001b[0;34m*\u001b[0m\u001b[0margs\u001b[0m\u001b[0;34m)\u001b[0m\u001b[0;34m\u001b[0m\u001b[0;34m\u001b[0m\u001b[0m\n\u001b[0m\u001b[1;32m    465\u001b[0m \u001b[0;34m\u001b[0m\u001b[0m\n\u001b[1;32m    466\u001b[0m \u001b[0;34m\u001b[0m\u001b[0m\n",
      "\u001b[0;32m/opt/conda/lib/python3.7/site-packages/tensorflow/python/keras/engine/training.py\u001b[0m in \u001b[0;36mstep_function\u001b[0;34m(model, iterator)\u001b[0m\n\u001b[1;32m    843\u001b[0m \u001b[0;34m\u001b[0m\u001b[0m\n\u001b[1;32m    844\u001b[0m       \u001b[0mdata\u001b[0m \u001b[0;34m=\u001b[0m \u001b[0mnext\u001b[0m\u001b[0;34m(\u001b[0m\u001b[0miterator\u001b[0m\u001b[0;34m)\u001b[0m\u001b[0;34m\u001b[0m\u001b[0;34m\u001b[0m\u001b[0m\n\u001b[0;32m--> 845\u001b[0;31m       \u001b[0moutputs\u001b[0m \u001b[0;34m=\u001b[0m \u001b[0mmodel\u001b[0m\u001b[0;34m.\u001b[0m\u001b[0mdistribute_strategy\u001b[0m\u001b[0;34m.\u001b[0m\u001b[0mrun\u001b[0m\u001b[0;34m(\u001b[0m\u001b[0mrun_step\u001b[0m\u001b[0;34m,\u001b[0m \u001b[0margs\u001b[0m\u001b[0;34m=\u001b[0m\u001b[0;34m(\u001b[0m\u001b[0mdata\u001b[0m\u001b[0;34m,\u001b[0m\u001b[0;34m)\u001b[0m\u001b[0;34m)\u001b[0m\u001b[0;34m\u001b[0m\u001b[0;34m\u001b[0m\u001b[0m\n\u001b[0m\u001b[1;32m    846\u001b[0m       outputs = reduce_per_replica(\n\u001b[1;32m    847\u001b[0m           outputs, self.distribute_strategy, reduction='first')\n",
      "\u001b[0;32m/opt/conda/lib/python3.7/site-packages/tensorflow/python/distribute/distribute_lib.py\u001b[0m in \u001b[0;36mrun\u001b[0;34m(***failed resolving arguments***)\u001b[0m\n\u001b[1;32m   1283\u001b[0m       fn = autograph.tf_convert(\n\u001b[1;32m   1284\u001b[0m           fn, autograph_ctx.control_status_ctx(), convert_by_default=False)\n\u001b[0;32m-> 1285\u001b[0;31m       \u001b[0;32mreturn\u001b[0m \u001b[0mself\u001b[0m\u001b[0;34m.\u001b[0m\u001b[0m_extended\u001b[0m\u001b[0;34m.\u001b[0m\u001b[0mcall_for_each_replica\u001b[0m\u001b[0;34m(\u001b[0m\u001b[0mfn\u001b[0m\u001b[0;34m,\u001b[0m \u001b[0margs\u001b[0m\u001b[0;34m=\u001b[0m\u001b[0margs\u001b[0m\u001b[0;34m,\u001b[0m \u001b[0mkwargs\u001b[0m\u001b[0;34m=\u001b[0m\u001b[0mkwargs\u001b[0m\u001b[0;34m)\u001b[0m\u001b[0;34m\u001b[0m\u001b[0;34m\u001b[0m\u001b[0m\n\u001b[0m\u001b[1;32m   1286\u001b[0m \u001b[0;34m\u001b[0m\u001b[0m\n\u001b[1;32m   1287\u001b[0m   \u001b[0;32mdef\u001b[0m \u001b[0mreduce\u001b[0m\u001b[0;34m(\u001b[0m\u001b[0mself\u001b[0m\u001b[0;34m,\u001b[0m \u001b[0mreduce_op\u001b[0m\u001b[0;34m,\u001b[0m \u001b[0mvalue\u001b[0m\u001b[0;34m,\u001b[0m \u001b[0maxis\u001b[0m\u001b[0;34m)\u001b[0m\u001b[0;34m:\u001b[0m\u001b[0;34m\u001b[0m\u001b[0;34m\u001b[0m\u001b[0m\n",
      "\u001b[0;32m/opt/conda/lib/python3.7/site-packages/tensorflow/python/distribute/distribute_lib.py\u001b[0m in \u001b[0;36mcall_for_each_replica\u001b[0;34m(self, fn, args, kwargs)\u001b[0m\n\u001b[1;32m   2831\u001b[0m       \u001b[0mkwargs\u001b[0m \u001b[0;34m=\u001b[0m \u001b[0;34m{\u001b[0m\u001b[0;34m}\u001b[0m\u001b[0;34m\u001b[0m\u001b[0;34m\u001b[0m\u001b[0m\n\u001b[1;32m   2832\u001b[0m     \u001b[0;32mwith\u001b[0m \u001b[0mself\u001b[0m\u001b[0;34m.\u001b[0m\u001b[0m_container_strategy\u001b[0m\u001b[0;34m(\u001b[0m\u001b[0;34m)\u001b[0m\u001b[0;34m.\u001b[0m\u001b[0mscope\u001b[0m\u001b[0;34m(\u001b[0m\u001b[0;34m)\u001b[0m\u001b[0;34m:\u001b[0m\u001b[0;34m\u001b[0m\u001b[0;34m\u001b[0m\u001b[0m\n\u001b[0;32m-> 2833\u001b[0;31m       \u001b[0;32mreturn\u001b[0m \u001b[0mself\u001b[0m\u001b[0;34m.\u001b[0m\u001b[0m_call_for_each_replica\u001b[0m\u001b[0;34m(\u001b[0m\u001b[0mfn\u001b[0m\u001b[0;34m,\u001b[0m \u001b[0margs\u001b[0m\u001b[0;34m,\u001b[0m \u001b[0mkwargs\u001b[0m\u001b[0;34m)\u001b[0m\u001b[0;34m\u001b[0m\u001b[0;34m\u001b[0m\u001b[0m\n\u001b[0m\u001b[1;32m   2834\u001b[0m \u001b[0;34m\u001b[0m\u001b[0m\n\u001b[1;32m   2835\u001b[0m   \u001b[0;32mdef\u001b[0m \u001b[0m_call_for_each_replica\u001b[0m\u001b[0;34m(\u001b[0m\u001b[0mself\u001b[0m\u001b[0;34m,\u001b[0m \u001b[0mfn\u001b[0m\u001b[0;34m,\u001b[0m \u001b[0margs\u001b[0m\u001b[0;34m,\u001b[0m \u001b[0mkwargs\u001b[0m\u001b[0;34m)\u001b[0m\u001b[0;34m:\u001b[0m\u001b[0;34m\u001b[0m\u001b[0;34m\u001b[0m\u001b[0m\n",
      "\u001b[0;32m/opt/conda/lib/python3.7/site-packages/tensorflow/python/distribute/distribute_lib.py\u001b[0m in \u001b[0;36m_call_for_each_replica\u001b[0;34m(self, fn, args, kwargs)\u001b[0m\n\u001b[1;32m   3606\u001b[0m   \u001b[0;32mdef\u001b[0m \u001b[0m_call_for_each_replica\u001b[0m\u001b[0;34m(\u001b[0m\u001b[0mself\u001b[0m\u001b[0;34m,\u001b[0m \u001b[0mfn\u001b[0m\u001b[0;34m,\u001b[0m \u001b[0margs\u001b[0m\u001b[0;34m,\u001b[0m \u001b[0mkwargs\u001b[0m\u001b[0;34m)\u001b[0m\u001b[0;34m:\u001b[0m\u001b[0;34m\u001b[0m\u001b[0;34m\u001b[0m\u001b[0m\n\u001b[1;32m   3607\u001b[0m     \u001b[0;32mwith\u001b[0m \u001b[0mReplicaContext\u001b[0m\u001b[0;34m(\u001b[0m\u001b[0mself\u001b[0m\u001b[0;34m.\u001b[0m\u001b[0m_container_strategy\u001b[0m\u001b[0;34m(\u001b[0m\u001b[0;34m)\u001b[0m\u001b[0;34m,\u001b[0m \u001b[0mreplica_id_in_sync_group\u001b[0m\u001b[0;34m=\u001b[0m\u001b[0;36m0\u001b[0m\u001b[0;34m)\u001b[0m\u001b[0;34m:\u001b[0m\u001b[0;34m\u001b[0m\u001b[0;34m\u001b[0m\u001b[0m\n\u001b[0;32m-> 3608\u001b[0;31m       \u001b[0;32mreturn\u001b[0m \u001b[0mfn\u001b[0m\u001b[0;34m(\u001b[0m\u001b[0;34m*\u001b[0m\u001b[0margs\u001b[0m\u001b[0;34m,\u001b[0m \u001b[0;34m**\u001b[0m\u001b[0mkwargs\u001b[0m\u001b[0;34m)\u001b[0m\u001b[0;34m\u001b[0m\u001b[0;34m\u001b[0m\u001b[0m\n\u001b[0m\u001b[1;32m   3609\u001b[0m \u001b[0;34m\u001b[0m\u001b[0m\n\u001b[1;32m   3610\u001b[0m   \u001b[0;32mdef\u001b[0m \u001b[0m_reduce_to\u001b[0m\u001b[0;34m(\u001b[0m\u001b[0mself\u001b[0m\u001b[0;34m,\u001b[0m \u001b[0mreduce_op\u001b[0m\u001b[0;34m,\u001b[0m \u001b[0mvalue\u001b[0m\u001b[0;34m,\u001b[0m \u001b[0mdestinations\u001b[0m\u001b[0;34m,\u001b[0m \u001b[0moptions\u001b[0m\u001b[0;34m)\u001b[0m\u001b[0;34m:\u001b[0m\u001b[0;34m\u001b[0m\u001b[0;34m\u001b[0m\u001b[0m\n",
      "\u001b[0;32m/opt/conda/lib/python3.7/site-packages/tensorflow/python/autograph/impl/api.py\u001b[0m in \u001b[0;36mwrapper\u001b[0;34m(*args, **kwargs)\u001b[0m\n\u001b[1;32m    690\u001b[0m       \u001b[0;32mtry\u001b[0m\u001b[0;34m:\u001b[0m\u001b[0;34m\u001b[0m\u001b[0;34m\u001b[0m\u001b[0m\n\u001b[1;32m    691\u001b[0m         \u001b[0;32mwith\u001b[0m \u001b[0mconversion_ctx\u001b[0m\u001b[0;34m:\u001b[0m\u001b[0;34m\u001b[0m\u001b[0;34m\u001b[0m\u001b[0m\n\u001b[0;32m--> 692\u001b[0;31m           \u001b[0;32mreturn\u001b[0m \u001b[0mconverted_call\u001b[0m\u001b[0;34m(\u001b[0m\u001b[0mf\u001b[0m\u001b[0;34m,\u001b[0m \u001b[0margs\u001b[0m\u001b[0;34m,\u001b[0m \u001b[0mkwargs\u001b[0m\u001b[0;34m,\u001b[0m \u001b[0moptions\u001b[0m\u001b[0;34m=\u001b[0m\u001b[0moptions\u001b[0m\u001b[0;34m)\u001b[0m\u001b[0;34m\u001b[0m\u001b[0;34m\u001b[0m\u001b[0m\n\u001b[0m\u001b[1;32m    693\u001b[0m       \u001b[0;32mexcept\u001b[0m \u001b[0mException\u001b[0m \u001b[0;32mas\u001b[0m \u001b[0me\u001b[0m\u001b[0;34m:\u001b[0m  \u001b[0;31m# pylint:disable=broad-except\u001b[0m\u001b[0;34m\u001b[0m\u001b[0;34m\u001b[0m\u001b[0m\n\u001b[1;32m    694\u001b[0m         \u001b[0;32mif\u001b[0m \u001b[0mhasattr\u001b[0m\u001b[0;34m(\u001b[0m\u001b[0me\u001b[0m\u001b[0;34m,\u001b[0m \u001b[0;34m'ag_error_metadata'\u001b[0m\u001b[0;34m)\u001b[0m\u001b[0;34m:\u001b[0m\u001b[0;34m\u001b[0m\u001b[0;34m\u001b[0m\u001b[0m\n",
      "\u001b[0;32m/opt/conda/lib/python3.7/site-packages/tensorflow/python/autograph/impl/api.py\u001b[0m in \u001b[0;36mconverted_call\u001b[0;34m(f, args, kwargs, caller_fn_scope, options)\u001b[0m\n\u001b[1;32m    380\u001b[0m \u001b[0;34m\u001b[0m\u001b[0m\n\u001b[1;32m    381\u001b[0m   \u001b[0;32mif\u001b[0m \u001b[0;32mnot\u001b[0m \u001b[0moptions\u001b[0m\u001b[0;34m.\u001b[0m\u001b[0muser_requested\u001b[0m \u001b[0;32mand\u001b[0m \u001b[0mconversion\u001b[0m\u001b[0;34m.\u001b[0m\u001b[0mis_allowlisted\u001b[0m\u001b[0;34m(\u001b[0m\u001b[0mf\u001b[0m\u001b[0;34m)\u001b[0m\u001b[0;34m:\u001b[0m\u001b[0;34m\u001b[0m\u001b[0;34m\u001b[0m\u001b[0m\n\u001b[0;32m--> 382\u001b[0;31m     \u001b[0;32mreturn\u001b[0m \u001b[0m_call_unconverted\u001b[0m\u001b[0;34m(\u001b[0m\u001b[0mf\u001b[0m\u001b[0;34m,\u001b[0m \u001b[0margs\u001b[0m\u001b[0;34m,\u001b[0m \u001b[0mkwargs\u001b[0m\u001b[0;34m,\u001b[0m \u001b[0moptions\u001b[0m\u001b[0;34m)\u001b[0m\u001b[0;34m\u001b[0m\u001b[0;34m\u001b[0m\u001b[0m\n\u001b[0m\u001b[1;32m    383\u001b[0m \u001b[0;34m\u001b[0m\u001b[0m\n\u001b[1;32m    384\u001b[0m   \u001b[0;31m# internal_convert_user_code is for example turned off when issuing a dynamic\u001b[0m\u001b[0;34m\u001b[0m\u001b[0;34m\u001b[0m\u001b[0;34m\u001b[0m\u001b[0m\n",
      "\u001b[0;32m/opt/conda/lib/python3.7/site-packages/tensorflow/python/autograph/impl/api.py\u001b[0m in \u001b[0;36m_call_unconverted\u001b[0;34m(f, args, kwargs, options, update_cache)\u001b[0m\n\u001b[1;32m    461\u001b[0m \u001b[0;34m\u001b[0m\u001b[0m\n\u001b[1;32m    462\u001b[0m   \u001b[0;32mif\u001b[0m \u001b[0mkwargs\u001b[0m \u001b[0;32mis\u001b[0m \u001b[0;32mnot\u001b[0m \u001b[0;32mNone\u001b[0m\u001b[0;34m:\u001b[0m\u001b[0;34m\u001b[0m\u001b[0;34m\u001b[0m\u001b[0m\n\u001b[0;32m--> 463\u001b[0;31m     \u001b[0;32mreturn\u001b[0m \u001b[0mf\u001b[0m\u001b[0;34m(\u001b[0m\u001b[0;34m*\u001b[0m\u001b[0margs\u001b[0m\u001b[0;34m,\u001b[0m \u001b[0;34m**\u001b[0m\u001b[0mkwargs\u001b[0m\u001b[0;34m)\u001b[0m\u001b[0;34m\u001b[0m\u001b[0;34m\u001b[0m\u001b[0m\n\u001b[0m\u001b[1;32m    464\u001b[0m   \u001b[0;32mreturn\u001b[0m \u001b[0mf\u001b[0m\u001b[0;34m(\u001b[0m\u001b[0;34m*\u001b[0m\u001b[0margs\u001b[0m\u001b[0;34m)\u001b[0m\u001b[0;34m\u001b[0m\u001b[0;34m\u001b[0m\u001b[0m\n\u001b[1;32m    465\u001b[0m \u001b[0;34m\u001b[0m\u001b[0m\n",
      "\u001b[0;32m/opt/conda/lib/python3.7/site-packages/tensorflow/python/keras/engine/training.py\u001b[0m in \u001b[0;36mrun_step\u001b[0;34m(data)\u001b[0m\n\u001b[1;32m    836\u001b[0m \u001b[0;34m\u001b[0m\u001b[0m\n\u001b[1;32m    837\u001b[0m       \u001b[0;32mdef\u001b[0m \u001b[0mrun_step\u001b[0m\u001b[0;34m(\u001b[0m\u001b[0mdata\u001b[0m\u001b[0;34m)\u001b[0m\u001b[0;34m:\u001b[0m\u001b[0;34m\u001b[0m\u001b[0;34m\u001b[0m\u001b[0m\n\u001b[0;32m--> 838\u001b[0;31m         \u001b[0moutputs\u001b[0m \u001b[0;34m=\u001b[0m \u001b[0mmodel\u001b[0m\u001b[0;34m.\u001b[0m\u001b[0mtrain_step\u001b[0m\u001b[0;34m(\u001b[0m\u001b[0mdata\u001b[0m\u001b[0;34m)\u001b[0m\u001b[0;34m\u001b[0m\u001b[0;34m\u001b[0m\u001b[0m\n\u001b[0m\u001b[1;32m    839\u001b[0m         \u001b[0;31m# Ensure counter is updated only if `train_step` succeeds.\u001b[0m\u001b[0;34m\u001b[0m\u001b[0;34m\u001b[0m\u001b[0;34m\u001b[0m\u001b[0m\n\u001b[1;32m    840\u001b[0m         \u001b[0;32mwith\u001b[0m \u001b[0mops\u001b[0m\u001b[0;34m.\u001b[0m\u001b[0mcontrol_dependencies\u001b[0m\u001b[0;34m(\u001b[0m\u001b[0m_minimum_control_deps\u001b[0m\u001b[0;34m(\u001b[0m\u001b[0moutputs\u001b[0m\u001b[0;34m)\u001b[0m\u001b[0;34m)\u001b[0m\u001b[0;34m:\u001b[0m\u001b[0;34m\u001b[0m\u001b[0;34m\u001b[0m\u001b[0m\n",
      "\u001b[0;32m/opt/conda/lib/python3.7/site-packages/tensorflow/python/keras/engine/training.py\u001b[0m in \u001b[0;36mtrain_step\u001b[0;34m(self, data)\u001b[0m\n\u001b[1;32m    795\u001b[0m       \u001b[0my_pred\u001b[0m \u001b[0;34m=\u001b[0m \u001b[0mself\u001b[0m\u001b[0;34m(\u001b[0m\u001b[0mx\u001b[0m\u001b[0;34m,\u001b[0m \u001b[0mtraining\u001b[0m\u001b[0;34m=\u001b[0m\u001b[0;32mTrue\u001b[0m\u001b[0;34m)\u001b[0m\u001b[0;34m\u001b[0m\u001b[0;34m\u001b[0m\u001b[0m\n\u001b[1;32m    796\u001b[0m       loss = self.compiled_loss(\n\u001b[0;32m--> 797\u001b[0;31m           y, y_pred, sample_weight, regularization_losses=self.losses)\n\u001b[0m\u001b[1;32m    798\u001b[0m     \u001b[0;31m# Run backwards pass.\u001b[0m\u001b[0;34m\u001b[0m\u001b[0;34m\u001b[0m\u001b[0;34m\u001b[0m\u001b[0m\n\u001b[1;32m    799\u001b[0m     \u001b[0mself\u001b[0m\u001b[0;34m.\u001b[0m\u001b[0moptimizer\u001b[0m\u001b[0;34m.\u001b[0m\u001b[0mminimize\u001b[0m\u001b[0;34m(\u001b[0m\u001b[0mloss\u001b[0m\u001b[0;34m,\u001b[0m \u001b[0mself\u001b[0m\u001b[0;34m.\u001b[0m\u001b[0mtrainable_variables\u001b[0m\u001b[0;34m,\u001b[0m \u001b[0mtape\u001b[0m\u001b[0;34m=\u001b[0m\u001b[0mtape\u001b[0m\u001b[0;34m)\u001b[0m\u001b[0;34m\u001b[0m\u001b[0;34m\u001b[0m\u001b[0m\n",
      "\u001b[0;32m/opt/conda/lib/python3.7/site-packages/tensorflow/python/keras/engine/compile_utils.py\u001b[0m in \u001b[0;36m__call__\u001b[0;34m(self, y_true, y_pred, sample_weight, regularization_losses)\u001b[0m\n\u001b[1;32m    213\u001b[0m           \u001b[0mbatch_dim\u001b[0m \u001b[0;34m=\u001b[0m \u001b[0my_t\u001b[0m\u001b[0;34m.\u001b[0m\u001b[0mnrows\u001b[0m\u001b[0;34m(\u001b[0m\u001b[0;34m)\u001b[0m\u001b[0;34m\u001b[0m\u001b[0;34m\u001b[0m\u001b[0m\n\u001b[1;32m    214\u001b[0m         \u001b[0;32melse\u001b[0m\u001b[0;34m:\u001b[0m\u001b[0;34m\u001b[0m\u001b[0;34m\u001b[0m\u001b[0m\n\u001b[0;32m--> 215\u001b[0;31m           \u001b[0mbatch_dim\u001b[0m \u001b[0;34m=\u001b[0m \u001b[0marray_ops\u001b[0m\u001b[0;34m.\u001b[0m\u001b[0mshape\u001b[0m\u001b[0;34m(\u001b[0m\u001b[0my_t\u001b[0m\u001b[0;34m)\u001b[0m\u001b[0;34m[\u001b[0m\u001b[0;36m0\u001b[0m\u001b[0;34m]\u001b[0m\u001b[0;34m\u001b[0m\u001b[0;34m\u001b[0m\u001b[0m\n\u001b[0m\u001b[1;32m    216\u001b[0m \u001b[0;34m\u001b[0m\u001b[0m\n\u001b[1;32m    217\u001b[0m       \u001b[0;32mif\u001b[0m \u001b[0mmetric_obj\u001b[0m \u001b[0;32mis\u001b[0m \u001b[0;32mnot\u001b[0m \u001b[0;32mNone\u001b[0m\u001b[0;34m:\u001b[0m\u001b[0;34m\u001b[0m\u001b[0;34m\u001b[0m\u001b[0m\n",
      "\u001b[0;32m/opt/conda/lib/python3.7/site-packages/tensorflow/python/util/dispatch.py\u001b[0m in \u001b[0;36mwrapper\u001b[0;34m(*args, **kwargs)\u001b[0m\n\u001b[1;32m    204\u001b[0m     \u001b[0;34m\"\"\"Call target, and fall back on dispatchers if there is a TypeError.\"\"\"\u001b[0m\u001b[0;34m\u001b[0m\u001b[0;34m\u001b[0m\u001b[0m\n\u001b[1;32m    205\u001b[0m     \u001b[0;32mtry\u001b[0m\u001b[0;34m:\u001b[0m\u001b[0;34m\u001b[0m\u001b[0;34m\u001b[0m\u001b[0m\n\u001b[0;32m--> 206\u001b[0;31m       \u001b[0;32mreturn\u001b[0m \u001b[0mtarget\u001b[0m\u001b[0;34m(\u001b[0m\u001b[0;34m*\u001b[0m\u001b[0margs\u001b[0m\u001b[0;34m,\u001b[0m \u001b[0;34m**\u001b[0m\u001b[0mkwargs\u001b[0m\u001b[0;34m)\u001b[0m\u001b[0;34m\u001b[0m\u001b[0;34m\u001b[0m\u001b[0m\n\u001b[0m\u001b[1;32m    207\u001b[0m     \u001b[0;32mexcept\u001b[0m \u001b[0;34m(\u001b[0m\u001b[0mTypeError\u001b[0m\u001b[0;34m,\u001b[0m \u001b[0mValueError\u001b[0m\u001b[0;34m)\u001b[0m\u001b[0;34m:\u001b[0m\u001b[0;34m\u001b[0m\u001b[0;34m\u001b[0m\u001b[0m\n\u001b[1;32m    208\u001b[0m       \u001b[0;31m# Note: convert_to_eager_tensor currently raises a ValueError, not a\u001b[0m\u001b[0;34m\u001b[0m\u001b[0;34m\u001b[0m\u001b[0;34m\u001b[0m\u001b[0m\n",
      "\u001b[0;32m/opt/conda/lib/python3.7/site-packages/tensorflow/python/ops/array_ops.py\u001b[0m in \u001b[0;36m_slice_helper\u001b[0;34m(tensor, slice_spec, var)\u001b[0m\n\u001b[1;32m   1049\u001b[0m         \u001b[0mellipsis_mask\u001b[0m\u001b[0;34m=\u001b[0m\u001b[0mellipsis_mask\u001b[0m\u001b[0;34m,\u001b[0m\u001b[0;34m\u001b[0m\u001b[0;34m\u001b[0m\u001b[0m\n\u001b[1;32m   1050\u001b[0m         \u001b[0mvar\u001b[0m\u001b[0;34m=\u001b[0m\u001b[0mvar\u001b[0m\u001b[0;34m,\u001b[0m\u001b[0;34m\u001b[0m\u001b[0;34m\u001b[0m\u001b[0m\n\u001b[0;32m-> 1051\u001b[0;31m         name=name)\n\u001b[0m\u001b[1;32m   1052\u001b[0m \u001b[0;34m\u001b[0m\u001b[0m\n\u001b[1;32m   1053\u001b[0m \u001b[0;34m\u001b[0m\u001b[0m\n",
      "\u001b[0;32m/opt/conda/lib/python3.7/site-packages/tensorflow/python/util/dispatch.py\u001b[0m in \u001b[0;36mwrapper\u001b[0;34m(*args, **kwargs)\u001b[0m\n\u001b[1;32m    204\u001b[0m     \u001b[0;34m\"\"\"Call target, and fall back on dispatchers if there is a TypeError.\"\"\"\u001b[0m\u001b[0;34m\u001b[0m\u001b[0;34m\u001b[0m\u001b[0m\n\u001b[1;32m    205\u001b[0m     \u001b[0;32mtry\u001b[0m\u001b[0;34m:\u001b[0m\u001b[0;34m\u001b[0m\u001b[0;34m\u001b[0m\u001b[0m\n\u001b[0;32m--> 206\u001b[0;31m       \u001b[0;32mreturn\u001b[0m \u001b[0mtarget\u001b[0m\u001b[0;34m(\u001b[0m\u001b[0;34m*\u001b[0m\u001b[0margs\u001b[0m\u001b[0;34m,\u001b[0m \u001b[0;34m**\u001b[0m\u001b[0mkwargs\u001b[0m\u001b[0;34m)\u001b[0m\u001b[0;34m\u001b[0m\u001b[0;34m\u001b[0m\u001b[0m\n\u001b[0m\u001b[1;32m    207\u001b[0m     \u001b[0;32mexcept\u001b[0m \u001b[0;34m(\u001b[0m\u001b[0mTypeError\u001b[0m\u001b[0;34m,\u001b[0m \u001b[0mValueError\u001b[0m\u001b[0;34m)\u001b[0m\u001b[0;34m:\u001b[0m\u001b[0;34m\u001b[0m\u001b[0;34m\u001b[0m\u001b[0m\n\u001b[1;32m    208\u001b[0m       \u001b[0;31m# Note: convert_to_eager_tensor currently raises a ValueError, not a\u001b[0m\u001b[0;34m\u001b[0m\u001b[0;34m\u001b[0m\u001b[0;34m\u001b[0m\u001b[0m\n",
      "\u001b[0;32m/opt/conda/lib/python3.7/site-packages/tensorflow/python/ops/array_ops.py\u001b[0m in \u001b[0;36mstrided_slice\u001b[0;34m(input_, begin, end, strides, begin_mask, end_mask, ellipsis_mask, new_axis_mask, shrink_axis_mask, var, name)\u001b[0m\n\u001b[1;32m   1221\u001b[0m       \u001b[0mellipsis_mask\u001b[0m\u001b[0;34m=\u001b[0m\u001b[0mellipsis_mask\u001b[0m\u001b[0;34m,\u001b[0m\u001b[0;34m\u001b[0m\u001b[0;34m\u001b[0m\u001b[0m\n\u001b[1;32m   1222\u001b[0m       \u001b[0mnew_axis_mask\u001b[0m\u001b[0;34m=\u001b[0m\u001b[0mnew_axis_mask\u001b[0m\u001b[0;34m,\u001b[0m\u001b[0;34m\u001b[0m\u001b[0;34m\u001b[0m\u001b[0m\n\u001b[0;32m-> 1223\u001b[0;31m       shrink_axis_mask=shrink_axis_mask)\n\u001b[0m\u001b[1;32m   1224\u001b[0m \u001b[0;34m\u001b[0m\u001b[0m\n\u001b[1;32m   1225\u001b[0m   \u001b[0mparent_name\u001b[0m \u001b[0;34m=\u001b[0m \u001b[0mname\u001b[0m\u001b[0;34m\u001b[0m\u001b[0;34m\u001b[0m\u001b[0m\n",
      "\u001b[0;32m/opt/conda/lib/python3.7/site-packages/tensorflow/python/ops/gen_array_ops.py\u001b[0m in \u001b[0;36mstrided_slice\u001b[0;34m(input, begin, end, strides, begin_mask, end_mask, ellipsis_mask, new_axis_mask, shrink_axis_mask, name)\u001b[0m\n\u001b[1;32m  10535\u001b[0m                         \u001b[0mellipsis_mask\u001b[0m\u001b[0;34m=\u001b[0m\u001b[0mellipsis_mask\u001b[0m\u001b[0;34m,\u001b[0m\u001b[0;34m\u001b[0m\u001b[0;34m\u001b[0m\u001b[0m\n\u001b[1;32m  10536\u001b[0m                         \u001b[0mnew_axis_mask\u001b[0m\u001b[0;34m=\u001b[0m\u001b[0mnew_axis_mask\u001b[0m\u001b[0;34m,\u001b[0m\u001b[0;34m\u001b[0m\u001b[0;34m\u001b[0m\u001b[0m\n\u001b[0;32m> 10537\u001b[0;31m                         shrink_axis_mask=shrink_axis_mask, name=name)\n\u001b[0m\u001b[1;32m  10538\u001b[0m   \u001b[0m_result\u001b[0m \u001b[0;34m=\u001b[0m \u001b[0m_outputs\u001b[0m\u001b[0;34m[\u001b[0m\u001b[0;34m:\u001b[0m\u001b[0;34m]\u001b[0m\u001b[0;34m\u001b[0m\u001b[0;34m\u001b[0m\u001b[0m\n\u001b[1;32m  10539\u001b[0m   \u001b[0;32mif\u001b[0m \u001b[0m_execute\u001b[0m\u001b[0;34m.\u001b[0m\u001b[0mmust_record_gradient\u001b[0m\u001b[0;34m(\u001b[0m\u001b[0;34m)\u001b[0m\u001b[0;34m:\u001b[0m\u001b[0;34m\u001b[0m\u001b[0;34m\u001b[0m\u001b[0m\n",
      "\u001b[0;32m/opt/conda/lib/python3.7/site-packages/tensorflow/python/framework/op_def_library.py\u001b[0m in \u001b[0;36m_apply_op_helper\u001b[0;34m(op_type_name, name, **keywords)\u001b[0m\n\u001b[1;32m    748\u001b[0m       op = g._create_op_internal(op_type_name, inputs, dtypes=None,\n\u001b[1;32m    749\u001b[0m                                  \u001b[0mname\u001b[0m\u001b[0;34m=\u001b[0m\u001b[0mscope\u001b[0m\u001b[0;34m,\u001b[0m \u001b[0minput_types\u001b[0m\u001b[0;34m=\u001b[0m\u001b[0minput_types\u001b[0m\u001b[0;34m,\u001b[0m\u001b[0;34m\u001b[0m\u001b[0;34m\u001b[0m\u001b[0m\n\u001b[0;32m--> 750\u001b[0;31m                                  attrs=attr_protos, op_def=op_def)\n\u001b[0m\u001b[1;32m    751\u001b[0m \u001b[0;34m\u001b[0m\u001b[0m\n\u001b[1;32m    752\u001b[0m     \u001b[0;31m# `outputs` is returned as a separate return value so that the output\u001b[0m\u001b[0;34m\u001b[0m\u001b[0;34m\u001b[0m\u001b[0;34m\u001b[0m\u001b[0m\n",
      "\u001b[0;32m/opt/conda/lib/python3.7/site-packages/tensorflow/python/framework/func_graph.py\u001b[0m in \u001b[0;36m_create_op_internal\u001b[0;34m(self, op_type, inputs, dtypes, input_types, name, attrs, op_def, compute_device)\u001b[0m\n\u001b[1;32m    599\u001b[0m     return super(FuncGraph, self)._create_op_internal(  # pylint: disable=protected-access\n\u001b[1;32m    600\u001b[0m         \u001b[0mop_type\u001b[0m\u001b[0;34m,\u001b[0m \u001b[0mcaptured_inputs\u001b[0m\u001b[0;34m,\u001b[0m \u001b[0mdtypes\u001b[0m\u001b[0;34m,\u001b[0m \u001b[0minput_types\u001b[0m\u001b[0;34m,\u001b[0m \u001b[0mname\u001b[0m\u001b[0;34m,\u001b[0m \u001b[0mattrs\u001b[0m\u001b[0;34m,\u001b[0m \u001b[0mop_def\u001b[0m\u001b[0;34m,\u001b[0m\u001b[0;34m\u001b[0m\u001b[0;34m\u001b[0m\u001b[0m\n\u001b[0;32m--> 601\u001b[0;31m         compute_device)\n\u001b[0m\u001b[1;32m    602\u001b[0m \u001b[0;34m\u001b[0m\u001b[0m\n\u001b[1;32m    603\u001b[0m   \u001b[0;32mdef\u001b[0m \u001b[0mcapture\u001b[0m\u001b[0;34m(\u001b[0m\u001b[0mself\u001b[0m\u001b[0;34m,\u001b[0m \u001b[0mtensor\u001b[0m\u001b[0;34m,\u001b[0m \u001b[0mname\u001b[0m\u001b[0;34m=\u001b[0m\u001b[0;32mNone\u001b[0m\u001b[0;34m,\u001b[0m \u001b[0mshape\u001b[0m\u001b[0;34m=\u001b[0m\u001b[0;32mNone\u001b[0m\u001b[0;34m)\u001b[0m\u001b[0;34m:\u001b[0m\u001b[0;34m\u001b[0m\u001b[0;34m\u001b[0m\u001b[0m\n",
      "\u001b[0;32m/opt/conda/lib/python3.7/site-packages/tensorflow/python/framework/ops.py\u001b[0m in \u001b[0;36m_create_op_internal\u001b[0;34m(self, op_type, inputs, dtypes, input_types, name, attrs, op_def, compute_device)\u001b[0m\n\u001b[1;32m   3563\u001b[0m           \u001b[0minput_types\u001b[0m\u001b[0;34m=\u001b[0m\u001b[0minput_types\u001b[0m\u001b[0;34m,\u001b[0m\u001b[0;34m\u001b[0m\u001b[0;34m\u001b[0m\u001b[0m\n\u001b[1;32m   3564\u001b[0m           \u001b[0moriginal_op\u001b[0m\u001b[0;34m=\u001b[0m\u001b[0mself\u001b[0m\u001b[0;34m.\u001b[0m\u001b[0m_default_original_op\u001b[0m\u001b[0;34m,\u001b[0m\u001b[0;34m\u001b[0m\u001b[0;34m\u001b[0m\u001b[0m\n\u001b[0;32m-> 3565\u001b[0;31m           op_def=op_def)\n\u001b[0m\u001b[1;32m   3566\u001b[0m       \u001b[0mself\u001b[0m\u001b[0;34m.\u001b[0m\u001b[0m_create_op_helper\u001b[0m\u001b[0;34m(\u001b[0m\u001b[0mret\u001b[0m\u001b[0;34m,\u001b[0m \u001b[0mcompute_device\u001b[0m\u001b[0;34m=\u001b[0m\u001b[0mcompute_device\u001b[0m\u001b[0;34m)\u001b[0m\u001b[0;34m\u001b[0m\u001b[0;34m\u001b[0m\u001b[0m\n\u001b[1;32m   3567\u001b[0m     \u001b[0;32mreturn\u001b[0m \u001b[0mret\u001b[0m\u001b[0;34m\u001b[0m\u001b[0;34m\u001b[0m\u001b[0m\n",
      "\u001b[0;32m/opt/conda/lib/python3.7/site-packages/tensorflow/python/framework/ops.py\u001b[0m in \u001b[0;36m__init__\u001b[0;34m(self, node_def, g, inputs, output_types, control_inputs, input_types, original_op, op_def)\u001b[0m\n\u001b[1;32m   2040\u001b[0m         \u001b[0mop_def\u001b[0m \u001b[0;34m=\u001b[0m \u001b[0mself\u001b[0m\u001b[0;34m.\u001b[0m\u001b[0m_graph\u001b[0m\u001b[0;34m.\u001b[0m\u001b[0m_get_op_def\u001b[0m\u001b[0;34m(\u001b[0m\u001b[0mnode_def\u001b[0m\u001b[0;34m.\u001b[0m\u001b[0mop\u001b[0m\u001b[0;34m)\u001b[0m\u001b[0;34m\u001b[0m\u001b[0;34m\u001b[0m\u001b[0m\n\u001b[1;32m   2041\u001b[0m       self._c_op = _create_c_op(self._graph, node_def, inputs,\n\u001b[0;32m-> 2042\u001b[0;31m                                 control_input_ops, op_def)\n\u001b[0m\u001b[1;32m   2043\u001b[0m       \u001b[0mname\u001b[0m \u001b[0;34m=\u001b[0m \u001b[0mcompat\u001b[0m\u001b[0;34m.\u001b[0m\u001b[0mas_str\u001b[0m\u001b[0;34m(\u001b[0m\u001b[0mnode_def\u001b[0m\u001b[0;34m.\u001b[0m\u001b[0mname\u001b[0m\u001b[0;34m)\u001b[0m\u001b[0;34m\u001b[0m\u001b[0;34m\u001b[0m\u001b[0m\n\u001b[1;32m   2044\u001b[0m \u001b[0;34m\u001b[0m\u001b[0m\n",
      "\u001b[0;32m/opt/conda/lib/python3.7/site-packages/tensorflow/python/framework/ops.py\u001b[0m in \u001b[0;36m_create_c_op\u001b[0;34m(graph, node_def, inputs, control_inputs, op_def)\u001b[0m\n\u001b[1;32m   1875\u001b[0m     \u001b[0;31m# It might be worth creating a convenient way to re-use the same status.\u001b[0m\u001b[0;34m\u001b[0m\u001b[0;34m\u001b[0m\u001b[0;34m\u001b[0m\u001b[0m\n\u001b[1;32m   1876\u001b[0m     pywrap_tf_session.TF_SetAttrValueProto(op_desc, compat.as_str(name),\n\u001b[0;32m-> 1877\u001b[0;31m                                            serialized)\n\u001b[0m\u001b[1;32m   1878\u001b[0m \u001b[0;34m\u001b[0m\u001b[0m\n\u001b[1;32m   1879\u001b[0m   \u001b[0;32mtry\u001b[0m\u001b[0;34m:\u001b[0m\u001b[0;34m\u001b[0m\u001b[0;34m\u001b[0m\u001b[0m\n",
      "\u001b[0;31mKeyboardInterrupt\u001b[0m: "
     ]
    }
   ],
   "source": [
    "initial_value = [.2]\n",
    "bounds = [(0, 1)]\n",
    "\n",
    "from scipy.optimize import minimize\n",
    "\n",
    "res = minimize(objective_function, initial_value, method='Powell', tol=1e-5, options={'maxiter': 10000}, bounds=bounds)"
   ]
  },
  {
   "cell_type": "code",
   "execution_count": null,
   "id": "f3a969fc",
   "metadata": {},
   "outputs": [],
   "source": [
    "0.14332425658528036"
   ]
  },
  {
   "cell_type": "code",
   "execution_count": null,
   "id": "31d46004",
   "metadata": {},
   "outputs": [],
   "source": [
    "0.1928287370353737"
   ]
  },
  {
   "cell_type": "code",
   "execution_count": null,
   "id": "7991fb2c",
   "metadata": {},
   "outputs": [],
   "source": [
    "0.184045506860147"
   ]
  },
  {
   "cell_type": "code",
   "execution_count": null,
   "id": "fdd8adce",
   "metadata": {},
   "outputs": [],
   "source": [
    "0.1534618622284423"
   ]
  },
  {
   "cell_type": "code",
   "execution_count": null,
   "id": "26ac5107",
   "metadata": {},
   "outputs": [],
   "source": []
  },
  {
   "cell_type": "code",
   "execution_count": null,
   "id": "3537a5ec",
   "metadata": {},
   "outputs": [],
   "source": []
  },
  {
   "cell_type": "markdown",
   "id": "eda990cc",
   "metadata": {},
   "source": [
    "# Try find some quick factor for estimation CNN"
   ]
  },
  {
   "cell_type": "code",
   "execution_count": 1,
   "id": "cc2c34cd",
   "metadata": {},
   "outputs": [],
   "source": [
    "import os, json\n",
    "\n",
    "all_training_data_file_conv2d = []\n",
    "\n",
    "for dirpath, dirnames, filenames in os.walk(\"/home/jupyter/TrainDataCurrentCNN\"):\n",
    "    for filename in [f for f in filenames if f.endswith(\".json\") and int(f.split('_')[1])<9]:\n",
    "        all_training_data_file_conv2d.append(os.path.join(dirpath, filename))\n",
    "\n",
    "model_data_conv2d = []\n",
    "for name in all_training_data_file_conv2d:\n",
    "    with open(name, 'r') as fp:\n",
    "        model_data_conv2d.extend(json.load(fp))\n",
    "\n",
    "    "
   ]
  },
  {
   "cell_type": "code",
   "execution_count": 2,
   "id": "96ec4296",
   "metadata": {},
   "outputs": [
    {
     "data": {
      "text/plain": [
       "41300"
      ]
     },
     "execution_count": 2,
     "metadata": {},
     "output_type": "execute_result"
    }
   ],
   "source": [
    "len(model_data_conv2d)"
   ]
  },
  {
   "cell_type": "code",
   "execution_count": 3,
   "id": "835d3ca8",
   "metadata": {},
   "outputs": [],
   "source": [
    "from model_trainingtime_prediction.model_level_utils_cnn import convert_cnn2d_data, gen_cnn2d, TimeHistory"
   ]
  },
  {
   "cell_type": "code",
   "execution_count": 4,
   "id": "0dac5a2a",
   "metadata": {},
   "outputs": [
    {
     "name": "stderr",
     "output_type": "stream",
     "text": [
      "100%|██████████| 41300/41300 [00:21<00:00, 1877.94it/s]\n",
      "100%|██████████| 41300/41300 [00:17<00:00, 2420.78it/s]\n"
     ]
    }
   ],
   "source": [
    "\n",
    "ccd = convert_cnn2d_data()\n",
    "\n",
    "# Convert raw data into data points\n",
    "scaler_conv_data, times_data_conv2d, scaler = ccd.convert_model_config(\n",
    "    model_data_conv2d, layer_num_upper=105, data_type='FLOPs', min_max_scaler=True\n",
    ")\n"
   ]
  },
  {
   "cell_type": "code",
   "execution_count": 5,
   "id": "82d77a15",
   "metadata": {},
   "outputs": [
    {
     "name": "stdout",
     "output_type": "stream",
     "text": [
      "Epoch 1/30\n",
      "2324/2324 [==============================] - 8s 3ms/step - loss: 55.8416 - val_loss: 42.0255\n",
      "Epoch 2/30\n",
      "2324/2324 [==============================] - 6s 3ms/step - loss: 28.4729 - val_loss: 31.8657\n",
      "Epoch 3/30\n",
      "2324/2324 [==============================] - 6s 3ms/step - loss: 25.3842 - val_loss: 32.9217\n",
      "Epoch 4/30\n",
      "2324/2324 [==============================] - 6s 3ms/step - loss: 20.6766 - val_loss: 29.5376\n",
      "Epoch 5/30\n",
      "2324/2324 [==============================] - 6s 3ms/step - loss: 18.8793 - val_loss: 26.0235\n",
      "Epoch 6/30\n",
      "2324/2324 [==============================] - 6s 3ms/step - loss: 18.0258 - val_loss: 21.5889\n",
      "Epoch 7/30\n",
      "2324/2324 [==============================] - 6s 3ms/step - loss: 16.8558 - val_loss: 21.9291\n",
      "Epoch 8/30\n",
      "2324/2324 [==============================] - 6s 3ms/step - loss: 15.9964 - val_loss: 22.3587\n",
      "Epoch 9/30\n",
      "2324/2324 [==============================] - 6s 3ms/step - loss: 14.6923 - val_loss: 24.2168\n",
      "Epoch 10/30\n",
      "2324/2324 [==============================] - 6s 3ms/step - loss: 13.9360 - val_loss: 21.9096\n",
      "Epoch 11/30\n",
      "2324/2324 [==============================] - 6s 2ms/step - loss: 13.7466 - val_loss: 22.0599\n",
      "Epoch 12/30\n",
      "2324/2324 [==============================] - 6s 2ms/step - loss: 12.5496 - val_loss: 23.8093\n",
      "Epoch 13/30\n",
      "2324/2324 [==============================] - 6s 2ms/step - loss: 12.5481 - val_loss: 22.0107\n",
      "Epoch 14/30\n",
      "2324/2324 [==============================] - 6s 2ms/step - loss: 12.3726 - val_loss: 22.4766\n",
      "Epoch 15/30\n",
      "2324/2324 [==============================] - 6s 2ms/step - loss: 11.4069 - val_loss: 21.9328\n",
      "Epoch 16/30\n",
      "2324/2324 [==============================] - 6s 2ms/step - loss: 11.7275 - val_loss: 23.2813\n",
      "Epoch 17/30\n",
      "2324/2324 [==============================] - 6s 3ms/step - loss: 10.5674 - val_loss: 23.9282\n",
      "Epoch 18/30\n",
      "2324/2324 [==============================] - 6s 2ms/step - loss: 10.6590 - val_loss: 23.0500\n",
      "Epoch 19/30\n",
      "2324/2324 [==============================] - 6s 3ms/step - loss: 10.0564 - val_loss: 22.9930\n",
      "Epoch 20/30\n",
      "2324/2324 [==============================] - 6s 3ms/step - loss: 10.6233 - val_loss: 24.5893\n",
      "Epoch 21/30\n",
      "2324/2324 [==============================] - 6s 3ms/step - loss: 10.0189 - val_loss: 22.6368\n",
      "Epoch 22/30\n",
      "2324/2324 [==============================] - 6s 3ms/step - loss: 10.0694 - val_loss: 22.3148\n",
      "Epoch 23/30\n",
      "2324/2324 [==============================] - 6s 2ms/step - loss: 9.4818 - val_loss: 23.1040\n",
      "Epoch 24/30\n",
      "2324/2324 [==============================] - 6s 2ms/step - loss: 9.1848 - val_loss: 22.2103\n",
      "Epoch 25/30\n",
      "2324/2324 [==============================] - 6s 2ms/step - loss: 9.3064 - val_loss: 26.1341\n",
      "Epoch 26/30\n",
      "2324/2324 [==============================] - 6s 3ms/step - loss: 8.7086 - val_loss: 24.5992\n",
      "Epoch 27/30\n",
      "2324/2324 [==============================] - 6s 3ms/step - loss: 8.2954 - val_loss: 22.2020\n",
      "Epoch 28/30\n",
      "2324/2324 [==============================] - 6s 3ms/step - loss: 8.5727 - val_loss: 23.1905\n",
      "Epoch 29/30\n",
      "2324/2324 [==============================] - 6s 2ms/step - loss: 8.0800 - val_loss: 25.9809\n",
      "Epoch 30/30\n",
      "2324/2324 [==============================] - 6s 2ms/step - loss: 8.0421 - val_loss: 23.0189\n"
     ]
    },
    {
     "data": {
      "image/png": "[encoded data removed]",
      "text/plain": [
       "<Figure size 432x288 with 1 Axes>"
      ]
     },
     "metadata": {
      "needs_background": "light"
     },
     "output_type": "display_data"
    }
   ],
   "source": [
    "import tensorflow.keras as keras\n",
    "from tensorflow.keras.models import Sequential\n",
    "from sklearn.model_selection import train_test_split\n",
    "from tensorflow.keras.layers import Dense, Activation, Dropout, Flatten, Conv2D, MaxPooling2D, AveragePooling2D, BatchNormalization\n",
    "import numpy as np\n",
    "import matplotlib.pyplot as plt\n",
    "import time\n",
    "import tensorflow as tf\n",
    "from tqdm import tqdm\n",
    "\n",
    "def cal_score(pred, real, absolute=False):\n",
    "    pred = np.array(pred).copy()\n",
    "    real = np.array(real).copy()\n",
    "    if absolute:\n",
    "        return abs((pred - real) / real)\n",
    "    else:\n",
    "        return (pred - real) / real\n",
    "\n",
    "# train data\n",
    "x_train, x_test, y_train, y_test = train_test_split(\n",
    "    scaler_conv_data, times_data_conv2d, test_size=0.1, random_state=0\n",
    ")\n",
    "\n",
    "batch_model = keras.Sequential()\n",
    "batch_model.add(Dense(200, kernel_initializer='normal', activation='relu'))\n",
    "batch_model.add(Dense(200, kernel_initializer='normal', activation='relu'))\n",
    "batch_model.add(Dense(200, kernel_initializer='normal', activation='relu'))\n",
    "batch_model.add(Dense(200, kernel_initializer='normal', activation='relu'))\n",
    "batch_model.add(Dense(200, kernel_initializer='normal', activation='relu'))\n",
    "batch_model.add(Dense(1, kernel_initializer='normal'))\n",
    "# Compile model\n",
    "batch_model.compile(loss='mean_squared_error', optimizer='adam')\n",
    "\n",
    "history_batch = batch_model.fit(\n",
    "    x_train, y_train, batch_size=16, epochs=30, validation_data=(x_test, y_test), verbose=True\n",
    ")\n",
    "batch_y_pred = batch_model.predict(x_test)\n",
    "batch_y_pred = batch_y_pred.reshape(batch_y_pred.shape[0], )\n",
    "plt.scatter(y_test, batch_y_pred)\n",
    "plt.scatter(y_test, y_test, c='r')\n",
    "plt.title(f'{np.mean(cal_score(y_test, batch_y_pred, True))}')\n",
    "plt.show()"
   ]
  },
  {
   "cell_type": "code",
   "execution_count": 6,
   "id": "b0fef8b3",
   "metadata": {
    "colab": {
     "base_uri": "https://localhost:8080/"
    },
    "id": "mXxXPemB-I3_",
    "outputId": "d7662b8d-b5ec-48c4-8bc0-1739c18bf878"
   },
   "outputs": [
    {
     "name": "stderr",
     "output_type": "stream",
     "text": [
      "100%|██████████| 100/100 [00:00<00:00, 450.29it/s]\n"
     ]
    }
   ],
   "source": [
    "gen = gen_cnn2d(\n",
    "    input_shape_lower=8,\n",
    "    input_shape_upper=29,\n",
    "    conv_layer_num_lower=1,\n",
    "    conv_layer_num_upper=51,\n",
    "    filter_lower=1,\n",
    "    filter_upper=101,\n",
    "    dense_layer_num_lower=1,\n",
    "    dense_layer_num_upper=6,\n",
    "    dense_size_lower=1,\n",
    "    dense_size_upper=1001,\n",
    "    max_pooling_prob=.5,\n",
    "    input_channels=None,\n",
    "    paddings=None,\n",
    "    activations=None,\n",
    "    optimizers=None,\n",
    "    losses=None\n",
    "    )\n",
    "model_configs = gen.generate_model_configs(num_model_data=100, progress=True)"
   ]
  },
  {
   "cell_type": "code",
   "execution_count": 7,
   "id": "27012f39",
   "metadata": {
    "id": "H--QexQjDMeM"
   },
   "outputs": [],
   "source": [
    "def build_cnn2d_model(kwargs_list, layer_orders):\n",
    "    cnn2d = Sequential()\n",
    "    for i, lo in enumerate(layer_orders):\n",
    "        kwargs = kwargs_list[i]\n",
    "        if lo == \"Dense\":\n",
    "            cnn2d.add(Dense(**kwargs))\n",
    "        elif lo == \"Conv2D\":\n",
    "            cnn2d.add(Conv2D(**kwargs))\n",
    "        elif lo == \"MaxPooling2D\":\n",
    "            cnn2d.add(MaxPooling2D(**kwargs))\n",
    "        elif lo == \"Dropout\":\n",
    "            cnn2d.add(Dropout(**kwargs))\n",
    "        elif lo == \"Flatten\":\n",
    "            cnn2d.add(Flatten())\n",
    "    kwargs = kwargs_list[-1]\n",
    "#     cnn2d.compile(metrics=['accuracy'], **kwargs[\"Compile\"])\n",
    "    return cnn2d"
   ]
  },
  {
   "cell_type": "code",
   "execution_count": 8,
   "id": "c7060678",
   "metadata": {},
   "outputs": [
    {
     "data": {
      "text/plain": [
       "OneHotEncoder(handle_unknown='ignore')"
      ]
     },
     "execution_count": 8,
     "metadata": {},
     "output_type": "execute_result"
    }
   ],
   "source": [
    "from sklearn.preprocessing import OneHotEncoder\n",
    "\n",
    "optimizers =  [\"sgd\", \"rmsprop\", \"adam\", \"adadelta\", \"adagrad\", \"adamax\", \"nadam\", \"ftrl\"]\n",
    "\n",
    "unique_all_optimizers = sorted(list(set(optimizers)))\n",
    "enc = OneHotEncoder(handle_unknown='ignore')\n",
    "x_opts = [[i] for i in unique_all_optimizers]\n",
    "enc.fit(x_opts)\n"
   ]
  },
  {
   "cell_type": "markdown",
   "id": "a817c718",
   "metadata": {},
   "source": [
    "## get predictions"
   ]
  },
  {
   "cell_type": "code",
   "execution_count": 9,
   "id": "d2e9c535",
   "metadata": {},
   "outputs": [],
   "source": [
    "from collections.abc import Iterable\n",
    "\n",
    "def conv2d_layer_flops(h, w, c, k, out):\n",
    "    return h * w * (2 * c * k * k - 1) * out\n",
    "def dense_layer_flops(i, o):\n",
    "    return (2 * i - 1) * o\n",
    "    \n",
    "def get_flops_conv2d_keras(input_shape, conv_model_obj, sum_all=True, add_pooling=True, conv_factor=1, pooling_factor=1, dense_factor=0.178516):\n",
    "    conv_flops = []\n",
    "    pool_flops = []\n",
    "    dense_flops = []\n",
    "    all_flops = []\n",
    "    for idx, layer_data in enumerate(conv_model_obj.get_config()['layers']):\n",
    "        layer_name = layer_data['class_name']\n",
    "        layer_config = layer_data['config']\n",
    "        if layer_name == 'Conv2D' or layer_name == 'SeparableConv2D':\n",
    "            filters = layer_config['filters']\n",
    "            kernel_size = layer_config['kernel_size'][0]\n",
    "            strides = layer_config['strides'][0]\n",
    "            padding_method = layer_config['padding']\n",
    "            previous_channels = input_shape[-1]\n",
    "            if padding_method == 'same':\n",
    "                output = convert_cnn2d_data.same_padding_output(\n",
    "                    input_shape[0], kernel_size, strides\n",
    "                )\n",
    "                flops = convert_cnn2d_data.conv2d_layer_flops(\n",
    "                    input_shape[0], input_shape[1], previous_channels, kernel_size, filters\n",
    "                )\n",
    "                conv_flops.append(conv_factor*flops)\n",
    "                all_flops.append(conv_factor*flops)\n",
    "                input_shape = [output, output, filters]\n",
    "                # conv_flops.append(np.prod(input_shape))\n",
    "            else:\n",
    "                output = convert_cnn2d_data.valid_padding_output(\n",
    "                    input_shape[0], kernel_size, strides\n",
    "                )\n",
    "                flops = convert_cnn2d_data.conv2d_layer_flops(\n",
    "                    input_shape[0], input_shape[1], previous_channels, kernel_size, filters\n",
    "                )\n",
    "                conv_flops.append(conv_factor*flops)\n",
    "                all_flops.append(conv_factor*flops)\n",
    "                input_shape = [output, output, filters]\n",
    "                # conv_flops.append(np.prod(input_shape))\n",
    "\n",
    "        if layer_name == 'MaxPooling2D' or layer_name == 'AveragePooling2D':\n",
    "            kernel_size = layer_config['pool_size'][0]\n",
    "            strides = layer_config['strides'][0]\n",
    "            padding_method = layer_config['padding']\n",
    "            previous_channels = input_shape[-1]\n",
    "            if padding_method == 'same':\n",
    "                output = convert_cnn2d_data.same_padding_output(\n",
    "                    input_shape[0], kernel_size, strides\n",
    "                )\n",
    "                flops = convert_cnn2d_data.conv2d_layer_flops(\n",
    "                    input_shape[0], input_shape[1], previous_channels, kernel_size,\n",
    "                    previous_channels\n",
    "                )\n",
    "                # flops = np.prod(input_shape)\n",
    "                pool_flops.append(pooling_factor*flops)\n",
    "                all_flops.append(pooling_factor*flops)\n",
    "                input_shape = [output, output, previous_channels]\n",
    "            else:\n",
    "                output = convert_cnn2d_data.valid_padding_output(\n",
    "                    input_shape[0], kernel_size, strides\n",
    "                )\n",
    "                flops = convert_cnn2d_data.conv2d_layer_flops(\n",
    "                    input_shape[0], input_shape[1], previous_channels, kernel_size,\n",
    "                    previous_channels\n",
    "                )\n",
    "                # flops = np.prod(input_shape)\n",
    "                pool_flops.append(pooling_factor*flops)\n",
    "                all_flops.append(pooling_factor*flops)\n",
    "                input_shape = [output, output, previous_channels]\n",
    "\n",
    "        if layer_name == 'ZeroPadding2D':\n",
    "            w_padding_size = layer_config['padding'][0]\n",
    "            h_padding_size = layer_config['padding'][1]\n",
    "            input_shape = [\n",
    "                input_shape[0] + np.sum(w_padding_size),\n",
    "                input_shape[1] + np.sum(h_padding_size), input_shape[-1]\n",
    "            ]\n",
    "        if layer_name == 'Cropping2D':\n",
    "            w_cropping_size = layer_config['cropping'][0]\n",
    "            h_cropping_size = layer_config['cropping'][1]\n",
    "            input_shape = [\n",
    "                input_shape[0] - np.sum(w_cropping_size),\n",
    "                input_shape[1] - np.sum(h_cropping_size), input_shape[-1]\n",
    "            ]\n",
    "\n",
    "        if layer_name == 'Dense':\n",
    "            if isinstance(input_shape, Iterable):\n",
    "                input_shape = np.prod(input_shape)\n",
    "            else:\n",
    "                pass\n",
    "            flops = convert_cnn2d_data.dense_layer_flops(input_shape, layer_config['units'])\n",
    "            input_shape = layer_config['units']\n",
    "            dense_flops.append(dense_factor*flops)\n",
    "            all_flops.append(dense_factor*flops)\n",
    "            # dense_flops.append(input_shape)\n",
    "    if sum_all:\n",
    "        if add_pooling:\n",
    "            return sum(all_flops)\n",
    "        else:\n",
    "            return sum(conv_flops + dense_flops)\n",
    "    else:\n",
    "        if add_pooling:\n",
    "            return all_flops\n",
    "        else:\n",
    "            return conv_flops + dense_flops"
   ]
  },
  {
   "cell_type": "code",
   "execution_count": 10,
   "id": "59a50156",
   "metadata": {},
   "outputs": [],
   "source": [
    "def convert_model_keras_cnn(\n",
    "    conv_model_obj,\n",
    "    input_shape,\n",
    "    optimizer,\n",
    "    batch_size,\n",
    "    layer_num_upper=105,\n",
    "    data_type='FLOPs',\n",
    "    scaler=None,\n",
    "    conv_factor=1, pooling_factor=1, dense_factor=0.178516\n",
    "):\n",
    "\n",
    "    flops_layer = get_flops_conv2d_keras(input_shape, conv_model_obj, False, conv_factor=conv_factor, pooling_factor=pooling_factor, dense_factor=dense_factor)\n",
    "    flops_layer = flops_layer[:layer_num_upper]\n",
    "    short_position = layer_num_upper - len(flops_layer)\n",
    "    flops_layer = flops_layer + [0] * short_position\n",
    "\n",
    "    if data_type.lower().startswith('f'):\n",
    "        layer_data = flops_layer.copy()\n",
    "    else:\n",
    "        layer_data = flops_layer.copy()\n",
    "\n",
    "    optimizer_onehot = list(enc.transform([[optimizer]]).toarray()[0])\n",
    "    layer_data = layer_data + [batch_size] + optimizer_onehot\n",
    "\n",
    "    if scaler is not None:\n",
    "        scaled_data = scaler.transform(np.array([layer_data]))\n",
    "        return scaled_data\n",
    "    else:\n",
    "        return layer_data"
   ]
  },
  {
   "cell_type": "code",
   "execution_count": 11,
   "id": "17dc546b",
   "metadata": {},
   "outputs": [
    {
     "name": "stderr",
     "output_type": "stream",
     "text": [
      "100%|██████████| 100/100 [04:31<00:00,  2.71s/it]\n"
     ]
    }
   ],
   "source": [
    "from tqdm import tqdm\n",
    "import random\n",
    "\n",
    "batch_sizes = random.choices([2**i for i in range(1, 9)], k=200)\n",
    "epochs = 10\n",
    "  \n",
    "    \n",
    "real_times_cnn = []\n",
    "predicted_times_cnn = []\n",
    "\n",
    "\n",
    "for idx, model_config in enumerate(tqdm(model_configs)):\n",
    "    batch_size = batch_sizes[idx]\n",
    "    \n",
    "    kwargs_list = model_config[0]\n",
    "    layer_orders = model_config[1]\n",
    "    input_shape = model_config[2]\n",
    "    kwargs = kwargs_list[-1]\n",
    "    optimizer = kwargs['Compile']['optimizer']\n",
    "    \n",
    "    conv2dmodel = build_cnn2d_model(kwargs_list, layer_orders)\n",
    "    conv2dmodel.compile(metrics=['accuracy'], **kwargs[\"Compile\"])\n",
    "    \n",
    "    out_shape = conv2dmodel.get_config()['layers'][-1]['config']['units']\n",
    "    \n",
    "    # Train\n",
    "    x = np.ones((batch_size, *input_shape), dtype=np.float32)\n",
    "    y = np.ones((batch_size, out_shape), dtype=np.float32)\n",
    "\n",
    "    time_callback = TimeHistory()\n",
    "    conv2dmodel.fit(x,y,epochs=epochs,batch_size=batch_size,callbacks=[time_callback],verbose=False)\n",
    "\n",
    "    real_times_cnn.append(np.mean(time_callback.batch_times[1:])*1000)    \n",
    "    \n",
    "    cnn_data = convert_model_keras_cnn(conv2dmodel,input_shape,optimizer,batch_size,layer_num_upper=105,data_type='FLOPs',scaler=scaler)\n",
    "    \n",
    "    cnn_batch_y_pred = batch_model.predict(cnn_data)[0][0]\n",
    "    predicted_times_cnn.append(cnn_batch_y_pred)"
   ]
  },
  {
   "cell_type": "code",
   "execution_count": 12,
   "id": "21e317f6",
   "metadata": {},
   "outputs": [
    {
     "data": {
      "text/plain": [
       "0.14715997133535416"
      ]
     },
     "execution_count": 12,
     "metadata": {},
     "output_type": "execute_result"
    }
   ],
   "source": [
    "true_errors = cal_score(predicted_times_cnn, real_times_cnn, absolute=False)\n",
    "np.mean(cal_score(predicted_times_cnn, real_times_cnn, absolute=True))"
   ]
  },
  {
   "cell_type": "code",
   "execution_count": 13,
   "id": "48209407",
   "metadata": {},
   "outputs": [
    {
     "data": {
      "text/plain": [
       "<matplotlib.collections.PathCollection at 0x7f4fdf0d6b10>"
      ]
     },
     "execution_count": 13,
     "metadata": {},
     "output_type": "execute_result"
    },
    {
     "data": {
      "image/png": "[encoded data removed]",
      "text/plain": [
       "<Figure size 432x288 with 1 Axes>"
      ]
     },
     "metadata": {
      "needs_background": "light"
     },
     "output_type": "display_data"
    }
   ],
   "source": [
    "plt.scatter(real_times_cnn, predicted_times_cnn)"
   ]
  },
  {
   "cell_type": "code",
   "execution_count": 14,
   "id": "ed4cf262",
   "metadata": {},
   "outputs": [],
   "source": [
    "import random\n",
    "\n",
    "def objective_function(factor):\n",
    "    conv_factor = factor[0]\n",
    "    pooling_factor = factor[1]\n",
    "    \n",
    "    real_times_cnn = []\n",
    "    predicted_times_cnn = []\n",
    "    \n",
    "    for idx, model_config in enumerate(tqdm(model_configs)):\n",
    "        batch_size = batch_sizes[idx]\n",
    "        \n",
    "        kwargs_list = model_config[0]\n",
    "        layer_orders = model_config[1]\n",
    "        input_shape = model_config[2]\n",
    "        kwargs = kwargs_list[-1]\n",
    "        optimizer = kwargs['Compile']['optimizer']\n",
    "        num_layers = len(model_config[1])\n",
    "\n",
    "        conv2dmodel = build_cnn2d_model(kwargs_list, layer_orders)\n",
    "        \n",
    "        top_n = random.sample(list(range(num_layers)), 1)[0]\n",
    "        \n",
    "        for layer in conv2dmodel.layers[:top_n]:\n",
    "            layer.trainable = False\n",
    "        \n",
    "        conv2dmodel.compile(metrics=['accuracy'], **kwargs[\"Compile\"])\n",
    "\n",
    "        out_shape = conv2dmodel.get_config()['layers'][-1]['config']['units']\n",
    "\n",
    "        # Train\n",
    "        x = np.ones((batch_size, *input_shape), dtype=np.float32)\n",
    "        y = np.ones((batch_size, out_shape), dtype=np.float32)\n",
    "\n",
    "        time_callback = TimeHistory()\n",
    "        conv2dmodel.fit(x,y,epochs=epochs,batch_size=batch_size,callbacks=[time_callback],verbose=False)\n",
    "\n",
    "        real_times_cnn.append(np.mean(time_callback.batch_times[1:])*1000)    \n",
    "\n",
    "        cnn_data = convert_model_keras_cnn(conv2dmodel,input_shape,optimizer,batch_size,layer_num_upper=105,data_type='FLOPs',scaler=scaler,\n",
    "                                          conv_factor=conv_factor, pooling_factor=pooling_factor)\n",
    "\n",
    "        cnn_batch_y_pred = batch_model.predict(cnn_data)[0][0]\n",
    "        predicted_times_cnn.append(cnn_batch_y_pred)\n",
    "        \n",
    "    error = cal_score(predicted_times_cnn, real_times_cnn, absolute=False)\n",
    "    obj_tar = np.linalg.norm(error-true_errors)\n",
    "    print(factor, np.mean(error), np.mean(true_errors), obj_tar)\n",
    "    return obj_tar\n",
    "\n"
   ]
  },
  {
   "cell_type": "code",
   "execution_count": 15,
   "id": "6adb1bd6",
   "metadata": {},
   "outputs": [
    {
     "name": "stderr",
     "output_type": "stream",
     "text": [
      "100%|██████████| 100/100 [03:06<00:00,  1.86s/it]\n",
      "  0%|          | 0/100 [00:00<?, ?it/s]"
     ]
    },
    {
     "name": "stdout",
     "output_type": "stream",
     "text": [
      "[0.2 0.2] 0.3487704498452372 0.03595404543863159 4.884429457975912\n"
     ]
    },
    {
     "name": "stderr",
     "output_type": "stream",
     "text": [
      "100%|██████████| 100/100 [02:57<00:00,  1.78s/it]\n",
      "  0%|          | 0/100 [00:00<?, ?it/s]"
     ]
    },
    {
     "name": "stdout",
     "output_type": "stream",
     "text": [
      "[0.38196601 0.2       ] 0.5500243101106759 0.03595404543863159 6.875028409189896\n"
     ]
    },
    {
     "name": "stderr",
     "output_type": "stream",
     "text": [
      "100%|██████████| 100/100 [03:11<00:00,  1.92s/it]\n",
      "  0%|          | 0/100 [00:00<?, ?it/s]"
     ]
    },
    {
     "name": "stdout",
     "output_type": "stream",
     "text": [
      "[0.61803399 0.2       ] 0.5034463053224632 0.03595404543863159 6.256782398467304\n"
     ]
    },
    {
     "name": "stderr",
     "output_type": "stream",
     "text": [
      "100%|██████████| 100/100 [03:12<00:00,  1.93s/it]\n",
      "  0%|          | 0/100 [00:00<?, ?it/s]"
     ]
    },
    {
     "name": "stdout",
     "output_type": "stream",
     "text": [
      "[0.76393202 0.2       ] 0.5089202157239052 0.03595404543863159 6.52519390617551\n"
     ]
    },
    {
     "name": "stderr",
     "output_type": "stream",
     "text": [
      "100%|██████████| 100/100 [03:10<00:00,  1.90s/it]\n",
      "  0%|          | 0/100 [00:00<?, ?it/s]"
     ]
    },
    {
     "name": "stdout",
     "output_type": "stream",
     "text": [
      "[0.61217999 0.2       ] 0.4358789326009972 0.03595404543863159 6.465397299488707\n"
     ]
    },
    {
     "name": "stderr",
     "output_type": "stream",
     "text": [
      "100%|██████████| 100/100 [03:20<00:00,  2.00s/it]\n",
      "  0%|          | 0/100 [00:00<?, ?it/s]"
     ]
    },
    {
     "name": "stdout",
     "output_type": "stream",
     "text": [
      "[0.68725821 0.2       ] 0.383510371911971 0.03595404543863159 5.2406912253504565\n"
     ]
    },
    {
     "name": "stderr",
     "output_type": "stream",
     "text": [
      "100%|██████████| 100/100 [03:12<00:00,  1.92s/it]\n",
      "  0%|          | 0/100 [00:00<?, ?it/s]"
     ]
    },
    {
     "name": "stdout",
     "output_type": "stream",
     "text": [
      "[0.716545 0.2     ] 0.49246055055714033 0.03595404543863159 6.311893250884831\n"
     ]
    },
    {
     "name": "stderr",
     "output_type": "stream",
     "text": [
      "100%|██████████| 100/100 [03:17<00:00,  1.97s/it]\n",
      "  0%|          | 0/100 [00:00<?, ?it/s]"
     ]
    },
    {
     "name": "stdout",
     "output_type": "stream",
     "text": [
      "[0.66675187 0.2       ] 0.43493002524567037 0.03595404543863159 5.50297587399899\n"
     ]
    },
    {
     "name": "stderr",
     "output_type": "stream",
     "text": [
      "100%|██████████| 100/100 [03:01<00:00,  1.82s/it]\n",
      "  0%|          | 0/100 [00:00<?, ?it/s]"
     ]
    },
    {
     "name": "stdout",
     "output_type": "stream",
     "text": [
      "[0.69844477 0.2       ] 0.4681974425228349 0.03595404543863159 6.286801510789835\n"
     ]
    },
    {
     "name": "stderr",
     "output_type": "stream",
     "text": [
      "100%|██████████| 100/100 [02:59<00:00,  1.79s/it]\n",
      "  0%|          | 0/100 [00:00<?, ?it/s]"
     ]
    },
    {
     "name": "stdout",
     "output_type": "stream",
     "text": [
      "[0.67942549 0.2       ] 0.5901111973056851 0.03595404543863159 7.029789503102529\n"
     ]
    },
    {
     "name": "stderr",
     "output_type": "stream",
     "text": [
      "100%|██████████| 100/100 [03:03<00:00,  1.83s/it]\n",
      "  0%|          | 0/100 [00:00<?, ?it/s]"
     ]
    },
    {
     "name": "stdout",
     "output_type": "stream",
     "text": [
      "[0.69153109 0.2       ] 0.5814654290249291 0.03595404543863159 7.4701985445428\n"
     ]
    },
    {
     "name": "stderr",
     "output_type": "stream",
     "text": [
      "100%|██████████| 100/100 [02:48<00:00,  1.68s/it]\n",
      "  0%|          | 0/100 [00:00<?, ?it/s]"
     ]
    },
    {
     "name": "stdout",
     "output_type": "stream",
     "text": [
      "[0.68426637 0.2       ] 0.6707892257483477 0.03595404543863159 8.182718046140355\n"
     ]
    },
    {
     "name": "stderr",
     "output_type": "stream",
     "text": [
      "100%|██████████| 100/100 [03:03<00:00,  1.84s/it]\n",
      "  0%|          | 0/100 [00:00<?, ?it/s]"
     ]
    },
    {
     "name": "stdout",
     "output_type": "stream",
     "text": [
      "[0.6888903 0.2      ] 0.5554600297226624 0.03595404543863159 6.783014963640769\n"
     ]
    },
    {
     "name": "stderr",
     "output_type": "stream",
     "text": [
      "100%|██████████| 100/100 [02:52<00:00,  1.73s/it]\n",
      "  0%|          | 0/100 [00:00<?, ?it/s]"
     ]
    },
    {
     "name": "stdout",
     "output_type": "stream",
     "text": [
      "[0.68611543 0.2       ] 0.6770702801827452 0.03595404543863159 7.923303978362442\n"
     ]
    },
    {
     "name": "stderr",
     "output_type": "stream",
     "text": [
      "100%|██████████| 100/100 [02:44<00:00,  1.64s/it]\n",
      "  0%|          | 0/100 [00:00<?, ?it/s]"
     ]
    },
    {
     "name": "stdout",
     "output_type": "stream",
     "text": [
      "[0.68788161 0.2       ] 0.7324667166892482 0.03595404543863159 9.393296835061408\n"
     ]
    },
    {
     "name": "stderr",
     "output_type": "stream",
     "text": [
      "100%|██████████| 100/100 [02:56<00:00,  1.76s/it]\n",
      "  0%|          | 0/100 [00:00<?, ?it/s]"
     ]
    },
    {
     "name": "stdout",
     "output_type": "stream",
     "text": [
      "[0.6868217 0.2      ] 0.6236485844609521 0.03595404543863159 7.83909734384054\n"
     ]
    },
    {
     "name": "stderr",
     "output_type": "stream",
     "text": [
      "100%|██████████| 100/100 [02:56<00:00,  1.76s/it]\n",
      "  0%|          | 0/100 [00:00<?, ?it/s]"
     ]
    },
    {
     "name": "stdout",
     "output_type": "stream",
     "text": [
      "[0.68749633 0.2       ] 0.602298425149455 0.03595404543863159 7.838570312765964\n"
     ]
    },
    {
     "name": "stderr",
     "output_type": "stream",
     "text": [
      "100%|██████████| 100/100 [03:03<00:00,  1.84s/it]\n",
      "  0%|          | 0/100 [00:00<?, ?it/s]"
     ]
    },
    {
     "name": "stdout",
     "output_type": "stream",
     "text": [
      "[0.68709148 0.2       ] 0.5009282952367561 0.03595404543863159 5.98014127427682\n"
     ]
    },
    {
     "name": "stderr",
     "output_type": "stream",
     "text": [
      "100%|██████████| 100/100 [02:49<00:00,  1.70s/it]\n",
      "  0%|          | 0/100 [00:00<?, ?it/s]"
     ]
    },
    {
     "name": "stdout",
     "output_type": "stream",
     "text": [
      "[0.68734916 0.2       ] 0.634539018131613 0.03595404543863159 8.47526419778853\n"
     ]
    },
    {
     "name": "stderr",
     "output_type": "stream",
     "text": [
      "100%|██████████| 100/100 [02:53<00:00,  1.74s/it]\n",
      "  0%|          | 0/100 [00:00<?, ?it/s]"
     ]
    },
    {
     "name": "stdout",
     "output_type": "stream",
     "text": [
      "[0.68719452 0.2       ] 0.6509689221202858 0.03595404543863159 7.847435348631956\n"
     ]
    },
    {
     "name": "stderr",
     "output_type": "stream",
     "text": [
      "100%|██████████| 100/100 [02:53<00:00,  1.74s/it]\n",
      "  0%|          | 0/100 [00:00<?, ?it/s]"
     ]
    },
    {
     "name": "stdout",
     "output_type": "stream",
     "text": [
      "[0.68729295 0.2       ] 0.6504963166358069 0.03595404543863159 8.169820101617264\n"
     ]
    },
    {
     "name": "stderr",
     "output_type": "stream",
     "text": [
      "100%|██████████| 100/100 [02:47<00:00,  1.67s/it]\n",
      "  0%|          | 0/100 [00:00<?, ?it/s]"
     ]
    },
    {
     "name": "stdout",
     "output_type": "stream",
     "text": [
      "[0.68723388 0.2       ] 0.6651447282727461 0.03595404543863159 8.21107121159311\n"
     ]
    },
    {
     "name": "stderr",
     "output_type": "stream",
     "text": [
      "100%|██████████| 100/100 [02:56<00:00,  1.76s/it]\n",
      "  0%|          | 0/100 [00:00<?, ?it/s]"
     ]
    },
    {
     "name": "stdout",
     "output_type": "stream",
     "text": [
      "[0.68727148 0.2       ] 0.6048024212087725 0.03595404543863159 7.621913939579404\n"
     ]
    },
    {
     "name": "stderr",
     "output_type": "stream",
     "text": [
      "100%|██████████| 100/100 [02:56<00:00,  1.77s/it]\n",
      "  0%|          | 0/100 [00:00<?, ?it/s]"
     ]
    },
    {
     "name": "stdout",
     "output_type": "stream",
     "text": [
      "[0.68724892 0.2       ] 0.6090406780015083 0.03595404543863159 7.918877479720024\n"
     ]
    },
    {
     "name": "stderr",
     "output_type": "stream",
     "text": [
      "100%|██████████| 100/100 [03:02<00:00,  1.83s/it]\n",
      "  0%|          | 0/100 [00:00<?, ?it/s]"
     ]
    },
    {
     "name": "stdout",
     "output_type": "stream",
     "text": [
      "[0.68726328 0.2       ] 0.5786404135404131 0.03595404543863159 7.1256716191653755\n"
     ]
    },
    {
     "name": "stderr",
     "output_type": "stream",
     "text": [
      "100%|██████████| 100/100 [02:58<00:00,  1.79s/it]\n",
      "  0%|          | 0/100 [00:00<?, ?it/s]"
     ]
    },
    {
     "name": "stdout",
     "output_type": "stream",
     "text": [
      "[0.68725466 0.2       ] 0.5278911851637038 0.03595404543863159 6.3751153349854235\n"
     ]
    },
    {
     "name": "stderr",
     "output_type": "stream",
     "text": [
      "100%|██████████| 100/100 [03:02<00:00,  1.83s/it]\n",
      "  0%|          | 0/100 [00:00<?, ?it/s]"
     ]
    },
    {
     "name": "stdout",
     "output_type": "stream",
     "text": [
      "[0.68725821 0.38196601] 0.6284021814334513 0.03595404543863159 7.889059499457192\n"
     ]
    },
    {
     "name": "stderr",
     "output_type": "stream",
     "text": [
      "100%|██████████| 100/100 [02:57<00:00,  1.77s/it]\n",
      "  0%|          | 0/100 [00:00<?, ?it/s]"
     ]
    },
    {
     "name": "stdout",
     "output_type": "stream",
     "text": [
      "[0.68725821 0.61803399] 0.631628035683998 0.03595404543863159 7.285358659682889\n"
     ]
    },
    {
     "name": "stderr",
     "output_type": "stream",
     "text": [
      "100%|██████████| 100/100 [03:01<00:00,  1.81s/it]\n",
      "  0%|          | 0/100 [00:00<?, ?it/s]"
     ]
    },
    {
     "name": "stdout",
     "output_type": "stream",
     "text": [
      "[0.68725821 0.76393202] 0.614136693953427 0.03595404543863159 7.839707169030866\n"
     ]
    },
    {
     "name": "stderr",
     "output_type": "stream",
     "text": [
      "100%|██████████| 100/100 [02:55<00:00,  1.76s/it]\n",
      "  0%|          | 0/100 [00:00<?, ?it/s]"
     ]
    },
    {
     "name": "stdout",
     "output_type": "stream",
     "text": [
      "[0.68725821 0.57683082] 0.624960567207052 0.03595404543863159 7.841885195228631\n"
     ]
    },
    {
     "name": "stderr",
     "output_type": "stream",
     "text": [
      "100%|██████████| 100/100 [02:56<00:00,  1.76s/it]\n",
      "  0%|          | 0/100 [00:00<?, ?it/s]"
     ]
    },
    {
     "name": "stdout",
     "output_type": "stream",
     "text": [
      "[0.68725821 0.67044435] 0.6458028294014884 0.03595404543863159 7.302150788606417\n"
     ]
    },
    {
     "name": "stderr",
     "output_type": "stream",
     "text": [
      "100%|██████████| 100/100 [02:59<00:00,  1.80s/it]\n",
      "  0%|          | 0/100 [00:00<?, ?it/s]"
     ]
    },
    {
     "name": "stdout",
     "output_type": "stream",
     "text": [
      "[0.68725821 0.63805296] 0.6205045907043837 0.03595404543863159 7.803276737820688\n"
     ]
    },
    {
     "name": "stderr",
     "output_type": "stream",
     "text": [
      "100%|██████████| 100/100 [02:52<00:00,  1.72s/it]\n",
      "  0%|          | 0/100 [00:00<?, ?it/s]"
     ]
    },
    {
     "name": "stdout",
     "output_type": "stream",
     "text": [
      "[0.68725821 0.60229578] 0.6701732599029261 0.03595404543863159 8.316208447100346\n"
     ]
    },
    {
     "name": "stderr",
     "output_type": "stream",
     "text": [
      "100%|██████████| 100/100 [02:55<00:00,  1.76s/it]\n",
      "  0%|          | 0/100 [00:00<?, ?it/s]"
     ]
    },
    {
     "name": "stdout",
     "output_type": "stream",
     "text": [
      "[0.68725821 0.62568056] 0.6740127791418928 0.03595404543863159 7.989548778857368\n"
     ]
    },
    {
     "name": "stderr",
     "output_type": "stream",
     "text": [
      "100%|██████████| 100/100 [02:55<00:00,  1.76s/it]\n",
      "  0%|          | 0/100 [00:00<?, ?it/s]"
     ]
    },
    {
     "name": "stdout",
     "output_type": "stream",
     "text": [
      "[0.68725821 0.61202253] 0.6589679779701214 0.03595404543863159 8.480525112075254\n"
     ]
    },
    {
     "name": "stderr",
     "output_type": "stream",
     "text": [
      "100%|██████████| 100/100 [03:03<00:00,  1.84s/it]\n",
      "  0%|          | 0/100 [00:00<?, ?it/s]"
     ]
    },
    {
     "name": "stdout",
     "output_type": "stream",
     "text": [
      "[0.68725821 0.62095472] 0.6920198655404534 0.03595404543863159 8.412773109063362\n"
     ]
    },
    {
     "name": "stderr",
     "output_type": "stream",
     "text": [
      "100%|██████████| 100/100 [02:56<00:00,  1.77s/it]\n",
      "  0%|          | 0/100 [00:00<?, ?it/s]"
     ]
    },
    {
     "name": "stdout",
     "output_type": "stream",
     "text": [
      "[0.68725821 0.61573781] 0.5716145832246016 0.03595404543863159 7.686618683824472\n"
     ]
    },
    {
     "name": "stderr",
     "output_type": "stream",
     "text": [
      "100%|██████████| 100/100 [02:50<00:00,  1.70s/it]\n",
      "  0%|          | 0/100 [00:00<?, ?it/s]"
     ]
    },
    {
     "name": "stdout",
     "output_type": "stream",
     "text": [
      "[0.68725821 0.61914961] 0.7348563476079264 0.03595404543863159 8.528923826568525\n"
     ]
    },
    {
     "name": "stderr",
     "output_type": "stream",
     "text": [
      "100%|██████████| 100/100 [02:56<00:00,  1.76s/it]\n",
      "  0%|          | 0/100 [00:00<?, ?it/s]"
     ]
    },
    {
     "name": "stdout",
     "output_type": "stream",
     "text": [
      "[0.68725821 0.61715693] 0.6744104334154098 0.03595404543863159 8.02095096704619\n"
     ]
    },
    {
     "name": "stderr",
     "output_type": "stream",
     "text": [
      "100%|██████████| 100/100 [02:57<00:00,  1.77s/it]\n",
      "  0%|          | 0/100 [00:00<?, ?it/s]"
     ]
    },
    {
     "name": "stdout",
     "output_type": "stream",
     "text": [
      "[0.68725821 0.61846012] 0.6375386411311512 0.03595404543863159 8.4110449706291\n"
     ]
    },
    {
     "name": "stderr",
     "output_type": "stream",
     "text": [
      "100%|██████████| 100/100 [02:49<00:00,  1.69s/it]\n",
      "  0%|          | 0/100 [00:00<?, ?it/s]"
     ]
    },
    {
     "name": "stdout",
     "output_type": "stream",
     "text": [
      "[0.68725821 0.61769898] 0.7039372291050761 0.03595404543863159 8.52905153595296\n"
     ]
    },
    {
     "name": "stderr",
     "output_type": "stream",
     "text": [
      "100%|██████████| 100/100 [02:58<00:00,  1.79s/it]\n",
      "  0%|          | 0/100 [00:00<?, ?it/s]"
     ]
    },
    {
     "name": "stdout",
     "output_type": "stream",
     "text": [
      "[0.68725821 0.61819676] 0.6175674905788644 0.03595404543863159 7.246332473076594\n"
     ]
    },
    {
     "name": "stderr",
     "output_type": "stream",
     "text": [
      "100%|██████████| 100/100 [02:47<00:00,  1.68s/it]\n",
      "  0%|          | 0/100 [00:00<?, ?it/s]"
     ]
    },
    {
     "name": "stdout",
     "output_type": "stream",
     "text": [
      "[0.68725821 0.61829735] 0.7125241437333166 0.03595404543863159 8.537778811356539\n"
     ]
    },
    {
     "name": "stderr",
     "output_type": "stream",
     "text": [
      "100%|██████████| 100/100 [03:00<00:00,  1.81s/it]\n",
      "  0%|          | 0/100 [00:00<?, ?it/s]"
     ]
    },
    {
     "name": "stdout",
     "output_type": "stream",
     "text": [
      "[0.68725821 0.61813458] 0.6698977034766728 0.03595404543863159 7.592743166294752\n"
     ]
    },
    {
     "name": "stderr",
     "output_type": "stream",
     "text": [
      "100%|██████████| 100/100 [02:54<00:00,  1.74s/it]\n",
      "  0%|          | 0/100 [00:00<?, ?it/s]"
     ]
    },
    {
     "name": "stdout",
     "output_type": "stream",
     "text": [
      "[0.68725821 0.61823518] 0.6886159032473175 0.03595404543863159 8.191717045159866\n"
     ]
    },
    {
     "name": "stderr",
     "output_type": "stream",
     "text": [
      "100%|██████████| 100/100 [02:50<00:00,  1.71s/it]\n",
      "  0%|          | 0/100 [00:00<?, ?it/s]"
     ]
    },
    {
     "name": "stdout",
     "output_type": "stream",
     "text": [
      "[0.68725821 0.61817301] 0.7003146105356552 0.03595404543863159 8.683838570764651\n"
     ]
    },
    {
     "name": "stderr",
     "output_type": "stream",
     "text": [
      "100%|██████████| 100/100 [02:57<00:00,  1.78s/it]\n",
      "  0%|          | 0/100 [00:00<?, ?it/s]"
     ]
    },
    {
     "name": "stdout",
     "output_type": "stream",
     "text": [
      "[0.68725821 0.61821143] 0.5695383896436882 0.03595404543863159 6.9483151865743755\n"
     ]
    },
    {
     "name": "stderr",
     "output_type": "stream",
     "text": [
      "100%|██████████| 100/100 [03:03<00:00,  1.83s/it]\n",
      "  0%|          | 0/100 [00:00<?, ?it/s]"
     ]
    },
    {
     "name": "stdout",
     "output_type": "stream",
     "text": [
      "[0.68725821 0.6182205 ] 0.5485199171499641 0.03595404543863159 6.529478400941092\n"
     ]
    },
    {
     "name": "stderr",
     "output_type": "stream",
     "text": [
      "100%|██████████| 100/100 [02:55<00:00,  1.75s/it]\n",
      "  0%|          | 0/100 [00:00<?, ?it/s]"
     ]
    },
    {
     "name": "stdout",
     "output_type": "stream",
     "text": [
      "[0.68725821 0.61822611] 0.6865340892176033 0.03595404543863159 8.028026923615174\n"
     ]
    },
    {
     "name": "stderr",
     "output_type": "stream",
     "text": [
      "100%|██████████| 100/100 [02:45<00:00,  1.65s/it]"
     ]
    },
    {
     "name": "stdout",
     "output_type": "stream",
     "text": [
      "[0.68725821 0.61821704] 0.7670777661298122 0.03595404543863159 9.076998613129806\n"
     ]
    },
    {
     "name": "stderr",
     "output_type": "stream",
     "text": [
      "\n"
     ]
    }
   ],
   "source": [
    "initial_value = [.2, .2]\n",
    "bounds = [(0, 1), (0, 1)]\n",
    "\n",
    "from scipy.optimize import minimize\n",
    "\n",
    "res = minimize(objective_function, initial_value, method='Powell', tol=1e-5, options={'maxiter': 10000}, bounds=bounds)"
   ]
  },
  {
   "cell_type": "code",
   "execution_count": null,
   "id": "b1ae67c9",
   "metadata": {},
   "outputs": [],
   "source": []
  },
  {
   "cell_type": "code",
   "execution_count": null,
   "id": "9db14138",
   "metadata": {},
   "outputs": [],
   "source": []
  },
  {
   "cell_type": "code",
   "execution_count": null,
   "id": "5c00d1ec",
   "metadata": {},
   "outputs": [],
   "source": []
  },
  {
   "cell_type": "markdown",
   "id": "d028b504",
   "metadata": {},
   "source": [
    "# Bayesian"
   ]
  },
  {
   "cell_type": "code",
   "execution_count": 18,
   "id": "afe76291",
   "metadata": {},
   "outputs": [],
   "source": [
    "from xin_util.Optimization import Bayesian"
   ]
  },
  {
   "cell_type": "code",
   "execution_count": 19,
   "id": "8a62ebaa",
   "metadata": {},
   "outputs": [],
   "source": [
    "import random\n",
    "\n",
    "\n",
    "def objective_bayesian(**kwargs):\n",
    "    factor_names = sorted(list(kwargs.keys()))\n",
    "    factor = [kwargs[name] for name in factor_names]\n",
    "    \n",
    "    conv_factor = factor[0]\n",
    "    pooling_factor = factor[1]\n",
    "    \n",
    "    real_times_cnn = []\n",
    "    predicted_times_cnn = []\n",
    "    \n",
    "    for idx, model_config in enumerate(tqdm(model_configs)):\n",
    "        batch_size = batch_sizes[idx]\n",
    "        \n",
    "        kwargs_list = model_config[0]\n",
    "        layer_orders = model_config[1]\n",
    "        input_shape = model_config[2]\n",
    "        kwargs = kwargs_list[-1]\n",
    "        optimizer = kwargs['Compile']['optimizer']\n",
    "        num_layers = len(model_config[1])\n",
    "\n",
    "        conv2dmodel = build_cnn2d_model(kwargs_list, layer_orders)\n",
    "        \n",
    "        top_n = random.sample(list(range(num_layers)), 1)[0]\n",
    "        \n",
    "        for layer in conv2dmodel.layers[:top_n]:\n",
    "            layer.trainable = False\n",
    "        \n",
    "        conv2dmodel.compile(metrics=['accuracy'], **kwargs[\"Compile\"])\n",
    "\n",
    "        out_shape = conv2dmodel.get_config()['layers'][-1]['config']['units']\n",
    "\n",
    "        # Train\n",
    "        x = np.ones((batch_size, *input_shape), dtype=np.float32)\n",
    "        y = np.ones((batch_size, out_shape), dtype=np.float32)\n",
    "\n",
    "        time_callback = TimeHistory()\n",
    "        conv2dmodel.fit(x,y,epochs=epochs,batch_size=batch_size,callbacks=[time_callback],verbose=False)\n",
    "\n",
    "        real_times_cnn.append(np.mean(time_callback.batch_times[1:])*1000)    \n",
    "\n",
    "        cnn_data = convert_model_keras_cnn(conv2dmodel,input_shape,optimizer,batch_size,layer_num_upper=105,data_type='FLOPs',scaler=scaler,\n",
    "                                          conv_factor=conv_factor, pooling_factor=pooling_factor)\n",
    "\n",
    "        cnn_batch_y_pred = batch_model.predict(cnn_data)[0][0]\n",
    "        predicted_times_cnn.append(cnn_batch_y_pred)\n",
    "        \n",
    "    error = cal_score(predicted_times_cnn, real_times_cnn, absolute=False)\n",
    "    obj_tar = np.linalg.norm(error-true_errors)\n",
    "    print(factor, np.mean(error), np.mean(true_errors), obj_tar)\n",
    "    return obj_tar\n",
    "\n",
    "\n"
   ]
  },
  {
   "cell_type": "code",
   "execution_count": 20,
   "id": "fa3c59e2",
   "metadata": {
    "collapsed": true,
    "jupyter": {
     "outputs_hidden": true
    }
   },
   "outputs": [
    {
     "name": "stderr",
     "output_type": "stream",
     "text": [
      "  0%|          | 0/100 [00:00<?, ?it/s]"
     ]
    },
    {
     "name": "stdout",
     "output_type": "stream",
     "text": [
      "Iteration No: 1 started. Evaluating function at random point.\n"
     ]
    },
    {
     "name": "stderr",
     "output_type": "stream",
     "text": [
      "100%|██████████| 100/100 [03:01<00:00,  1.82s/it]\n",
      "  0%|          | 0/100 [00:00<?, ?it/s]"
     ]
    },
    {
     "name": "stdout",
     "output_type": "stream",
     "text": [
      "[0.11967564611702045, 0.7243431471237586] 0.5416716389226931 0.05863766664803352 6.803170238496701\n",
      "Iteration No: 1 ended. Evaluation done at random point.\n",
      "Time taken: 181.6865\n",
      "Function value obtained: 6.8032\n",
      "Current minimum: 6.8032\n",
      "Iteration No: 2 started. Evaluating function at random point.\n"
     ]
    },
    {
     "name": "stderr",
     "output_type": "stream",
     "text": [
      "100%|██████████| 100/100 [02:59<00:00,  1.80s/it]\n",
      "  0%|          | 0/100 [00:00<?, ?it/s]"
     ]
    },
    {
     "name": "stdout",
     "output_type": "stream",
     "text": [
      "[0.6505490884175067, 0.5557256234438012] 0.5929692732948244 0.05863766664803352 7.083948038336875\n",
      "Iteration No: 2 ended. Evaluation done at random point.\n",
      "Time taken: 179.6875\n",
      "Function value obtained: 7.0839\n",
      "Current minimum: 6.8032\n",
      "Iteration No: 3 started. Evaluating function at random point.\n"
     ]
    },
    {
     "name": "stderr",
     "output_type": "stream",
     "text": [
      "100%|██████████| 100/100 [03:15<00:00,  1.95s/it]\n",
      "  0%|          | 0/100 [00:00<?, ?it/s]"
     ]
    },
    {
     "name": "stdout",
     "output_type": "stream",
     "text": [
      "[0.6991563215123661, 0.9355336097969501] 0.6137952837395804 0.05863766664803352 7.409283766941636\n",
      "Iteration No: 3 ended. Evaluation done at random point.\n",
      "Time taken: 195.3144\n",
      "Function value obtained: 7.4093\n",
      "Current minimum: 6.8032\n",
      "Iteration No: 4 started. Evaluating function at random point.\n"
     ]
    },
    {
     "name": "stderr",
     "output_type": "stream",
     "text": [
      "100%|██████████| 100/100 [03:05<00:00,  1.85s/it]\n",
      "  0%|          | 0/100 [00:00<?, ?it/s]"
     ]
    },
    {
     "name": "stdout",
     "output_type": "stream",
     "text": [
      "[0.7777969646281729, 0.48757760147011986] 0.6158527262286938 0.05863766664803352 7.763724193559743\n",
      "Iteration No: 4 ended. Evaluation done at random point.\n",
      "Time taken: 185.1692\n",
      "Function value obtained: 7.7637\n",
      "Current minimum: 6.8032\n",
      "Iteration No: 5 started. Evaluating function at random point.\n"
     ]
    },
    {
     "name": "stderr",
     "output_type": "stream",
     "text": [
      "100%|██████████| 100/100 [03:11<00:00,  1.92s/it]\n",
      "  0%|          | 0/100 [00:00<?, ?it/s]"
     ]
    },
    {
     "name": "stdout",
     "output_type": "stream",
     "text": [
      "[0.8787343800625178, 0.18356720117397687] 0.5801374304010125 0.05863766664803352 7.279925844150558\n",
      "Iteration No: 5 ended. Evaluation done at random point.\n",
      "Time taken: 191.9459\n",
      "Function value obtained: 7.2799\n",
      "Current minimum: 6.8032\n",
      "Iteration No: 6 started. Evaluating function at random point.\n"
     ]
    },
    {
     "name": "stderr",
     "output_type": "stream",
     "text": [
      "100%|██████████| 100/100 [02:59<00:00,  1.80s/it]\n",
      "  0%|          | 0/100 [00:00<?, ?it/s]"
     ]
    },
    {
     "name": "stdout",
     "output_type": "stream",
     "text": [
      "[0.5474809163683878, 0.656375040069424] 0.6781222613584218 0.05863766664803352 8.109677895818775\n",
      "Iteration No: 6 ended. Evaluation done at random point.\n",
      "Time taken: 179.7648\n",
      "Function value obtained: 8.1097\n",
      "Current minimum: 6.8032\n",
      "Iteration No: 7 started. Evaluating function at random point.\n"
     ]
    },
    {
     "name": "stderr",
     "output_type": "stream",
     "text": [
      "100%|██████████| 100/100 [03:05<00:00,  1.86s/it]\n",
      "  0%|          | 0/100 [00:00<?, ?it/s]"
     ]
    },
    {
     "name": "stdout",
     "output_type": "stream",
     "text": [
      "[0.9992210351558006, 0.2764125956449682] 0.6511529908323271 0.05863766664803352 7.669446833330268\n",
      "Iteration No: 7 ended. Evaluation done at random point.\n",
      "Time taken: 185.7510\n",
      "Function value obtained: 7.6694\n",
      "Current minimum: 6.8032\n",
      "Iteration No: 8 started. Evaluating function at random point.\n"
     ]
    },
    {
     "name": "stderr",
     "output_type": "stream",
     "text": [
      "100%|██████████| 100/100 [02:58<00:00,  1.79s/it]\n",
      "  0%|          | 0/100 [00:00<?, ?it/s]"
     ]
    },
    {
     "name": "stdout",
     "output_type": "stream",
     "text": [
      "[0.817778170951736, 0.20257901874766776] 0.6155098383569377 0.05863766664803352 7.733442472991594\n",
      "Iteration No: 8 ended. Evaluation done at random point.\n",
      "Time taken: 178.5874\n",
      "Function value obtained: 7.7334\n",
      "Current minimum: 6.8032\n",
      "Iteration No: 9 started. Evaluating function at random point.\n"
     ]
    },
    {
     "name": "stderr",
     "output_type": "stream",
     "text": [
      "100%|██████████| 100/100 [02:40<00:00,  1.60s/it]\n",
      "  0%|          | 0/100 [00:00<?, ?it/s]"
     ]
    },
    {
     "name": "stdout",
     "output_type": "stream",
     "text": [
      "[0.8085102041439578, 0.46869246640723605] 0.8243514720147093 0.05863766664803352 10.168317247033553\n",
      "Iteration No: 9 ended. Evaluation done at random point.\n",
      "Time taken: 160.2946\n",
      "Function value obtained: 10.1683\n",
      "Current minimum: 6.8032\n",
      "Iteration No: 10 started. Evaluating function at random point.\n"
     ]
    },
    {
     "name": "stderr",
     "output_type": "stream",
     "text": [
      "100%|██████████| 100/100 [03:00<00:00,  1.80s/it]\n",
      "  0%|          | 0/100 [00:00<?, ?it/s]"
     ]
    },
    {
     "name": "stdout",
     "output_type": "stream",
     "text": [
      "[0.42077624530815194, 0.6168199082847398] 0.6404261406136352 0.05863766664803352 7.566160171352629\n",
      "Iteration No: 10 ended. Evaluation done at random point.\n",
      "Time taken: 180.2474\n",
      "Function value obtained: 7.5662\n",
      "Current minimum: 6.8032\n",
      "Iteration No: 11 started. Evaluating function at random point.\n"
     ]
    },
    {
     "name": "stderr",
     "output_type": "stream",
     "text": [
      "100%|██████████| 100/100 [02:49<00:00,  1.69s/it]\n",
      "  0%|          | 0/100 [00:00<?, ?it/s]"
     ]
    },
    {
     "name": "stdout",
     "output_type": "stream",
     "text": [
      "[0.9569628957900099, 0.6441251101974055] 0.844881967612881 0.05863766664803352 9.967500523378169\n",
      "Iteration No: 11 ended. Evaluation done at random point.\n",
      "Time taken: 169.3350\n",
      "Function value obtained: 9.9675\n",
      "Current minimum: 6.8032\n",
      "Iteration No: 12 started. Evaluating function at random point.\n"
     ]
    },
    {
     "name": "stderr",
     "output_type": "stream",
     "text": [
      "100%|██████████| 100/100 [02:49<00:00,  1.70s/it]\n",
      "  0%|          | 0/100 [00:00<?, ?it/s]"
     ]
    },
    {
     "name": "stdout",
     "output_type": "stream",
     "text": [
      "[0.9260921409608954, 0.1899941872494883] 0.7439849964204893 0.05863766664803352 9.027897169976772\n",
      "Iteration No: 12 ended. Evaluation done at random point.\n",
      "Time taken: 169.8712\n",
      "Function value obtained: 9.0279\n",
      "Current minimum: 6.8032\n",
      "Iteration No: 13 started. Evaluating function at random point.\n"
     ]
    },
    {
     "name": "stderr",
     "output_type": "stream",
     "text": [
      "100%|██████████| 100/100 [02:54<00:00,  1.75s/it]\n",
      "  0%|          | 0/100 [00:00<?, ?it/s]"
     ]
    },
    {
     "name": "stdout",
     "output_type": "stream",
     "text": [
      "[0.20195956783209096, 0.1439653747362352] 0.4601191006909019 0.05863766664803352 6.347239979986585\n",
      "Iteration No: 13 ended. Evaluation done at random point.\n",
      "Time taken: 174.7361\n",
      "Function value obtained: 6.3472\n",
      "Current minimum: 6.3472\n",
      "Iteration No: 14 started. Evaluating function at random point.\n"
     ]
    },
    {
     "name": "stderr",
     "output_type": "stream",
     "text": [
      "100%|██████████| 100/100 [02:58<00:00,  1.78s/it]\n",
      "  0%|          | 0/100 [00:00<?, ?it/s]"
     ]
    },
    {
     "name": "stdout",
     "output_type": "stream",
     "text": [
      "[0.6639293335402587, 0.30054921480505264] 0.6582900085373693 0.05863766664803352 8.038985882382338\n",
      "Iteration No: 14 ended. Evaluation done at random point.\n",
      "Time taken: 178.0686\n",
      "Function value obtained: 8.0390\n",
      "Current minimum: 6.3472\n",
      "Iteration No: 15 started. Evaluating function at random point.\n"
     ]
    },
    {
     "name": "stderr",
     "output_type": "stream",
     "text": [
      "100%|██████████| 100/100 [03:07<00:00,  1.87s/it]\n"
     ]
    },
    {
     "name": "stdout",
     "output_type": "stream",
     "text": [
      "[0.5164459614232102, 0.48460853490540723] 0.5264589783317694 0.05863766664803352 6.312203050383579\n"
     ]
    },
    {
     "name": "stderr",
     "output_type": "stream",
     "text": [
      "  0%|          | 0/100 [00:00<?, ?it/s]"
     ]
    },
    {
     "name": "stdout",
     "output_type": "stream",
     "text": [
      "Iteration No: 15 ended. Evaluation done at random point.\n",
      "Time taken: 187.7364\n",
      "Function value obtained: 6.3122\n",
      "Current minimum: 6.3122\n",
      "Iteration No: 16 started. Searching for the next optimal point.\n"
     ]
    },
    {
     "name": "stderr",
     "output_type": "stream",
     "text": [
      "100%|██████████| 100/100 [02:59<00:00,  1.80s/it]\n"
     ]
    },
    {
     "name": "stdout",
     "output_type": "stream",
     "text": [
      "[0.0, 0.08083827402292953] 0.22577905855044159 0.05863766664803352 5.497605322776649\n"
     ]
    },
    {
     "name": "stderr",
     "output_type": "stream",
     "text": [
      "  0%|          | 0/100 [00:00<?, ?it/s]"
     ]
    },
    {
     "name": "stdout",
     "output_type": "stream",
     "text": [
      "Iteration No: 16 ended. Search finished for the next optimal point.\n",
      "Time taken: 180.4613\n",
      "Function value obtained: 5.4976\n",
      "Current minimum: 5.4976\n",
      "Iteration No: 17 started. Searching for the next optimal point.\n"
     ]
    },
    {
     "name": "stderr",
     "output_type": "stream",
     "text": [
      "100%|██████████| 100/100 [03:00<00:00,  1.80s/it]\n"
     ]
    },
    {
     "name": "stdout",
     "output_type": "stream",
     "text": [
      "[0.0, 0.08754400919602004] 0.19057060817097982 0.05863766664803352 4.676246214460379\n"
     ]
    },
    {
     "name": "stderr",
     "output_type": "stream",
     "text": [
      "  0%|          | 0/100 [00:00<?, ?it/s]"
     ]
    },
    {
     "name": "stdout",
     "output_type": "stream",
     "text": [
      "Iteration No: 17 ended. Search finished for the next optimal point.\n",
      "Time taken: 180.7883\n",
      "Function value obtained: 4.6762\n",
      "Current minimum: 4.6762\n",
      "Iteration No: 18 started. Searching for the next optimal point.\n"
     ]
    },
    {
     "name": "stderr",
     "output_type": "stream",
     "text": [
      "100%|██████████| 100/100 [02:45<00:00,  1.66s/it]\n"
     ]
    },
    {
     "name": "stdout",
     "output_type": "stream",
     "text": [
      "[0.0, 0.0] 0.1887237377942264 0.05863766664803352 5.191476030085505\n"
     ]
    },
    {
     "name": "stderr",
     "output_type": "stream",
     "text": [
      "/opt/conda/lib/python3.7/site-packages/skopt/optimizer/optimizer.py:449: UserWarning: The objective has been evaluated at this point before.\n",
      "  warnings.warn(\"The objective has been evaluated \"\n",
      "  0%|          | 0/100 [00:00<?, ?it/s]"
     ]
    },
    {
     "name": "stdout",
     "output_type": "stream",
     "text": [
      "Iteration No: 18 ended. Search finished for the next optimal point.\n",
      "Time taken: 166.0988\n",
      "Function value obtained: 5.1915\n",
      "Current minimum: 4.6762\n",
      "Iteration No: 19 started. Searching for the next optimal point.\n"
     ]
    },
    {
     "name": "stderr",
     "output_type": "stream",
     "text": [
      "100%|██████████| 100/100 [03:06<00:00,  1.86s/it]\n"
     ]
    },
    {
     "name": "stdout",
     "output_type": "stream",
     "text": [
      "[0.0, 0.0] 0.13874305104382428 0.05863766664803352 5.0856328308392404\n"
     ]
    },
    {
     "name": "stderr",
     "output_type": "stream",
     "text": [
      "/opt/conda/lib/python3.7/site-packages/skopt/optimizer/optimizer.py:449: UserWarning: The objective has been evaluated at this point before.\n",
      "  warnings.warn(\"The objective has been evaluated \"\n",
      "  0%|          | 0/100 [00:00<?, ?it/s]"
     ]
    },
    {
     "name": "stdout",
     "output_type": "stream",
     "text": [
      "Iteration No: 19 ended. Search finished for the next optimal point.\n",
      "Time taken: 186.6401\n",
      "Function value obtained: 5.0856\n",
      "Current minimum: 4.6762\n",
      "Iteration No: 20 started. Searching for the next optimal point.\n"
     ]
    },
    {
     "name": "stderr",
     "output_type": "stream",
     "text": [
      "100%|██████████| 100/100 [03:02<00:00,  1.82s/it]\n"
     ]
    },
    {
     "name": "stdout",
     "output_type": "stream",
     "text": [
      "[0.0, 0.0] 0.14381167395992944 0.05863766664803352 5.132342763992673\n"
     ]
    },
    {
     "name": "stderr",
     "output_type": "stream",
     "text": [
      "  0%|          | 0/100 [00:00<?, ?it/s]"
     ]
    },
    {
     "name": "stdout",
     "output_type": "stream",
     "text": [
      "Iteration No: 20 ended. Search finished for the next optimal point.\n",
      "Time taken: 183.0291\n",
      "Function value obtained: 5.1323\n",
      "Current minimum: 4.6762\n",
      "Iteration No: 21 started. Searching for the next optimal point.\n"
     ]
    },
    {
     "name": "stderr",
     "output_type": "stream",
     "text": [
      "100%|██████████| 100/100 [03:03<00:00,  1.84s/it]\n"
     ]
    },
    {
     "name": "stdout",
     "output_type": "stream",
     "text": [
      "[7.93946776876814e-09, 0.08886285500939362] 0.1759302822502766 0.05863766664803352 4.728645389114774\n"
     ]
    },
    {
     "name": "stderr",
     "output_type": "stream",
     "text": [
      "  0%|          | 0/100 [00:00<?, ?it/s]"
     ]
    },
    {
     "name": "stdout",
     "output_type": "stream",
     "text": [
      "Iteration No: 21 ended. Search finished for the next optimal point.\n",
      "Time taken: 184.3737\n",
      "Function value obtained: 4.7286\n",
      "Current minimum: 4.6762\n",
      "Iteration No: 22 started. Searching for the next optimal point.\n"
     ]
    },
    {
     "name": "stderr",
     "output_type": "stream",
     "text": [
      "100%|██████████| 100/100 [02:53<00:00,  1.74s/it]\n"
     ]
    },
    {
     "name": "stdout",
     "output_type": "stream",
     "text": [
      "[0.018322962217813876, 0.08826543515473331] 0.22978993799821937 0.05863766664803352 4.9700331903578485\n"
     ]
    },
    {
     "name": "stderr",
     "output_type": "stream",
     "text": [
      "  0%|          | 0/100 [00:00<?, ?it/s]"
     ]
    },
    {
     "name": "stdout",
     "output_type": "stream",
     "text": [
      "Iteration No: 22 ended. Search finished for the next optimal point.\n",
      "Time taken: 174.5448\n",
      "Function value obtained: 4.9700\n",
      "Current minimum: 4.6762\n",
      "Iteration No: 23 started. Searching for the next optimal point.\n"
     ]
    },
    {
     "name": "stderr",
     "output_type": "stream",
     "text": [
      "100%|██████████| 100/100 [02:56<00:00,  1.76s/it]\n"
     ]
    },
    {
     "name": "stdout",
     "output_type": "stream",
     "text": [
      "[0.05716726429636047, 0.0] 0.20527157487238515 0.05863766664803352 5.472891074882573\n"
     ]
    },
    {
     "name": "stderr",
     "output_type": "stream",
     "text": [
      "  0%|          | 0/100 [00:00<?, ?it/s]"
     ]
    },
    {
     "name": "stdout",
     "output_type": "stream",
     "text": [
      "Iteration No: 23 ended. Search finished for the next optimal point.\n",
      "Time taken: 176.8274\n",
      "Function value obtained: 5.4729\n",
      "Current minimum: 4.6762\n",
      "Iteration No: 24 started. Searching for the next optimal point.\n"
     ]
    },
    {
     "name": "stderr",
     "output_type": "stream",
     "text": [
      "100%|██████████| 100/100 [02:56<00:00,  1.76s/it]\n"
     ]
    },
    {
     "name": "stdout",
     "output_type": "stream",
     "text": [
      "[0.0, 0.01007615775614042] 0.17354805954718652 0.05863766664803352 4.970726440922869\n"
     ]
    },
    {
     "name": "stderr",
     "output_type": "stream",
     "text": [
      "  0%|          | 0/100 [00:00<?, ?it/s]"
     ]
    },
    {
     "name": "stdout",
     "output_type": "stream",
     "text": [
      "Iteration No: 24 ended. Search finished for the next optimal point.\n",
      "Time taken: 177.0319\n",
      "Function value obtained: 4.9707\n",
      "Current minimum: 4.6762\n",
      "Iteration No: 25 started. Searching for the next optimal point.\n"
     ]
    },
    {
     "name": "stderr",
     "output_type": "stream",
     "text": [
      "100%|██████████| 100/100 [02:58<00:00,  1.78s/it]\n"
     ]
    },
    {
     "name": "stdout",
     "output_type": "stream",
     "text": [
      "[0.0, 0.022941186160030082] 0.2028435319126884 0.05863766664803352 5.388489277758049\n"
     ]
    },
    {
     "name": "stderr",
     "output_type": "stream",
     "text": [
      "  0%|          | 0/100 [00:00<?, ?it/s]"
     ]
    },
    {
     "name": "stdout",
     "output_type": "stream",
     "text": [
      "Iteration No: 25 ended. Search finished for the next optimal point.\n",
      "Time taken: 178.7039\n",
      "Function value obtained: 5.3885\n",
      "Current minimum: 4.6762\n",
      "Iteration No: 26 started. Searching for the next optimal point.\n"
     ]
    },
    {
     "name": "stderr",
     "output_type": "stream",
     "text": [
      "100%|██████████| 100/100 [02:58<00:00,  1.78s/it]\n"
     ]
    },
    {
     "name": "stdout",
     "output_type": "stream",
     "text": [
      "[0.07009885274241419, 0.01491972170514808] 0.23256678210099047 0.05863766664803352 5.20379945765222\n"
     ]
    },
    {
     "name": "stderr",
     "output_type": "stream",
     "text": [
      "  0%|          | 0/100 [00:00<?, ?it/s]"
     ]
    },
    {
     "name": "stdout",
     "output_type": "stream",
     "text": [
      "Iteration No: 26 ended. Search finished for the next optimal point.\n",
      "Time taken: 178.9501\n",
      "Function value obtained: 5.2038\n",
      "Current minimum: 4.6762\n",
      "Iteration No: 27 started. Searching for the next optimal point.\n"
     ]
    },
    {
     "name": "stderr",
     "output_type": "stream",
     "text": [
      "100%|██████████| 100/100 [02:55<00:00,  1.75s/it]\n"
     ]
    },
    {
     "name": "stdout",
     "output_type": "stream",
     "text": [
      "[0.0, 0.09071840587709766] 0.22388638139675987 0.05863766664803352 5.515244388549793\n"
     ]
    },
    {
     "name": "stderr",
     "output_type": "stream",
     "text": [
      "  0%|          | 0/100 [00:00<?, ?it/s]"
     ]
    },
    {
     "name": "stdout",
     "output_type": "stream",
     "text": [
      "Iteration No: 27 ended. Search finished for the next optimal point.\n",
      "Time taken: 175.7737\n",
      "Function value obtained: 5.5152\n",
      "Current minimum: 4.6762\n",
      "Iteration No: 28 started. Searching for the next optimal point.\n"
     ]
    },
    {
     "name": "stderr",
     "output_type": "stream",
     "text": [
      "100%|██████████| 100/100 [02:53<00:00,  1.74s/it]\n"
     ]
    },
    {
     "name": "stdout",
     "output_type": "stream",
     "text": [
      "[0.0, 0.29783414169658967] 0.3140739263519018 0.05863766664803352 5.427711959068148\n"
     ]
    },
    {
     "name": "stderr",
     "output_type": "stream",
     "text": [
      "/opt/conda/lib/python3.7/site-packages/skopt/optimizer/optimizer.py:449: UserWarning: The objective has been evaluated at this point before.\n",
      "  warnings.warn(\"The objective has been evaluated \"\n",
      "  0%|          | 0/100 [00:00<?, ?it/s]"
     ]
    },
    {
     "name": "stdout",
     "output_type": "stream",
     "text": [
      "Iteration No: 28 ended. Search finished for the next optimal point.\n",
      "Time taken: 174.3782\n",
      "Function value obtained: 5.4277\n",
      "Current minimum: 4.6762\n",
      "Iteration No: 29 started. Searching for the next optimal point.\n"
     ]
    },
    {
     "name": "stderr",
     "output_type": "stream",
     "text": [
      "100%|██████████| 100/100 [02:57<00:00,  1.78s/it]\n"
     ]
    },
    {
     "name": "stdout",
     "output_type": "stream",
     "text": [
      "[0.0, 0.0] 0.17387951620329267 0.05863766664803352 4.94849878347582\n"
     ]
    },
    {
     "name": "stderr",
     "output_type": "stream",
     "text": [
      "  0%|          | 0/100 [00:00<?, ?it/s]"
     ]
    },
    {
     "name": "stdout",
     "output_type": "stream",
     "text": [
      "Iteration No: 29 ended. Search finished for the next optimal point.\n",
      "Time taken: 178.0085\n",
      "Function value obtained: 4.9485\n",
      "Current minimum: 4.6762\n",
      "Iteration No: 30 started. Searching for the next optimal point.\n"
     ]
    },
    {
     "name": "stderr",
     "output_type": "stream",
     "text": [
      "100%|██████████| 100/100 [02:53<00:00,  1.74s/it]\n"
     ]
    },
    {
     "name": "stdout",
     "output_type": "stream",
     "text": [
      "[0.0, 1.0] 0.6395284770772464 0.05863766664803352 7.966954732776732\n"
     ]
    },
    {
     "name": "stderr",
     "output_type": "stream",
     "text": [
      "  0%|          | 0/100 [00:00<?, ?it/s]"
     ]
    },
    {
     "name": "stdout",
     "output_type": "stream",
     "text": [
      "Iteration No: 30 ended. Search finished for the next optimal point.\n",
      "Time taken: 174.3817\n",
      "Function value obtained: 7.9670\n",
      "Current minimum: 4.6762\n",
      "Iteration No: 31 started. Searching for the next optimal point.\n"
     ]
    },
    {
     "name": "stderr",
     "output_type": "stream",
     "text": [
      "100%|██████████| 100/100 [02:54<00:00,  1.74s/it]\n"
     ]
    },
    {
     "name": "stdout",
     "output_type": "stream",
     "text": [
      "[0.0, 0.25284389382121436] 0.29582506327501873 0.05863766664803352 5.084883119301811\n"
     ]
    },
    {
     "name": "stderr",
     "output_type": "stream",
     "text": [
      "  0%|          | 0/100 [00:00<?, ?it/s]"
     ]
    },
    {
     "name": "stdout",
     "output_type": "stream",
     "text": [
      "Iteration No: 31 ended. Search finished for the next optimal point.\n",
      "Time taken: 174.6818\n",
      "Function value obtained: 5.0849\n",
      "Current minimum: 4.6762\n",
      "Iteration No: 32 started. Searching for the next optimal point.\n"
     ]
    },
    {
     "name": "stderr",
     "output_type": "stream",
     "text": [
      "100%|██████████| 100/100 [02:58<00:00,  1.78s/it]\n"
     ]
    },
    {
     "name": "stdout",
     "output_type": "stream",
     "text": [
      "[0.0, 0.25260163147827863] 0.286545717084498 0.05863766664803352 5.245628376226707\n"
     ]
    },
    {
     "name": "stderr",
     "output_type": "stream",
     "text": [
      "  0%|          | 0/100 [00:00<?, ?it/s]"
     ]
    },
    {
     "name": "stdout",
     "output_type": "stream",
     "text": [
      "Iteration No: 32 ended. Search finished for the next optimal point.\n",
      "Time taken: 178.7238\n",
      "Function value obtained: 5.2456\n",
      "Current minimum: 4.6762\n",
      "Iteration No: 33 started. Searching for the next optimal point.\n"
     ]
    },
    {
     "name": "stderr",
     "output_type": "stream",
     "text": [
      "100%|██████████| 100/100 [02:54<00:00,  1.75s/it]\n"
     ]
    },
    {
     "name": "stdout",
     "output_type": "stream",
     "text": [
      "[0.3076691415030379, 0.0] 0.4287566460978368 0.05863766664803352 5.987572454553389\n"
     ]
    },
    {
     "name": "stderr",
     "output_type": "stream",
     "text": [
      "/opt/conda/lib/python3.7/site-packages/skopt/optimizer/optimizer.py:449: UserWarning: The objective has been evaluated at this point before.\n",
      "  warnings.warn(\"The objective has been evaluated \"\n",
      "  0%|          | 0/100 [00:00<?, ?it/s]"
     ]
    },
    {
     "name": "stdout",
     "output_type": "stream",
     "text": [
      "Iteration No: 33 ended. Search finished for the next optimal point.\n",
      "Time taken: 175.2034\n",
      "Function value obtained: 5.9876\n",
      "Current minimum: 4.6762\n",
      "Iteration No: 34 started. Searching for the next optimal point.\n"
     ]
    },
    {
     "name": "stderr",
     "output_type": "stream",
     "text": [
      "100%|██████████| 100/100 [02:54<00:00,  1.74s/it]\n"
     ]
    },
    {
     "name": "stdout",
     "output_type": "stream",
     "text": [
      "[0.0, 0.0] 0.1881031394187604 0.05863766664803352 5.4647499367232975\n"
     ]
    },
    {
     "name": "stderr",
     "output_type": "stream",
     "text": [
      "  0%|          | 0/100 [00:00<?, ?it/s]"
     ]
    },
    {
     "name": "stdout",
     "output_type": "stream",
     "text": [
      "Iteration No: 34 ended. Search finished for the next optimal point.\n",
      "Time taken: 174.8536\n",
      "Function value obtained: 5.4647\n",
      "Current minimum: 4.6762\n",
      "Iteration No: 35 started. Searching for the next optimal point.\n"
     ]
    },
    {
     "name": "stderr",
     "output_type": "stream",
     "text": [
      "100%|██████████| 100/100 [03:09<00:00,  1.90s/it]\n"
     ]
    },
    {
     "name": "stdout",
     "output_type": "stream",
     "text": [
      "[0.0, 0.2714241799866491] 0.2518338663431899 0.05863766664803352 4.812751764558998\n"
     ]
    },
    {
     "name": "stderr",
     "output_type": "stream",
     "text": [
      "  0%|          | 0/100 [00:00<?, ?it/s]"
     ]
    },
    {
     "name": "stdout",
     "output_type": "stream",
     "text": [
      "Iteration No: 35 ended. Search finished for the next optimal point.\n",
      "Time taken: 190.7330\n",
      "Function value obtained: 4.8128\n",
      "Current minimum: 4.6762\n",
      "Iteration No: 36 started. Searching for the next optimal point.\n"
     ]
    },
    {
     "name": "stderr",
     "output_type": "stream",
     "text": [
      "100%|██████████| 100/100 [02:59<00:00,  1.80s/it]\n"
     ]
    },
    {
     "name": "stdout",
     "output_type": "stream",
     "text": [
      "[0.0, 0.2745422790461936] 0.30335788932769964 0.05863766664803352 5.476847394287548\n"
     ]
    },
    {
     "name": "stderr",
     "output_type": "stream",
     "text": [
      "  0%|          | 0/100 [00:00<?, ?it/s]"
     ]
    },
    {
     "name": "stdout",
     "output_type": "stream",
     "text": [
      "Iteration No: 36 ended. Search finished for the next optimal point.\n",
      "Time taken: 180.3008\n",
      "Function value obtained: 5.4768\n",
      "Current minimum: 4.6762\n",
      "Iteration No: 37 started. Searching for the next optimal point.\n"
     ]
    },
    {
     "name": "stderr",
     "output_type": "stream",
     "text": [
      "100%|██████████| 100/100 [03:02<00:00,  1.83s/it]\n"
     ]
    },
    {
     "name": "stdout",
     "output_type": "stream",
     "text": [
      "[0.0, 0.2748541429544132] 0.2723459042808612 0.05863766664803352 4.742964102864479\n"
     ]
    },
    {
     "name": "stderr",
     "output_type": "stream",
     "text": [
      "  0%|          | 0/100 [00:00<?, ?it/s]"
     ]
    },
    {
     "name": "stdout",
     "output_type": "stream",
     "text": [
      "Iteration No: 37 ended. Search finished for the next optimal point.\n",
      "Time taken: 183.5515\n",
      "Function value obtained: 4.7430\n",
      "Current minimum: 4.6762\n",
      "Iteration No: 38 started. Searching for the next optimal point.\n"
     ]
    },
    {
     "name": "stderr",
     "output_type": "stream",
     "text": [
      "100%|██████████| 100/100 [02:52<00:00,  1.72s/it]\n"
     ]
    },
    {
     "name": "stdout",
     "output_type": "stream",
     "text": [
      "[0.0, 0.32119878156214277] 0.3658110602918285 0.05863766664803352 5.859682765724261\n"
     ]
    },
    {
     "name": "stderr",
     "output_type": "stream",
     "text": [
      "/opt/conda/lib/python3.7/site-packages/skopt/optimizer/optimizer.py:449: UserWarning: The objective has been evaluated at this point before.\n",
      "  warnings.warn(\"The objective has been evaluated \"\n",
      "  0%|          | 0/100 [00:00<?, ?it/s]"
     ]
    },
    {
     "name": "stdout",
     "output_type": "stream",
     "text": [
      "Iteration No: 38 ended. Search finished for the next optimal point.\n",
      "Time taken: 173.1866\n",
      "Function value obtained: 5.8597\n",
      "Current minimum: 4.6762\n",
      "Iteration No: 39 started. Searching for the next optimal point.\n"
     ]
    },
    {
     "name": "stderr",
     "output_type": "stream",
     "text": [
      "100%|██████████| 100/100 [02:59<00:00,  1.80s/it]\n"
     ]
    },
    {
     "name": "stdout",
     "output_type": "stream",
     "text": [
      "[0.0, 0.0] 0.1482502195198106 0.05863766664803352 5.027268105781057\n"
     ]
    },
    {
     "name": "stderr",
     "output_type": "stream",
     "text": [
      "/opt/conda/lib/python3.7/site-packages/skopt/optimizer/optimizer.py:449: UserWarning: The objective has been evaluated at this point before.\n",
      "  warnings.warn(\"The objective has been evaluated \"\n",
      "  0%|          | 0/100 [00:00<?, ?it/s]"
     ]
    },
    {
     "name": "stdout",
     "output_type": "stream",
     "text": [
      "Iteration No: 39 ended. Search finished for the next optimal point.\n",
      "Time taken: 180.3757\n",
      "Function value obtained: 5.0273\n",
      "Current minimum: 4.6762\n",
      "Iteration No: 40 started. Searching for the next optimal point.\n"
     ]
    },
    {
     "name": "stderr",
     "output_type": "stream",
     "text": [
      "100%|██████████| 100/100 [03:03<00:00,  1.84s/it]\n"
     ]
    },
    {
     "name": "stdout",
     "output_type": "stream",
     "text": [
      "[0.0, 0.0] 0.13394950803634834 0.05863766664803352 4.973615869221882\n"
     ]
    },
    {
     "name": "stderr",
     "output_type": "stream",
     "text": [
      "/opt/conda/lib/python3.7/site-packages/skopt/optimizer/optimizer.py:449: UserWarning: The objective has been evaluated at this point before.\n",
      "  warnings.warn(\"The objective has been evaluated \"\n",
      "  0%|          | 0/100 [00:00<?, ?it/s]"
     ]
    },
    {
     "name": "stdout",
     "output_type": "stream",
     "text": [
      "Iteration No: 40 ended. Search finished for the next optimal point.\n",
      "Time taken: 184.3276\n",
      "Function value obtained: 4.9736\n",
      "Current minimum: 4.6762\n",
      "Iteration No: 41 started. Searching for the next optimal point.\n"
     ]
    },
    {
     "name": "stderr",
     "output_type": "stream",
     "text": [
      "100%|██████████| 100/100 [02:57<00:00,  1.77s/it]\n"
     ]
    },
    {
     "name": "stdout",
     "output_type": "stream",
     "text": [
      "[0.0, 0.0] 0.14987775707103723 0.05863766664803352 5.041706728408458\n"
     ]
    },
    {
     "name": "stderr",
     "output_type": "stream",
     "text": [
      "/opt/conda/lib/python3.7/site-packages/skopt/optimizer/optimizer.py:449: UserWarning: The objective has been evaluated at this point before.\n",
      "  warnings.warn(\"The objective has been evaluated \"\n",
      "  0%|          | 0/100 [00:00<?, ?it/s]"
     ]
    },
    {
     "name": "stdout",
     "output_type": "stream",
     "text": [
      "Iteration No: 41 ended. Search finished for the next optimal point.\n",
      "Time taken: 178.2758\n",
      "Function value obtained: 5.0417\n",
      "Current minimum: 4.6762\n",
      "Iteration No: 42 started. Searching for the next optimal point.\n"
     ]
    },
    {
     "name": "stderr",
     "output_type": "stream",
     "text": [
      "100%|██████████| 100/100 [03:03<00:00,  1.83s/it]\n"
     ]
    },
    {
     "name": "stdout",
     "output_type": "stream",
     "text": [
      "[0.0, 0.0] 0.13317075102497042 0.05863766664803352 5.257061625490151\n"
     ]
    },
    {
     "name": "stderr",
     "output_type": "stream",
     "text": [
      "  0%|          | 0/100 [00:00<?, ?it/s]"
     ]
    },
    {
     "name": "stdout",
     "output_type": "stream",
     "text": [
      "Iteration No: 42 ended. Search finished for the next optimal point.\n",
      "Time taken: 183.8116\n",
      "Function value obtained: 5.2571\n",
      "Current minimum: 4.6762\n",
      "Iteration No: 43 started. Searching for the next optimal point.\n"
     ]
    },
    {
     "name": "stderr",
     "output_type": "stream",
     "text": [
      "100%|██████████| 100/100 [03:09<00:00,  1.90s/it]\n"
     ]
    },
    {
     "name": "stdout",
     "output_type": "stream",
     "text": [
      "[0.0, 0.140669124832186] 0.2152242412599753 0.05863766664803352 5.089562199038182\n"
     ]
    },
    {
     "name": "stderr",
     "output_type": "stream",
     "text": [
      "  0%|          | 0/100 [00:00<?, ?it/s]"
     ]
    },
    {
     "name": "stdout",
     "output_type": "stream",
     "text": [
      "Iteration No: 43 ended. Search finished for the next optimal point.\n",
      "Time taken: 190.4339\n",
      "Function value obtained: 5.0896\n",
      "Current minimum: 4.6762\n",
      "Iteration No: 44 started. Searching for the next optimal point.\n"
     ]
    },
    {
     "name": "stderr",
     "output_type": "stream",
     "text": [
      "100%|██████████| 100/100 [03:01<00:00,  1.81s/it]\n"
     ]
    },
    {
     "name": "stdout",
     "output_type": "stream",
     "text": [
      "[0.0, 0.13932277471761073] 0.24415647427827872 0.05863766664803352 5.029375670727335\n"
     ]
    },
    {
     "name": "stderr",
     "output_type": "stream",
     "text": [
      "  0%|          | 0/100 [00:00<?, ?it/s]"
     ]
    },
    {
     "name": "stdout",
     "output_type": "stream",
     "text": [
      "Iteration No: 44 ended. Search finished for the next optimal point.\n",
      "Time taken: 181.9582\n",
      "Function value obtained: 5.0294\n",
      "Current minimum: 4.6762\n",
      "Iteration No: 45 started. Searching for the next optimal point.\n"
     ]
    },
    {
     "name": "stderr",
     "output_type": "stream",
     "text": [
      "100%|██████████| 100/100 [02:48<00:00,  1.68s/it]\n"
     ]
    },
    {
     "name": "stdout",
     "output_type": "stream",
     "text": [
      "[0.0, 0.13898535267543952] 0.27115989210558405 0.05863766664803352 5.881526415137827\n"
     ]
    },
    {
     "name": "stderr",
     "output_type": "stream",
     "text": [
      "/opt/conda/lib/python3.7/site-packages/skopt/optimizer/optimizer.py:449: UserWarning: The objective has been evaluated at this point before.\n",
      "  warnings.warn(\"The objective has been evaluated \"\n",
      "  0%|          | 0/100 [00:00<?, ?it/s]"
     ]
    },
    {
     "name": "stdout",
     "output_type": "stream",
     "text": [
      "Iteration No: 45 ended. Search finished for the next optimal point.\n",
      "Time taken: 168.9554\n",
      "Function value obtained: 5.8815\n",
      "Current minimum: 4.6762\n",
      "Iteration No: 46 started. Searching for the next optimal point.\n"
     ]
    },
    {
     "name": "stderr",
     "output_type": "stream",
     "text": [
      "100%|██████████| 100/100 [02:53<00:00,  1.73s/it]\n"
     ]
    },
    {
     "name": "stdout",
     "output_type": "stream",
     "text": [
      "[0.0, 0.0] 0.16837354136380508 0.05863766664803352 4.907873137948801\n"
     ]
    },
    {
     "name": "stderr",
     "output_type": "stream",
     "text": [
      "/opt/conda/lib/python3.7/site-packages/skopt/optimizer/optimizer.py:449: UserWarning: The objective has been evaluated at this point before.\n",
      "  warnings.warn(\"The objective has been evaluated \"\n",
      "  0%|          | 0/100 [00:00<?, ?it/s]"
     ]
    },
    {
     "name": "stdout",
     "output_type": "stream",
     "text": [
      "Iteration No: 46 ended. Search finished for the next optimal point.\n",
      "Time taken: 174.2555\n",
      "Function value obtained: 4.9079\n",
      "Current minimum: 4.6762\n",
      "Iteration No: 47 started. Searching for the next optimal point.\n"
     ]
    },
    {
     "name": "stderr",
     "output_type": "stream",
     "text": [
      "100%|██████████| 100/100 [03:07<00:00,  1.87s/it]\n"
     ]
    },
    {
     "name": "stdout",
     "output_type": "stream",
     "text": [
      "[0.0, 0.0] 0.11447327690547499 0.05863766664803352 4.90487497069519\n"
     ]
    },
    {
     "name": "stderr",
     "output_type": "stream",
     "text": [
      "/opt/conda/lib/python3.7/site-packages/skopt/optimizer/optimizer.py:449: UserWarning: The objective has been evaluated at this point before.\n",
      "  warnings.warn(\"The objective has been evaluated \"\n",
      "  0%|          | 0/100 [00:00<?, ?it/s]"
     ]
    },
    {
     "name": "stdout",
     "output_type": "stream",
     "text": [
      "Iteration No: 47 ended. Search finished for the next optimal point.\n",
      "Time taken: 188.2658\n",
      "Function value obtained: 4.9049\n",
      "Current minimum: 4.6762\n",
      "Iteration No: 48 started. Searching for the next optimal point.\n"
     ]
    },
    {
     "name": "stderr",
     "output_type": "stream",
     "text": [
      "100%|██████████| 100/100 [02:46<00:00,  1.66s/it]\n"
     ]
    },
    {
     "name": "stdout",
     "output_type": "stream",
     "text": [
      "[0.0, 0.0] 0.2519451670078606 0.05863766664803352 6.203470686934084\n"
     ]
    },
    {
     "name": "stderr",
     "output_type": "stream",
     "text": [
      "/opt/conda/lib/python3.7/site-packages/skopt/optimizer/optimizer.py:449: UserWarning: The objective has been evaluated at this point before.\n",
      "  warnings.warn(\"The objective has been evaluated \"\n",
      "  0%|          | 0/100 [00:00<?, ?it/s]"
     ]
    },
    {
     "name": "stdout",
     "output_type": "stream",
     "text": [
      "Iteration No: 48 ended. Search finished for the next optimal point.\n",
      "Time taken: 167.2776\n",
      "Function value obtained: 6.2035\n",
      "Current minimum: 4.6762\n",
      "Iteration No: 49 started. Searching for the next optimal point.\n"
     ]
    },
    {
     "name": "stderr",
     "output_type": "stream",
     "text": [
      "100%|██████████| 100/100 [02:58<00:00,  1.79s/it]\n"
     ]
    },
    {
     "name": "stdout",
     "output_type": "stream",
     "text": [
      "[0.0, 0.0] 0.16336234194802088 0.05863766664803352 4.8635447300939605\n"
     ]
    },
    {
     "name": "stderr",
     "output_type": "stream",
     "text": [
      "/opt/conda/lib/python3.7/site-packages/skopt/optimizer/optimizer.py:449: UserWarning: The objective has been evaluated at this point before.\n",
      "  warnings.warn(\"The objective has been evaluated \"\n",
      "  0%|          | 0/100 [00:00<?, ?it/s]"
     ]
    },
    {
     "name": "stdout",
     "output_type": "stream",
     "text": [
      "Iteration No: 49 ended. Search finished for the next optimal point.\n",
      "Time taken: 179.5657\n",
      "Function value obtained: 4.8635\n",
      "Current minimum: 4.6762\n",
      "Iteration No: 50 started. Searching for the next optimal point.\n"
     ]
    },
    {
     "name": "stderr",
     "output_type": "stream",
     "text": [
      "100%|██████████| 100/100 [03:05<00:00,  1.86s/it]\n"
     ]
    },
    {
     "name": "stdout",
     "output_type": "stream",
     "text": [
      "[0.0, 0.0] 0.15759842657146905 0.05863766664803352 5.16781828742189\n"
     ]
    },
    {
     "name": "stderr",
     "output_type": "stream",
     "text": [
      "/opt/conda/lib/python3.7/site-packages/skopt/optimizer/optimizer.py:449: UserWarning: The objective has been evaluated at this point before.\n",
      "  warnings.warn(\"The objective has been evaluated \"\n",
      "  0%|          | 0/100 [00:00<?, ?it/s]"
     ]
    },
    {
     "name": "stdout",
     "output_type": "stream",
     "text": [
      "Iteration No: 50 ended. Search finished for the next optimal point.\n",
      "Time taken: 186.8320\n",
      "Function value obtained: 5.1678\n",
      "Current minimum: 4.6762\n",
      "Iteration No: 51 started. Searching for the next optimal point.\n"
     ]
    },
    {
     "name": "stderr",
     "output_type": "stream",
     "text": [
      "100%|██████████| 100/100 [02:55<00:00,  1.76s/it]\n"
     ]
    },
    {
     "name": "stdout",
     "output_type": "stream",
     "text": [
      "[0.0, 0.0] 0.14321122630678446 0.05863766664803352 5.161011576414044\n"
     ]
    },
    {
     "name": "stderr",
     "output_type": "stream",
     "text": [
      "  0%|          | 0/100 [00:00<?, ?it/s]"
     ]
    },
    {
     "name": "stdout",
     "output_type": "stream",
     "text": [
      "Iteration No: 51 ended. Search finished for the next optimal point.\n",
      "Time taken: 176.8212\n",
      "Function value obtained: 5.1610\n",
      "Current minimum: 4.6762\n",
      "Iteration No: 52 started. Searching for the next optimal point.\n"
     ]
    },
    {
     "name": "stderr",
     "output_type": "stream",
     "text": [
      "100%|██████████| 100/100 [02:56<00:00,  1.76s/it]\n"
     ]
    },
    {
     "name": "stdout",
     "output_type": "stream",
     "text": [
      "[0.0, 0.1461313919423976] 0.2983866627628775 0.05863766664803352 5.496672534481882\n"
     ]
    },
    {
     "name": "stderr",
     "output_type": "stream",
     "text": [
      "/opt/conda/lib/python3.7/site-packages/skopt/optimizer/optimizer.py:449: UserWarning: The objective has been evaluated at this point before.\n",
      "  warnings.warn(\"The objective has been evaluated \"\n",
      "  0%|          | 0/100 [00:00<?, ?it/s]"
     ]
    },
    {
     "name": "stdout",
     "output_type": "stream",
     "text": [
      "Iteration No: 52 ended. Search finished for the next optimal point.\n",
      "Time taken: 177.0752\n",
      "Function value obtained: 5.4967\n",
      "Current minimum: 4.6762\n",
      "Iteration No: 53 started. Searching for the next optimal point.\n"
     ]
    },
    {
     "name": "stderr",
     "output_type": "stream",
     "text": [
      "100%|██████████| 100/100 [03:03<00:00,  1.84s/it]\n"
     ]
    },
    {
     "name": "stdout",
     "output_type": "stream",
     "text": [
      "[0.0, 0.0] 0.1639469486961188 0.05863766664803352 5.557466694934821\n"
     ]
    },
    {
     "name": "stderr",
     "output_type": "stream",
     "text": [
      "  0%|          | 0/100 [00:00<?, ?it/s]"
     ]
    },
    {
     "name": "stdout",
     "output_type": "stream",
     "text": [
      "Iteration No: 53 ended. Search finished for the next optimal point.\n",
      "Time taken: 184.6790\n",
      "Function value obtained: 5.5575\n",
      "Current minimum: 4.6762\n",
      "Iteration No: 54 started. Searching for the next optimal point.\n"
     ]
    },
    {
     "name": "stderr",
     "output_type": "stream",
     "text": [
      "100%|██████████| 100/100 [02:53<00:00,  1.73s/it]\n"
     ]
    },
    {
     "name": "stdout",
     "output_type": "stream",
     "text": [
      "[0.0, 0.14901679287347164] 0.2742896211210104 0.05863766664803352 5.551350983959467\n"
     ]
    },
    {
     "name": "stderr",
     "output_type": "stream",
     "text": [
      "/opt/conda/lib/python3.7/site-packages/skopt/optimizer/optimizer.py:449: UserWarning: The objective has been evaluated at this point before.\n",
      "  warnings.warn(\"The objective has been evaluated \"\n",
      "  0%|          | 0/100 [00:00<?, ?it/s]"
     ]
    },
    {
     "name": "stdout",
     "output_type": "stream",
     "text": [
      "Iteration No: 54 ended. Search finished for the next optimal point.\n",
      "Time taken: 174.0382\n",
      "Function value obtained: 5.5514\n",
      "Current minimum: 4.6762\n",
      "Iteration No: 55 started. Searching for the next optimal point.\n"
     ]
    },
    {
     "name": "stderr",
     "output_type": "stream",
     "text": [
      "100%|██████████| 100/100 [03:11<00:00,  1.91s/it]\n"
     ]
    },
    {
     "name": "stdout",
     "output_type": "stream",
     "text": [
      "[0.0, 0.0] 0.1148355367356632 0.05863766664803352 4.908775403672675\n"
     ]
    },
    {
     "name": "stderr",
     "output_type": "stream",
     "text": [
      "/opt/conda/lib/python3.7/site-packages/skopt/optimizer/optimizer.py:449: UserWarning: The objective has been evaluated at this point before.\n",
      "  warnings.warn(\"The objective has been evaluated \"\n",
      "  0%|          | 0/100 [00:00<?, ?it/s]"
     ]
    },
    {
     "name": "stdout",
     "output_type": "stream",
     "text": [
      "Iteration No: 55 ended. Search finished for the next optimal point.\n",
      "Time taken: 191.9420\n",
      "Function value obtained: 4.9088\n",
      "Current minimum: 4.6762\n",
      "Iteration No: 56 started. Searching for the next optimal point.\n"
     ]
    },
    {
     "name": "stderr",
     "output_type": "stream",
     "text": [
      "100%|██████████| 100/100 [03:05<00:00,  1.85s/it]\n"
     ]
    },
    {
     "name": "stdout",
     "output_type": "stream",
     "text": [
      "[0.0, 0.0] 0.12785855777350713 0.05863766664803352 4.603860143637878\n"
     ]
    },
    {
     "name": "stderr",
     "output_type": "stream",
     "text": [
      "/opt/conda/lib/python3.7/site-packages/skopt/optimizer/optimizer.py:449: UserWarning: The objective has been evaluated at this point before.\n",
      "  warnings.warn(\"The objective has been evaluated \"\n",
      "  0%|          | 0/100 [00:00<?, ?it/s]"
     ]
    },
    {
     "name": "stdout",
     "output_type": "stream",
     "text": [
      "Iteration No: 56 ended. Search finished for the next optimal point.\n",
      "Time taken: 186.1369\n",
      "Function value obtained: 4.6039\n",
      "Current minimum: 4.6039\n",
      "Iteration No: 57 started. Searching for the next optimal point.\n"
     ]
    },
    {
     "name": "stderr",
     "output_type": "stream",
     "text": [
      "100%|██████████| 100/100 [03:01<00:00,  1.81s/it]\n"
     ]
    },
    {
     "name": "stdout",
     "output_type": "stream",
     "text": [
      "[0.0, 0.0] 0.1269561692040325 0.05863766664803352 5.0153833933072605\n"
     ]
    },
    {
     "name": "stderr",
     "output_type": "stream",
     "text": [
      "/opt/conda/lib/python3.7/site-packages/skopt/optimizer/optimizer.py:449: UserWarning: The objective has been evaluated at this point before.\n",
      "  warnings.warn(\"The objective has been evaluated \"\n",
      "  0%|          | 0/100 [00:00<?, ?it/s]"
     ]
    },
    {
     "name": "stdout",
     "output_type": "stream",
     "text": [
      "Iteration No: 57 ended. Search finished for the next optimal point.\n",
      "Time taken: 182.3106\n",
      "Function value obtained: 5.0154\n",
      "Current minimum: 4.6039\n",
      "Iteration No: 58 started. Searching for the next optimal point.\n"
     ]
    },
    {
     "name": "stderr",
     "output_type": "stream",
     "text": [
      "100%|██████████| 100/100 [02:56<00:00,  1.77s/it]\n"
     ]
    },
    {
     "name": "stdout",
     "output_type": "stream",
     "text": [
      "[0.0, 0.0] 0.16235970540730335 0.05863766664803352 5.190474972034964\n"
     ]
    },
    {
     "name": "stderr",
     "output_type": "stream",
     "text": [
      "/opt/conda/lib/python3.7/site-packages/skopt/optimizer/optimizer.py:449: UserWarning: The objective has been evaluated at this point before.\n",
      "  warnings.warn(\"The objective has been evaluated \"\n",
      "  0%|          | 0/100 [00:00<?, ?it/s]"
     ]
    },
    {
     "name": "stdout",
     "output_type": "stream",
     "text": [
      "Iteration No: 58 ended. Search finished for the next optimal point.\n",
      "Time taken: 177.8217\n",
      "Function value obtained: 5.1905\n",
      "Current minimum: 4.6039\n",
      "Iteration No: 59 started. Searching for the next optimal point.\n"
     ]
    },
    {
     "name": "stderr",
     "output_type": "stream",
     "text": [
      "100%|██████████| 100/100 [03:00<00:00,  1.81s/it]\n"
     ]
    },
    {
     "name": "stdout",
     "output_type": "stream",
     "text": [
      "[0.0, 0.0] 0.16787498070590767 0.05863766664803352 5.346506438822768\n"
     ]
    },
    {
     "name": "stderr",
     "output_type": "stream",
     "text": [
      "/opt/conda/lib/python3.7/site-packages/skopt/optimizer/optimizer.py:449: UserWarning: The objective has been evaluated at this point before.\n",
      "  warnings.warn(\"The objective has been evaluated \"\n",
      "  0%|          | 0/100 [00:00<?, ?it/s]"
     ]
    },
    {
     "name": "stdout",
     "output_type": "stream",
     "text": [
      "Iteration No: 59 ended. Search finished for the next optimal point.\n",
      "Time taken: 181.5182\n",
      "Function value obtained: 5.3465\n",
      "Current minimum: 4.6039\n",
      "Iteration No: 60 started. Searching for the next optimal point.\n"
     ]
    },
    {
     "name": "stderr",
     "output_type": "stream",
     "text": [
      "100%|██████████| 100/100 [02:52<00:00,  1.72s/it]\n"
     ]
    },
    {
     "name": "stdout",
     "output_type": "stream",
     "text": [
      "[0.0, 0.0] 0.23049631827141093 0.05863766664803352 5.91829665370852\n"
     ]
    },
    {
     "name": "stderr",
     "output_type": "stream",
     "text": [
      "  0%|          | 0/100 [00:00<?, ?it/s]"
     ]
    },
    {
     "name": "stdout",
     "output_type": "stream",
     "text": [
      "Iteration No: 60 ended. Search finished for the next optimal point.\n",
      "Time taken: 173.4602\n",
      "Function value obtained: 5.9183\n",
      "Current minimum: 4.6039\n",
      "Iteration No: 61 started. Searching for the next optimal point.\n"
     ]
    },
    {
     "name": "stderr",
     "output_type": "stream",
     "text": [
      "100%|██████████| 100/100 [02:57<00:00,  1.78s/it]\n"
     ]
    },
    {
     "name": "stdout",
     "output_type": "stream",
     "text": [
      "[0.0, 0.1431597365948247] 0.1758295084812663 0.05863766664803352 4.122574444853478\n"
     ]
    },
    {
     "name": "stderr",
     "output_type": "stream",
     "text": [
      "  0%|          | 0/100 [00:00<?, ?it/s]"
     ]
    },
    {
     "name": "stdout",
     "output_type": "stream",
     "text": [
      "Iteration No: 61 ended. Search finished for the next optimal point.\n",
      "Time taken: 178.5690\n",
      "Function value obtained: 4.1226\n",
      "Current minimum: 4.1226\n",
      "Iteration No: 62 started. Searching for the next optimal point.\n"
     ]
    },
    {
     "name": "stderr",
     "output_type": "stream",
     "text": [
      "100%|██████████| 100/100 [02:54<00:00,  1.74s/it]\n"
     ]
    },
    {
     "name": "stdout",
     "output_type": "stream",
     "text": [
      "[0.0, 0.15832517762514056] 0.2635885807554938 0.05863766664803352 5.358563448587462\n"
     ]
    },
    {
     "name": "stderr",
     "output_type": "stream",
     "text": [
      "  0%|          | 0/100 [00:00<?, ?it/s]"
     ]
    },
    {
     "name": "stdout",
     "output_type": "stream",
     "text": [
      "Iteration No: 62 ended. Search finished for the next optimal point.\n",
      "Time taken: 175.0287\n",
      "Function value obtained: 5.3586\n",
      "Current minimum: 4.1226\n",
      "Iteration No: 63 started. Searching for the next optimal point.\n"
     ]
    },
    {
     "name": "stderr",
     "output_type": "stream",
     "text": [
      "100%|██████████| 100/100 [02:59<00:00,  1.79s/it]\n"
     ]
    },
    {
     "name": "stdout",
     "output_type": "stream",
     "text": [
      "[0.0, 0.15306316792062521] 0.29426949368116917 0.05863766664803352 5.605719948110825\n"
     ]
    },
    {
     "name": "stderr",
     "output_type": "stream",
     "text": [
      "  0%|          | 0/100 [00:00<?, ?it/s]"
     ]
    },
    {
     "name": "stdout",
     "output_type": "stream",
     "text": [
      "Iteration No: 63 ended. Search finished for the next optimal point.\n",
      "Time taken: 180.3565\n",
      "Function value obtained: 5.6057\n",
      "Current minimum: 4.1226\n",
      "Iteration No: 64 started. Searching for the next optimal point.\n"
     ]
    },
    {
     "name": "stderr",
     "output_type": "stream",
     "text": [
      "100%|██████████| 100/100 [03:00<00:00,  1.81s/it]\n"
     ]
    },
    {
     "name": "stdout",
     "output_type": "stream",
     "text": [
      "[0.0, 0.14322899068115255] 0.22146191418227842 0.05863766664803352 5.2855216739345\n"
     ]
    },
    {
     "name": "stderr",
     "output_type": "stream",
     "text": [
      "/opt/conda/lib/python3.7/site-packages/skopt/optimizer/optimizer.py:449: UserWarning: The objective has been evaluated at this point before.\n",
      "  warnings.warn(\"The objective has been evaluated \"\n",
      "  0%|          | 0/100 [00:00<?, ?it/s]"
     ]
    },
    {
     "name": "stdout",
     "output_type": "stream",
     "text": [
      "Iteration No: 64 ended. Search finished for the next optimal point.\n",
      "Time taken: 181.6548\n",
      "Function value obtained: 5.2855\n",
      "Current minimum: 4.1226\n",
      "Iteration No: 65 started. Searching for the next optimal point.\n"
     ]
    },
    {
     "name": "stderr",
     "output_type": "stream",
     "text": [
      "100%|██████████| 100/100 [02:50<00:00,  1.71s/it]\n"
     ]
    },
    {
     "name": "stdout",
     "output_type": "stream",
     "text": [
      "[0.0, 0.0] 0.20758872894568847 0.05863766664803352 5.594358881328691\n"
     ]
    },
    {
     "name": "stderr",
     "output_type": "stream",
     "text": [
      "  0%|          | 0/100 [00:00<?, ?it/s]"
     ]
    },
    {
     "name": "stdout",
     "output_type": "stream",
     "text": [
      "Iteration No: 65 ended. Search finished for the next optimal point.\n",
      "Time taken: 171.7310\n",
      "Function value obtained: 5.5944\n",
      "Current minimum: 4.1226\n",
      "Iteration No: 66 started. Searching for the next optimal point.\n"
     ]
    },
    {
     "name": "stderr",
     "output_type": "stream",
     "text": [
      "100%|██████████| 100/100 [02:59<00:00,  1.80s/it]\n"
     ]
    },
    {
     "name": "stdout",
     "output_type": "stream",
     "text": [
      "[0.0, 0.149743323031554] 0.25715839479796043 0.05863766664803352 4.8727966474079345\n"
     ]
    },
    {
     "name": "stderr",
     "output_type": "stream",
     "text": [
      "  0%|          | 0/100 [00:00<?, ?it/s]"
     ]
    },
    {
     "name": "stdout",
     "output_type": "stream",
     "text": [
      "Iteration No: 66 ended. Search finished for the next optimal point.\n",
      "Time taken: 180.8838\n",
      "Function value obtained: 4.8728\n",
      "Current minimum: 4.1226\n",
      "Iteration No: 67 started. Searching for the next optimal point.\n"
     ]
    },
    {
     "name": "stderr",
     "output_type": "stream",
     "text": [
      "100%|██████████| 100/100 [03:00<00:00,  1.81s/it]\n"
     ]
    },
    {
     "name": "stdout",
     "output_type": "stream",
     "text": [
      "[0.0, 0.15294488056135339] 0.2751199062966496 0.05863766664803352 5.546155579945521\n"
     ]
    },
    {
     "name": "stderr",
     "output_type": "stream",
     "text": [
      "  0%|          | 0/100 [00:00<?, ?it/s]"
     ]
    },
    {
     "name": "stdout",
     "output_type": "stream",
     "text": [
      "Iteration No: 67 ended. Search finished for the next optimal point.\n",
      "Time taken: 181.6532\n",
      "Function value obtained: 5.5462\n",
      "Current minimum: 4.1226\n",
      "Iteration No: 68 started. Searching for the next optimal point.\n"
     ]
    },
    {
     "name": "stderr",
     "output_type": "stream",
     "text": [
      "100%|██████████| 100/100 [02:59<00:00,  1.80s/it]\n"
     ]
    },
    {
     "name": "stdout",
     "output_type": "stream",
     "text": [
      "[0.0, 0.14391150376708203] 0.20457913569272462 0.05863766664803352 5.146690705018547\n"
     ]
    },
    {
     "name": "stderr",
     "output_type": "stream",
     "text": [
      "/opt/conda/lib/python3.7/site-packages/skopt/optimizer/optimizer.py:449: UserWarning: The objective has been evaluated at this point before.\n",
      "  warnings.warn(\"The objective has been evaluated \"\n",
      "  0%|          | 0/100 [00:00<?, ?it/s]"
     ]
    },
    {
     "name": "stdout",
     "output_type": "stream",
     "text": [
      "Iteration No: 68 ended. Search finished for the next optimal point.\n",
      "Time taken: 180.6099\n",
      "Function value obtained: 5.1467\n",
      "Current minimum: 4.1226\n",
      "Iteration No: 69 started. Searching for the next optimal point.\n"
     ]
    },
    {
     "name": "stderr",
     "output_type": "stream",
     "text": [
      "100%|██████████| 100/100 [02:54<00:00,  1.75s/it]\n"
     ]
    },
    {
     "name": "stdout",
     "output_type": "stream",
     "text": [
      "[0.0, 0.0] 0.16579596659581497 0.05863766664803352 5.524774662118696\n"
     ]
    },
    {
     "name": "stderr",
     "output_type": "stream",
     "text": [
      "  0%|          | 0/100 [00:00<?, ?it/s]"
     ]
    },
    {
     "name": "stdout",
     "output_type": "stream",
     "text": [
      "Iteration No: 69 ended. Search finished for the next optimal point.\n",
      "Time taken: 175.9369\n",
      "Function value obtained: 5.5248\n",
      "Current minimum: 4.1226\n",
      "Iteration No: 70 started. Searching for the next optimal point.\n"
     ]
    },
    {
     "name": "stderr",
     "output_type": "stream",
     "text": [
      "100%|██████████| 100/100 [03:01<00:00,  1.81s/it]\n"
     ]
    },
    {
     "name": "stdout",
     "output_type": "stream",
     "text": [
      "[0.0, 0.15175190093303997] 0.2549745236543723 0.05863766664803352 5.525041527354356\n"
     ]
    },
    {
     "name": "stderr",
     "output_type": "stream",
     "text": [
      "/opt/conda/lib/python3.7/site-packages/skopt/optimizer/optimizer.py:449: UserWarning: The objective has been evaluated at this point before.\n",
      "  warnings.warn(\"The objective has been evaluated \"\n",
      "  0%|          | 0/100 [00:00<?, ?it/s]"
     ]
    },
    {
     "name": "stdout",
     "output_type": "stream",
     "text": [
      "Iteration No: 70 ended. Search finished for the next optimal point.\n",
      "Time taken: 182.4475\n",
      "Function value obtained: 5.5250\n",
      "Current minimum: 4.1226\n",
      "Iteration No: 71 started. Searching for the next optimal point.\n"
     ]
    },
    {
     "name": "stderr",
     "output_type": "stream",
     "text": [
      "100%|██████████| 100/100 [02:56<00:00,  1.77s/it]\n"
     ]
    },
    {
     "name": "stdout",
     "output_type": "stream",
     "text": [
      "[0.0, 0.0] 0.14905410870499336 0.05863766664803352 5.146390900627443\n"
     ]
    },
    {
     "name": "stderr",
     "output_type": "stream",
     "text": [
      "  0%|          | 0/100 [00:00<?, ?it/s]"
     ]
    },
    {
     "name": "stdout",
     "output_type": "stream",
     "text": [
      "Iteration No: 71 ended. Search finished for the next optimal point.\n",
      "Time taken: 177.8552\n",
      "Function value obtained: 5.1464\n",
      "Current minimum: 4.1226\n",
      "Iteration No: 72 started. Searching for the next optimal point.\n"
     ]
    },
    {
     "name": "stderr",
     "output_type": "stream",
     "text": [
      "100%|██████████| 100/100 [03:01<00:00,  1.82s/it]\n"
     ]
    },
    {
     "name": "stdout",
     "output_type": "stream",
     "text": [
      "[0.0, 0.1415003134127658] 0.2283609642441136 0.05863766664803352 4.834024906022636\n"
     ]
    },
    {
     "name": "stderr",
     "output_type": "stream",
     "text": [
      "  0%|          | 0/100 [00:00<?, ?it/s]"
     ]
    },
    {
     "name": "stdout",
     "output_type": "stream",
     "text": [
      "Iteration No: 72 ended. Search finished for the next optimal point.\n",
      "Time taken: 182.8228\n",
      "Function value obtained: 4.8340\n",
      "Current minimum: 4.1226\n",
      "Iteration No: 73 started. Searching for the next optimal point.\n"
     ]
    },
    {
     "name": "stderr",
     "output_type": "stream",
     "text": [
      "100%|██████████| 100/100 [03:03<00:00,  1.83s/it]\n"
     ]
    },
    {
     "name": "stdout",
     "output_type": "stream",
     "text": [
      "[0.0, 0.14591072407596373] 0.23855084919707426 0.05863766664803352 5.3630146365138\n"
     ]
    },
    {
     "name": "stderr",
     "output_type": "stream",
     "text": [
      "  0%|          | 0/100 [00:00<?, ?it/s]"
     ]
    },
    {
     "name": "stdout",
     "output_type": "stream",
     "text": [
      "Iteration No: 73 ended. Search finished for the next optimal point.\n",
      "Time taken: 184.1697\n",
      "Function value obtained: 5.3630\n",
      "Current minimum: 4.1226\n",
      "Iteration No: 74 started. Searching for the next optimal point.\n"
     ]
    },
    {
     "name": "stderr",
     "output_type": "stream",
     "text": [
      "100%|██████████| 100/100 [02:46<00:00,  1.66s/it]\n"
     ]
    },
    {
     "name": "stdout",
     "output_type": "stream",
     "text": [
      "[0.0, 0.1404878594835196] 0.30408012220293884 0.05863766664803352 6.123245435807212\n"
     ]
    },
    {
     "name": "stderr",
     "output_type": "stream",
     "text": [
      "/opt/conda/lib/python3.7/site-packages/skopt/optimizer/optimizer.py:449: UserWarning: The objective has been evaluated at this point before.\n",
      "  warnings.warn(\"The objective has been evaluated \"\n",
      "  0%|          | 0/100 [00:00<?, ?it/s]"
     ]
    },
    {
     "name": "stdout",
     "output_type": "stream",
     "text": [
      "Iteration No: 74 ended. Search finished for the next optimal point.\n",
      "Time taken: 167.5587\n",
      "Function value obtained: 6.1232\n",
      "Current minimum: 4.1226\n",
      "Iteration No: 75 started. Searching for the next optimal point.\n"
     ]
    },
    {
     "name": "stderr",
     "output_type": "stream",
     "text": [
      "100%|██████████| 100/100 [03:03<00:00,  1.83s/it]\n"
     ]
    },
    {
     "name": "stdout",
     "output_type": "stream",
     "text": [
      "[0.0, 0.0] 0.1311304945789951 0.05863766664803352 4.843630679751498\n"
     ]
    },
    {
     "name": "stderr",
     "output_type": "stream",
     "text": [
      "/opt/conda/lib/python3.7/site-packages/skopt/optimizer/optimizer.py:449: UserWarning: The objective has been evaluated at this point before.\n",
      "  warnings.warn(\"The objective has been evaluated \"\n",
      "  0%|          | 0/100 [00:00<?, ?it/s]"
     ]
    },
    {
     "name": "stdout",
     "output_type": "stream",
     "text": [
      "Iteration No: 75 ended. Search finished for the next optimal point.\n",
      "Time taken: 184.2339\n",
      "Function value obtained: 4.8436\n",
      "Current minimum: 4.1226\n",
      "Iteration No: 76 started. Searching for the next optimal point.\n"
     ]
    },
    {
     "name": "stderr",
     "output_type": "stream",
     "text": [
      "100%|██████████| 100/100 [02:56<00:00,  1.77s/it]\n"
     ]
    },
    {
     "name": "stdout",
     "output_type": "stream",
     "text": [
      "[0.0, 0.0] 0.18641360514157654 0.05863766664803352 5.156845397812162\n"
     ]
    },
    {
     "name": "stderr",
     "output_type": "stream",
     "text": [
      "/opt/conda/lib/python3.7/site-packages/skopt/optimizer/optimizer.py:449: UserWarning: The objective has been evaluated at this point before.\n",
      "  warnings.warn(\"The objective has been evaluated \"\n",
      "  0%|          | 0/100 [00:00<?, ?it/s]"
     ]
    },
    {
     "name": "stdout",
     "output_type": "stream",
     "text": [
      "Iteration No: 76 ended. Search finished for the next optimal point.\n",
      "Time taken: 177.9290\n",
      "Function value obtained: 5.1568\n",
      "Current minimum: 4.1226\n",
      "Iteration No: 77 started. Searching for the next optimal point.\n"
     ]
    },
    {
     "name": "stderr",
     "output_type": "stream",
     "text": [
      "100%|██████████| 100/100 [03:07<00:00,  1.87s/it]\n"
     ]
    },
    {
     "name": "stdout",
     "output_type": "stream",
     "text": [
      "[0.0, 0.0] 0.10799441726653447 0.05863766664803352 4.727025043236526\n"
     ]
    },
    {
     "name": "stderr",
     "output_type": "stream",
     "text": [
      "100%|██████████| 100/100 [02:53<00:00,  1.73s/it]\n"
     ]
    },
    {
     "name": "stdout",
     "output_type": "stream",
     "text": [
      "[0.0, 0.0] 0.1863827776317961 0.05863766664803352 5.292509811885576\n"
     ]
    },
    {
     "name": "stderr",
     "output_type": "stream",
     "text": [
      "/opt/conda/lib/python3.7/site-packages/skopt/optimizer/optimizer.py:449: UserWarning: The objective has been evaluated at this point before.\n",
      "  warnings.warn(\"The objective has been evaluated \"\n",
      "  0%|          | 0/100 [00:00<?, ?it/s]"
     ]
    },
    {
     "name": "stdout",
     "output_type": "stream",
     "text": [
      "Iteration No: 78 ended. Search finished for the next optimal point.\n",
      "Time taken: 174.6556\n",
      "Function value obtained: 5.2925\n",
      "Current minimum: 4.1226\n",
      "Iteration No: 79 started. Searching for the next optimal point.\n"
     ]
    },
    {
     "name": "stderr",
     "output_type": "stream",
     "text": [
      "100%|██████████| 100/100 [02:49<00:00,  1.70s/it]\n"
     ]
    },
    {
     "name": "stdout",
     "output_type": "stream",
     "text": [
      "[0.0, 0.0] 0.22664489746288385 0.05863766664803352 5.912375262856998\n"
     ]
    },
    {
     "name": "stderr",
     "output_type": "stream",
     "text": [
      "/opt/conda/lib/python3.7/site-packages/skopt/optimizer/optimizer.py:449: UserWarning: The objective has been evaluated at this point before.\n",
      "  warnings.warn(\"The objective has been evaluated \"\n",
      "  0%|          | 0/100 [00:00<?, ?it/s]"
     ]
    },
    {
     "name": "stdout",
     "output_type": "stream",
     "text": [
      "Iteration No: 79 ended. Search finished for the next optimal point.\n",
      "Time taken: 171.1588\n",
      "Function value obtained: 5.9124\n",
      "Current minimum: 4.1226\n",
      "Iteration No: 80 started. Searching for the next optimal point.\n"
     ]
    },
    {
     "name": "stderr",
     "output_type": "stream",
     "text": [
      "100%|██████████| 100/100 [02:54<00:00,  1.74s/it]\n"
     ]
    },
    {
     "name": "stdout",
     "output_type": "stream",
     "text": [
      "[0.0, 0.0] 0.21842622427547917 0.05863766664803352 5.983182888398196\n"
     ]
    },
    {
     "name": "stderr",
     "output_type": "stream",
     "text": [
      "  0%|          | 0/100 [00:00<?, ?it/s]"
     ]
    },
    {
     "name": "stdout",
     "output_type": "stream",
     "text": [
      "Iteration No: 80 ended. Search finished for the next optimal point.\n",
      "Time taken: 175.6314\n",
      "Function value obtained: 5.9832\n",
      "Current minimum: 4.1226\n",
      "Iteration No: 81 started. Searching for the next optimal point.\n"
     ]
    },
    {
     "name": "stderr",
     "output_type": "stream",
     "text": [
      "100%|██████████| 100/100 [02:51<00:00,  1.72s/it]\n"
     ]
    },
    {
     "name": "stdout",
     "output_type": "stream",
     "text": [
      "[0.0, 0.15086536969806175] 0.2809215964314792 0.05863766664803352 5.66721332411827\n"
     ]
    },
    {
     "name": "stderr",
     "output_type": "stream",
     "text": [
      "/opt/conda/lib/python3.7/site-packages/skopt/optimizer/optimizer.py:449: UserWarning: The objective has been evaluated at this point before.\n",
      "  warnings.warn(\"The objective has been evaluated \"\n",
      "  0%|          | 0/100 [00:00<?, ?it/s]"
     ]
    },
    {
     "name": "stdout",
     "output_type": "stream",
     "text": [
      "Iteration No: 81 ended. Search finished for the next optimal point.\n",
      "Time taken: 172.8984\n",
      "Function value obtained: 5.6672\n",
      "Current minimum: 4.1226\n",
      "Iteration No: 82 started. Searching for the next optimal point.\n"
     ]
    },
    {
     "name": "stderr",
     "output_type": "stream",
     "text": [
      "100%|██████████| 100/100 [03:08<00:00,  1.88s/it]\n"
     ]
    },
    {
     "name": "stdout",
     "output_type": "stream",
     "text": [
      "[0.0, 0.0] 0.156543348187002 0.05863766664803352 4.91317148501247\n"
     ]
    },
    {
     "name": "stderr",
     "output_type": "stream",
     "text": [
      "/opt/conda/lib/python3.7/site-packages/skopt/optimizer/optimizer.py:449: UserWarning: The objective has been evaluated at this point before.\n",
      "  warnings.warn(\"The objective has been evaluated \"\n",
      "  0%|          | 0/100 [00:00<?, ?it/s]"
     ]
    },
    {
     "name": "stdout",
     "output_type": "stream",
     "text": [
      "Iteration No: 82 ended. Search finished for the next optimal point.\n",
      "Time taken: 189.3615\n",
      "Function value obtained: 4.9132\n",
      "Current minimum: 4.1226\n",
      "Iteration No: 83 started. Searching for the next optimal point.\n"
     ]
    },
    {
     "name": "stderr",
     "output_type": "stream",
     "text": [
      "100%|██████████| 100/100 [03:08<00:00,  1.88s/it]\n"
     ]
    },
    {
     "name": "stdout",
     "output_type": "stream",
     "text": [
      "[0.0, 0.0] 0.12391555529418002 0.05863766664803352 4.970712382342312\n"
     ]
    },
    {
     "name": "stderr",
     "output_type": "stream",
     "text": [
      "/opt/conda/lib/python3.7/site-packages/skopt/optimizer/optimizer.py:449: UserWarning: The objective has been evaluated at this point before.\n",
      "  warnings.warn(\"The objective has been evaluated \"\n",
      "  0%|          | 0/100 [00:00<?, ?it/s]"
     ]
    },
    {
     "name": "stdout",
     "output_type": "stream",
     "text": [
      "Iteration No: 83 ended. Search finished for the next optimal point.\n",
      "Time taken: 189.3633\n",
      "Function value obtained: 4.9707\n",
      "Current minimum: 4.1226\n",
      "Iteration No: 84 started. Searching for the next optimal point.\n"
     ]
    },
    {
     "name": "stderr",
     "output_type": "stream",
     "text": [
      "100%|██████████| 100/100 [03:02<00:00,  1.82s/it]\n"
     ]
    },
    {
     "name": "stdout",
     "output_type": "stream",
     "text": [
      "[0.0, 0.0] 0.10613951479610043 0.05863766664803352 4.414367600718059\n"
     ]
    },
    {
     "name": "stderr",
     "output_type": "stream",
     "text": [
      "/opt/conda/lib/python3.7/site-packages/skopt/optimizer/optimizer.py:449: UserWarning: The objective has been evaluated at this point before.\n",
      "  warnings.warn(\"The objective has been evaluated \"\n",
      "  0%|          | 0/100 [00:00<?, ?it/s]"
     ]
    },
    {
     "name": "stdout",
     "output_type": "stream",
     "text": [
      "Iteration No: 84 ended. Search finished for the next optimal point.\n",
      "Time taken: 183.5483\n",
      "Function value obtained: 4.4144\n",
      "Current minimum: 4.1226\n",
      "Iteration No: 85 started. Searching for the next optimal point.\n"
     ]
    },
    {
     "name": "stderr",
     "output_type": "stream",
     "text": [
      "100%|██████████| 100/100 [03:00<00:00,  1.80s/it]\n"
     ]
    },
    {
     "name": "stdout",
     "output_type": "stream",
     "text": [
      "[0.0, 0.0] 0.18731193634725382 0.05863766664803352 5.537411238475405\n"
     ]
    },
    {
     "name": "stderr",
     "output_type": "stream",
     "text": [
      "/opt/conda/lib/python3.7/site-packages/skopt/optimizer/optimizer.py:449: UserWarning: The objective has been evaluated at this point before.\n",
      "  warnings.warn(\"The objective has been evaluated \"\n",
      "  0%|          | 0/100 [00:00<?, ?it/s]"
     ]
    },
    {
     "name": "stdout",
     "output_type": "stream",
     "text": [
      "Iteration No: 85 ended. Search finished for the next optimal point.\n",
      "Time taken: 181.5107\n",
      "Function value obtained: 5.5374\n",
      "Current minimum: 4.1226\n",
      "Iteration No: 86 started. Searching for the next optimal point.\n"
     ]
    },
    {
     "name": "stderr",
     "output_type": "stream",
     "text": [
      "100%|██████████| 100/100 [02:52<00:00,  1.73s/it]\n"
     ]
    },
    {
     "name": "stdout",
     "output_type": "stream",
     "text": [
      "[0.0, 0.0] 0.21532495211496258 0.05863766664803352 5.7895596826448505\n"
     ]
    },
    {
     "name": "stderr",
     "output_type": "stream",
     "text": [
      "/opt/conda/lib/python3.7/site-packages/skopt/optimizer/optimizer.py:449: UserWarning: The objective has been evaluated at this point before.\n",
      "  warnings.warn(\"The objective has been evaluated \"\n",
      "  0%|          | 0/100 [00:00<?, ?it/s]"
     ]
    },
    {
     "name": "stdout",
     "output_type": "stream",
     "text": [
      "Iteration No: 86 ended. Search finished for the next optimal point.\n",
      "Time taken: 174.0078\n",
      "Function value obtained: 5.7896\n",
      "Current minimum: 4.1226\n",
      "Iteration No: 87 started. Searching for the next optimal point.\n"
     ]
    },
    {
     "name": "stderr",
     "output_type": "stream",
     "text": [
      "100%|██████████| 100/100 [02:53<00:00,  1.74s/it]\n"
     ]
    },
    {
     "name": "stdout",
     "output_type": "stream",
     "text": [
      "[0.0, 0.0] 0.17120032021817688 0.05863766664803352 5.582197593236726\n"
     ]
    },
    {
     "name": "stderr",
     "output_type": "stream",
     "text": [
      "/opt/conda/lib/python3.7/site-packages/skopt/optimizer/optimizer.py:449: UserWarning: The objective has been evaluated at this point before.\n",
      "  warnings.warn(\"The objective has been evaluated \"\n",
      "  0%|          | 0/100 [00:00<?, ?it/s]"
     ]
    },
    {
     "name": "stdout",
     "output_type": "stream",
     "text": [
      "Iteration No: 87 ended. Search finished for the next optimal point.\n",
      "Time taken: 174.8982\n",
      "Function value obtained: 5.5822\n",
      "Current minimum: 4.1226\n",
      "Iteration No: 88 started. Searching for the next optimal point.\n"
     ]
    },
    {
     "name": "stderr",
     "output_type": "stream",
     "text": [
      "100%|██████████| 100/100 [02:56<00:00,  1.76s/it]\n"
     ]
    },
    {
     "name": "stdout",
     "output_type": "stream",
     "text": [
      "[0.0, 0.0] 0.1681049836734962 0.05863766664803352 4.993198406530187\n"
     ]
    },
    {
     "name": "stderr",
     "output_type": "stream",
     "text": [
      "/opt/conda/lib/python3.7/site-packages/skopt/optimizer/optimizer.py:449: UserWarning: The objective has been evaluated at this point before.\n",
      "  warnings.warn(\"The objective has been evaluated \"\n",
      "  0%|          | 0/100 [00:00<?, ?it/s]"
     ]
    },
    {
     "name": "stdout",
     "output_type": "stream",
     "text": [
      "Iteration No: 88 ended. Search finished for the next optimal point.\n",
      "Time taken: 177.5432\n",
      "Function value obtained: 4.9932\n",
      "Current minimum: 4.1226\n",
      "Iteration No: 89 started. Searching for the next optimal point.\n"
     ]
    },
    {
     "name": "stderr",
     "output_type": "stream",
     "text": [
      "100%|██████████| 100/100 [03:04<00:00,  1.85s/it]\n"
     ]
    },
    {
     "name": "stdout",
     "output_type": "stream",
     "text": [
      "[0.0, 0.0] 0.12978496785355775 0.05863766664803352 5.089275948817463\n"
     ]
    },
    {
     "name": "stderr",
     "output_type": "stream",
     "text": [
      "/opt/conda/lib/python3.7/site-packages/skopt/optimizer/optimizer.py:449: UserWarning: The objective has been evaluated at this point before.\n",
      "  warnings.warn(\"The objective has been evaluated \"\n",
      "  0%|          | 0/100 [00:00<?, ?it/s]"
     ]
    },
    {
     "name": "stdout",
     "output_type": "stream",
     "text": [
      "Iteration No: 89 ended. Search finished for the next optimal point.\n",
      "Time taken: 186.1514\n",
      "Function value obtained: 5.0893\n",
      "Current minimum: 4.1226\n",
      "Iteration No: 90 started. Searching for the next optimal point.\n"
     ]
    },
    {
     "name": "stderr",
     "output_type": "stream",
     "text": [
      "100%|██████████| 100/100 [02:53<00:00,  1.73s/it]\n"
     ]
    },
    {
     "name": "stdout",
     "output_type": "stream",
     "text": [
      "[0.0, 0.0] 0.17933310526140345 0.05863766664803352 5.460699459292502\n"
     ]
    },
    {
     "name": "stderr",
     "output_type": "stream",
     "text": [
      "/opt/conda/lib/python3.7/site-packages/skopt/optimizer/optimizer.py:449: UserWarning: The objective has been evaluated at this point before.\n",
      "  warnings.warn(\"The objective has been evaluated \"\n",
      "  0%|          | 0/100 [00:00<?, ?it/s]"
     ]
    },
    {
     "name": "stdout",
     "output_type": "stream",
     "text": [
      "Iteration No: 90 ended. Search finished for the next optimal point.\n",
      "Time taken: 174.5062\n",
      "Function value obtained: 5.4607\n",
      "Current minimum: 4.1226\n",
      "Iteration No: 91 started. Searching for the next optimal point.\n"
     ]
    },
    {
     "name": "stderr",
     "output_type": "stream",
     "text": [
      "100%|██████████| 100/100 [02:53<00:00,  1.74s/it]\n"
     ]
    },
    {
     "name": "stdout",
     "output_type": "stream",
     "text": [
      "[0.0, 0.0] 0.16920326539863798 0.05863766664803352 5.213331550057944\n"
     ]
    },
    {
     "name": "stderr",
     "output_type": "stream",
     "text": [
      "/opt/conda/lib/python3.7/site-packages/skopt/optimizer/optimizer.py:449: UserWarning: The objective has been evaluated at this point before.\n",
      "  warnings.warn(\"The objective has been evaluated \"\n",
      "  0%|          | 0/100 [00:00<?, ?it/s]"
     ]
    },
    {
     "name": "stdout",
     "output_type": "stream",
     "text": [
      "Iteration No: 91 ended. Search finished for the next optimal point.\n",
      "Time taken: 175.0819\n",
      "Function value obtained: 5.2133\n",
      "Current minimum: 4.1226\n",
      "Iteration No: 92 started. Searching for the next optimal point.\n"
     ]
    },
    {
     "name": "stderr",
     "output_type": "stream",
     "text": [
      "100%|██████████| 100/100 [03:02<00:00,  1.83s/it]\n"
     ]
    },
    {
     "name": "stdout",
     "output_type": "stream",
     "text": [
      "[0.0, 0.0] 0.15979152990530504 0.05863766664803352 5.135706871093934\n"
     ]
    },
    {
     "name": "stderr",
     "output_type": "stream",
     "text": [
      "  0%|          | 0/100 [00:00<?, ?it/s]"
     ]
    },
    {
     "name": "stdout",
     "output_type": "stream",
     "text": [
      "Iteration No: 92 ended. Search finished for the next optimal point.\n",
      "Time taken: 184.4012\n",
      "Function value obtained: 5.1357\n",
      "Current minimum: 4.1226\n",
      "Iteration No: 93 started. Searching for the next optimal point.\n"
     ]
    },
    {
     "name": "stderr",
     "output_type": "stream",
     "text": [
      "100%|██████████| 100/100 [03:03<00:00,  1.83s/it]\n"
     ]
    },
    {
     "name": "stdout",
     "output_type": "stream",
     "text": [
      "[0.08099592712896482, 0.0] 0.1819082566449307 0.05863766664803352 4.577156930618449\n"
     ]
    },
    {
     "name": "stderr",
     "output_type": "stream",
     "text": [
      "  0%|          | 0/100 [00:00<?, ?it/s]"
     ]
    },
    {
     "name": "stdout",
     "output_type": "stream",
     "text": [
      "Iteration No: 93 ended. Search finished for the next optimal point.\n",
      "Time taken: 184.7159\n",
      "Function value obtained: 4.5772\n",
      "Current minimum: 4.1226\n",
      "Iteration No: 94 started. Searching for the next optimal point.\n"
     ]
    },
    {
     "name": "stderr",
     "output_type": "stream",
     "text": [
      "100%|██████████| 100/100 [02:53<00:00,  1.74s/it]\n"
     ]
    },
    {
     "name": "stdout",
     "output_type": "stream",
     "text": [
      "[0.10451762056763286, 0.0] 0.25229000121518347 0.05863766664803352 5.042818739898527\n"
     ]
    },
    {
     "name": "stderr",
     "output_type": "stream",
     "text": [
      "  0%|          | 0/100 [00:00<?, ?it/s]"
     ]
    },
    {
     "name": "stdout",
     "output_type": "stream",
     "text": [
      "Iteration No: 94 ended. Search finished for the next optimal point.\n",
      "Time taken: 175.3695\n",
      "Function value obtained: 5.0428\n",
      "Current minimum: 4.1226\n",
      "Iteration No: 95 started. Searching for the next optimal point.\n"
     ]
    },
    {
     "name": "stderr",
     "output_type": "stream",
     "text": [
      "100%|██████████| 100/100 [02:51<00:00,  1.71s/it]\n"
     ]
    },
    {
     "name": "stdout",
     "output_type": "stream",
     "text": [
      "[0.10778379856203814, 0.0] 0.3048711636531269 0.05863766664803352 5.944302166373236\n"
     ]
    },
    {
     "name": "stderr",
     "output_type": "stream",
     "text": [
      "/opt/conda/lib/python3.7/site-packages/skopt/optimizer/optimizer.py:449: UserWarning: The objective has been evaluated at this point before.\n",
      "  warnings.warn(\"The objective has been evaluated \"\n",
      "  0%|          | 0/100 [00:00<?, ?it/s]"
     ]
    },
    {
     "name": "stdout",
     "output_type": "stream",
     "text": [
      "Iteration No: 95 ended. Search finished for the next optimal point.\n",
      "Time taken: 172.9512\n",
      "Function value obtained: 5.9443\n",
      "Current minimum: 4.1226\n",
      "Iteration No: 96 started. Searching for the next optimal point.\n"
     ]
    },
    {
     "name": "stderr",
     "output_type": "stream",
     "text": [
      "100%|██████████| 100/100 [03:00<00:00,  1.80s/it]\n"
     ]
    },
    {
     "name": "stdout",
     "output_type": "stream",
     "text": [
      "[0.0, 0.0] 0.18345051481449132 0.05863766664803352 5.673231157061973\n"
     ]
    },
    {
     "name": "stderr",
     "output_type": "stream",
     "text": [
      "  0%|          | 0/100 [00:00<?, ?it/s]"
     ]
    },
    {
     "name": "stdout",
     "output_type": "stream",
     "text": [
      "Iteration No: 96 ended. Search finished for the next optimal point.\n",
      "Time taken: 181.7671\n",
      "Function value obtained: 5.6732\n",
      "Current minimum: 4.1226\n",
      "Iteration No: 97 started. Searching for the next optimal point.\n"
     ]
    },
    {
     "name": "stderr",
     "output_type": "stream",
     "text": [
      "100%|██████████| 100/100 [02:56<00:00,  1.76s/it]\n"
     ]
    },
    {
     "name": "stdout",
     "output_type": "stream",
     "text": [
      "[0.0, 0.12990629035649956] 0.22545017732551056 0.05863766664803352 5.204308271959032\n"
     ]
    },
    {
     "name": "stderr",
     "output_type": "stream",
     "text": [
      "  0%|          | 0/100 [00:00<?, ?it/s]"
     ]
    },
    {
     "name": "stdout",
     "output_type": "stream",
     "text": [
      "Iteration No: 97 ended. Search finished for the next optimal point.\n",
      "Time taken: 177.9025\n",
      "Function value obtained: 5.2043\n",
      "Current minimum: 4.1226\n",
      "Iteration No: 98 started. Searching for the next optimal point.\n"
     ]
    },
    {
     "name": "stderr",
     "output_type": "stream",
     "text": [
      "100%|██████████| 100/100 [03:04<00:00,  1.84s/it]\n"
     ]
    },
    {
     "name": "stdout",
     "output_type": "stream",
     "text": [
      "[0.0, 0.12850732213380497] 0.21730604822799837 0.05863766664803352 5.160267396724817\n"
     ]
    },
    {
     "name": "stderr",
     "output_type": "stream",
     "text": [
      "/opt/conda/lib/python3.7/site-packages/skopt/optimizer/optimizer.py:449: UserWarning: The objective has been evaluated at this point before.\n",
      "  warnings.warn(\"The objective has been evaluated \"\n",
      "  0%|          | 0/100 [00:00<?, ?it/s]"
     ]
    },
    {
     "name": "stdout",
     "output_type": "stream",
     "text": [
      "Iteration No: 98 ended. Search finished for the next optimal point.\n",
      "Time taken: 185.6655\n",
      "Function value obtained: 5.1603\n",
      "Current minimum: 4.1226\n",
      "Iteration No: 99 started. Searching for the next optimal point.\n"
     ]
    },
    {
     "name": "stderr",
     "output_type": "stream",
     "text": [
      "100%|██████████| 100/100 [03:05<00:00,  1.85s/it]\n"
     ]
    },
    {
     "name": "stdout",
     "output_type": "stream",
     "text": [
      "[0.0, 0.0] 0.07619565098599755 0.05863766664803352 4.567191595282954\n"
     ]
    },
    {
     "name": "stderr",
     "output_type": "stream",
     "text": [
      "/opt/conda/lib/python3.7/site-packages/skopt/optimizer/optimizer.py:449: UserWarning: The objective has been evaluated at this point before.\n",
      "  warnings.warn(\"The objective has been evaluated \"\n",
      "  0%|          | 0/100 [00:00<?, ?it/s]"
     ]
    },
    {
     "name": "stdout",
     "output_type": "stream",
     "text": [
      "Iteration No: 99 ended. Search finished for the next optimal point.\n",
      "Time taken: 186.7777\n",
      "Function value obtained: 4.5672\n",
      "Current minimum: 4.1226\n",
      "Iteration No: 100 started. Searching for the next optimal point.\n"
     ]
    },
    {
     "name": "stderr",
     "output_type": "stream",
     "text": [
      "100%|██████████| 100/100 [02:54<00:00,  1.74s/it]\n"
     ]
    },
    {
     "name": "stdout",
     "output_type": "stream",
     "text": [
      "[0.0, 0.0] 0.18399462698138533 0.05863766664803352 5.227564584246132\n",
      "Iteration No: 100 ended. Search finished for the next optimal point.\n",
      "Time taken: 175.7216\n",
      "Function value obtained: 5.2276\n",
      "Current minimum: 4.1226\n"
     ]
    }
   ],
   "source": [
    "param_space = [[0, 1, 'conv factor'], [0, 1, 'pooling factor']]\n",
    "\n",
    "\n",
    "tuning = Bayesian(objective_callable=objective_bayesian, param_space=param_space)\n",
    "result, bayesian_callback = tuning.train(n_calls=100, verbose=True)"
   ]
  },
  {
   "cell_type": "code",
   "execution_count": 24,
   "id": "de539f8f",
   "metadata": {},
   "outputs": [
    {
     "data": {
      "text/plain": [
       "[0.0, 0.1431597365948247]"
      ]
     },
     "execution_count": 24,
     "metadata": {},
     "output_type": "execute_result"
    }
   ],
   "source": [
    "result['x']"
   ]
  },
  {
   "cell_type": "code",
   "execution_count": null,
   "id": "9e0c74d5",
   "metadata": {},
   "outputs": [],
   "source": []
  },
  {
   "cell_type": "code",
   "execution_count": null,
   "id": "a97687c3",
   "metadata": {},
   "outputs": [],
   "source": []
  }
 ],
 "metadata": {
  "accelerator": "GPU",
  "colab": {
   "name": "TrainableVSNonTrainableModel.ipynb",
   "provenance": []
  },
  "environment": {
   "name": "tf2-gpu.2-5.m74",
   "type": "gcloud",
   "uri": "gcr.io/deeplearning-platform-release/tf2-gpu.2-5:m74"
  },
  "kernelspec": {
   "display_name": "Python 3",
   "language": "python",
   "name": "python3"
  },
  "language_info": {
   "codemirror_mode": {
    "name": "ipython",
    "version": 3
   },
   "file_extension": ".py",
   "mimetype": "text/x-python",
   "name": "python",
   "nbconvert_exporter": "python",
   "pygments_lexer": "ipython3",
   "version": "3.7.10"
  }
 },
 "nbformat": 4,
 "nbformat_minor": 5
}
