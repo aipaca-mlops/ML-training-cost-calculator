{
  "cells": [
    {
      "cell_type": "code",
      "execution_count": null,
      "metadata": {
        "colab": {
          "base_uri": "https://localhost:8080/"
        },
        "id": "J8G9pNpwo2cj",
        "outputId": "9001b2e6-2cb7-478d-f1c8-d0434a832a5b"
      },
      "outputs": [
        {
          "output_type": "stream",
          "name": "stdout",
          "text": [
            "Looking in indexes: https://pypi.org/simple, https://us-python.pkg.dev/colab-wheels/public/simple/\n",
            "Collecting xin-util\n",
            "  Downloading xin_util-1.4.47-py3-none-any.whl (421 kB)\n",
            "\u001b[K     |████████████████████████████████| 421 kB 4.9 MB/s \n",
            "\u001b[?25hInstalling collected packages: xin-util\n",
            "Successfully installed xin-util-1.4.47\n"
          ]
        }
      ],
      "source": [
        "!pip install xin-util -U"
      ]
    },
    {
      "cell_type": "code",
      "execution_count": null,
      "metadata": {
        "id": "RnUaLx_Ka9Y3",
        "outputId": "f6546ee9-2c2c-4b37-e0c2-a4690b6b8f9b",
        "colab": {
          "base_uri": "https://localhost:8080/"
        }
      },
      "outputs": [
        {
          "output_type": "stream",
          "name": "stdout",
          "text": [
            "Looking in indexes: https://pypi.org/simple, https://us-python.pkg.dev/colab-wheels/public/simple/\n",
            "Requirement already satisfied: nltk in /usr/local/lib/python3.7/dist-packages (3.2.5)\n",
            "Requirement already satisfied: six in /usr/local/lib/python3.7/dist-packages (from nltk) (1.15.0)\n"
          ]
        }
      ],
      "source": [
        "!pip install nltk"
      ]
    },
    {
      "cell_type": "code",
      "execution_count": null,
      "metadata": {
        "id": "4gTBxVQLhIVD"
      },
      "outputs": [],
      "source": [
        "import tensorflow as tf\n",
        "import numpy as np\n",
        "import time\n",
        "import matplotlib.pyplot as plt\n",
        "import pandas as pd\n",
        "import nltk\n",
        "from tqdm import tqdm\n",
        "from sklearn.preprocessing import MinMaxScaler\n",
        "from tensorflow.python.framework.convert_to_constants import convert_variables_to_constants_v2_as_graph\n",
        "from model_trainingtime_prediction.model_level_utils_cnn import convert_cnn2d_data, ClassicModelTrainData\n",
        "from model_trainingtime_prediction.env_detect import gpu_features"
      ]
    },
    {
      "cell_type": "code",
      "execution_count": null,
      "metadata": {
        "id": "dg3n0WNaa9Y4",
        "outputId": "7b6ff63a-3d56-4d95-fe29-ce294708185a",
        "colab": {
          "base_uri": "https://localhost:8080/"
        }
      },
      "outputs": [
        {
          "output_type": "stream",
          "name": "stdout",
          "text": [
            "{'timestamp': '2022/06/06 23:49:30.698', 'driver_version': '460.32.03', 'count': '1', 'name': 'Tesla T4', 'pcie.link.width.max': '16', 'vbios_version': '90.04.96.00.01', 'memory.total [MiB]': '15109 MiB', 'temperature.gpu': '41'}\n"
          ]
        }
      ],
      "source": [
        "# need to run with GPU\n",
        "# only with default features\n",
        "gpufeature = gpu_features()\n",
        "print(gpufeature.get_features())\n"
      ]
    },
    {
      "cell_type": "code",
      "execution_count": null,
      "metadata": {
        "id": "6piiW-Dya9Y4"
      },
      "outputs": [],
      "source": [
        "optimizers = [\"sgd\", \"rmsprop\", \"adam\", \"adadelta\", \"adagrad\", \"adamax\", \"nadam\", \"ftrl\"]\n",
        "losses = [\"mae\", \"mape\", \"mse\", \"msle\", \"poisson\", \"categorical_crossentropy\"]"
      ]
    },
    {
      "cell_type": "code",
      "execution_count": null,
      "metadata": {
        "id": "Gr75-8nja9Y5"
      },
      "outputs": [],
      "source": [
        "batch_sizes = list(range(1, 71))"
      ]
    },
    {
      "cell_type": "code",
      "execution_count": null,
      "metadata": {
        "id": "giq3x1jqa9Y5"
      },
      "outputs": [],
      "source": [
        "cmtd = ClassicModelTrainData(batch_sizes=batch_sizes, optimizers=[\"sgd\"], \n",
        "                                losses=[\"categorical_crossentropy\"])"
      ]
    },
    {
      "cell_type": "code",
      "execution_count": null,
      "metadata": {
        "tags": [],
        "id": "fMImuX_va9Y6"
      },
      "outputs": [],
      "source": [
        "model_data = cmtd.get_train_data('VGG16', output_size=1000, progress=True)"
      ]
    },
    {
      "cell_type": "code",
      "execution_count": null,
      "metadata": {
        "id": "iTW4SFGXa9Y6"
      },
      "outputs": [],
      "source": [
        "GPU = 'Tesla K80'\n",
        "model = 'VGG16'"
      ]
    },
    {
      "cell_type": "code",
      "execution_count": null,
      "metadata": {
        "id": "Jxk3T-zza9Y7"
      },
      "outputs": [],
      "source": [
        "plt.figure(figsize=(20, 15))\n",
        "plt.scatter(batch_sizes, [i['batch_time'] for i in model_data])\n",
        "for x, y in zip(batch_sizes, [i['batch_time'] for i in model_data]):\n",
        "    plt.text(x, y+5, f'{x}', size=10)\n",
        "plt.title(f'{GPU}, {model}')\n",
        "plt.savefig('batch_training_time.png')"
      ]
    },
    {
      "cell_type": "code",
      "execution_count": null,
      "metadata": {
        "id": "B7qlgTRga9Y7"
      },
      "outputs": [],
      "source": [
        "import json"
      ]
    },
    {
      "cell_type": "code",
      "execution_count": null,
      "metadata": {
        "id": "OFrMxxQca9Y7"
      },
      "outputs": [],
      "source": [
        "save_data = {'tensorflow': tf.__version__, 'gpu': gpufeature.get_features(), 'train_data': model_data}"
      ]
    },
    {
      "cell_type": "code",
      "execution_count": null,
      "metadata": {
        "tags": [],
        "id": "UJL-oq3ea9Y8"
      },
      "outputs": [],
      "source": [
        "with open(f\"{GPU}_{model}.json\", \"w\") as write_file:\n",
        "    json.dump(save_data, write_file)\n"
      ]
    },
    {
      "cell_type": "code",
      "execution_count": null,
      "metadata": {
        "id": "oIyApIgaa9Y8"
      },
      "outputs": [],
      "source": [
        ""
      ]
    },
    {
      "cell_type": "code",
      "execution_count": null,
      "metadata": {
        "id": "egmBg_SVa9Y8"
      },
      "outputs": [],
      "source": [
        ""
      ]
    },
    {
      "cell_type": "code",
      "execution_count": null,
      "metadata": {
        "id": "9mgDgjWHa9Y8"
      },
      "outputs": [],
      "source": [
        ""
      ]
    }
  ],
  "metadata": {
    "accelerator": "GPU",
    "colab": {
      "collapsed_sections": [],
      "name": "ClassicModels.ipynb",
      "provenance": []
    },
    "environment": {
      "kernel": "python3",
      "name": "tf2-gpu.2-9.m93",
      "type": "gcloud",
      "uri": "gcr.io/deeplearning-platform-release/tf2-gpu.2-9:m93"
    },
    "kernelspec": {
      "display_name": "Python 3",
      "language": "python",
      "name": "python3"
    },
    "language_info": {
      "codemirror_mode": {
        "name": "ipython",
        "version": 3
      },
      "file_extension": ".py",
      "mimetype": "text/x-python",
      "name": "python",
      "nbconvert_exporter": "python",
      "pygments_lexer": "ipython3",
      "version": "3.7.12"
    }
  },
  "nbformat": 4,
  "nbformat_minor": 0
}